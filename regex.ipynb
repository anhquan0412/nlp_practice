{
 "cells": [
  {
   "cell_type": "code",
   "execution_count": 1,
   "metadata": {},
   "outputs": [],
   "source": [
    "import re\n",
    "import os"
   ]
  },
  {
   "cell_type": "code",
   "execution_count": 46,
   "metadata": {},
   "outputs": [],
   "source": [
    "x = \"0: 56: 26.540,0: 56: 28.529 bây giờ chúng ta không phải lo lắng về nó 0: 56: 28.529,0: 56: 34.210 Tôi sẽ nói với bạn điều này, mặc dù, cả SGD và mạng lưới thần kinh đều không phức tạp về mặt toán học 0: 56: 34.210,0: 56: 35.210. 0: 56: 35.210,0: 56: 38.829 Chúng gần như hoàn toàn là phép cộng và phép nhân. 0: 56: 38.829,0: 56: 45.109 Thủ thuật là rất nhiều trong số họ - giống như hàng tỷ người trong số họ - rất nhiều hơn chúng ta có thể nắm bắt bằng trực giác 0: 56: 45.109,0: 56: 46.109.\""
   ]
  },
  {
   "cell_type": "markdown",
   "metadata": {},
   "source": [
    "# Match everything nongreedy: Use ?"
   ]
  },
  {
   "cell_type": "code",
   "execution_count": 47,
   "metadata": {},
   "outputs": [],
   "source": [
    "x2= x[3:] + ' 0: '\n",
    "ts_start = '\\d\\d: \\d\\d\\.\\d\\d\\d,\\d: \\d\\d: \\d\\d\\.\\d\\d\\d'\n",
    "ts_end = '\\d: '\n",
    "res2 = re.compile(ts_start + '(.+?)' + ts_end).findall(x2) # use ? in (.+?) to match nongreedy: shortest match first"
   ]
  },
  {
   "cell_type": "markdown",
   "metadata": {},
   "source": [
    "## findall: return a list of tuples, each tuple shows \n",
    "\n",
    "- ALL the possible match (no group/ no parentheses) \n",
    "- or ALL possible group match (in parentheses) (biggest to smallest) of each match. Find recursively\n"
   ]
  },
  {
   "cell_type": "code",
   "execution_count": 48,
   "metadata": {},
   "outputs": [
    {
     "data": {
      "text/plain": [
       "[' bây giờ chúng ta không phải lo lắng về nó ',\n",
       " ' Tôi sẽ nói với bạn điều này, mặc dù, cả SGD và mạng lưới thần kinh đều không phức tạp về mặt toán học ',\n",
       " '. ',\n",
       " ' Chúng gần như hoàn toàn là phép cộng và phép nhân. ',\n",
       " ' Thủ thuật là rất nhiều trong số họ - giống như hàng tỷ người trong số họ - rất nhiều hơn chúng ta có thể nắm bắt bằng trực giác ',\n",
       " '. ']"
      ]
     },
     "execution_count": 48,
     "metadata": {},
     "output_type": "execute_result"
    }
   ],
   "source": [
    "res2"
   ]
  },
  {
   "cell_type": "markdown",
   "metadata": {},
   "source": [
    "## search and group\n",
    "- group(): find ONLY the first match that satisfy the whole regex (ignore grouping). \n",
    "- group(1): find the first group match in first parentheses (from the first match above)\n",
    "- group(2): find the match of 2nd group (if any) in second parentheses"
   ]
  },
  {
   "cell_type": "code",
   "execution_count": 49,
   "metadata": {},
   "outputs": [
    {
     "data": {
      "text/plain": [
       "<re.Match object; span=(0, 70), match='56: 26.540,0: 56: 28.529 bây giờ chúng ta không p>"
      ]
     },
     "execution_count": 49,
     "metadata": {},
     "output_type": "execute_result"
    }
   ],
   "source": [
    "temp = re.compile(ts_start + '(.+?)' + ts_end).search(x2)\n",
    "temp"
   ]
  },
  {
   "cell_type": "code",
   "execution_count": 51,
   "metadata": {},
   "outputs": [
    {
     "name": "stdout",
     "output_type": "stream",
     "text": [
      "56: 26.540,0: 56: 28.529 bây giờ chúng ta không phải lo lắng về nó 0: \n",
      " bây giờ chúng ta không phải lo lắng về nó \n"
     ]
    }
   ],
   "source": [
    "print(temp.group())\n",
    "print(temp.group(1))"
   ]
  },
  {
   "cell_type": "markdown",
   "metadata": {},
   "source": [
    "# Symbol in regex"
   ]
  },
  {
   "cell_type": "markdown",
   "metadata": {},
   "source": [
    "## ? (0 or 1 time)"
   ]
  },
  {
   "cell_type": "markdown",
   "metadata": {},
   "source": [
    "## * (>=0)\n"
   ]
  },
  {
   "cell_type": "code",
   "execution_count": 5,
   "metadata": {},
   "outputs": [],
   "source": [
    "temp_reg = re.compile(r'123*')\n",
    "# define \"123\"\n",
    "# var g = 123;"
   ]
  },
  {
   "cell_type": "code",
   "execution_count": 6,
   "metadata": {},
   "outputs": [
    {
     "data": {
      "text/plain": [
       "'1233'"
      ]
     },
     "execution_count": 6,
     "metadata": {},
     "output_type": "execute_result"
    }
   ],
   "source": [
    "temp_reg.search('abc1233xyz').group()"
   ]
  },
  {
   "cell_type": "markdown",
   "metadata": {},
   "source": [
    "## + (>=1)"
   ]
  },
  {
   "cell_type": "markdown",
   "metadata": {},
   "source": [
    "## ^ String has to match at the beginning of the text\n",
    "## $ String has to match at the end of the text\n"
   ]
  },
  {
   "cell_type": "markdown",
   "metadata": {},
   "source": [
    "## . anything (1 character) except newline \\n\n"
   ]
  },
  {
   "cell_type": "markdown",
   "metadata": {},
   "source": [
    "## (group) {< number of repetition >}"
   ]
  },
  {
   "cell_type": "code",
   "execution_count": 42,
   "metadata": {},
   "outputs": [
    {
     "data": {
      "text/plain": [
       "[('012-345-6789', '012-', ',')]"
      ]
     },
     "execution_count": 42,
     "metadata": {},
     "output_type": "execute_result"
    }
   ],
   "source": [
    "# phone_reg = re.compile(r'((\\d\\d\\d-)?\\d\\d\\d-\\d\\d\\d\\d(,)?){3}')\n",
    "phone_reg = re.compile(r'((\\d{3}-)?\\d{3}-\\d{4}(,)?){3}')\n",
    "s = 'My numbers: 123-456-7890,123-4567,012-345-6789 and 321-321-3210'\n",
    "phone_reg.findall(s)"
   ]
  },
  {
   "cell_type": "code",
   "execution_count": 43,
   "metadata": {},
   "outputs": [
    {
     "data": {
      "text/plain": [
       "'123-456-7890,123-4567,012-345-6789'"
      ]
     },
     "execution_count": 43,
     "metadata": {},
     "output_type": "execute_result"
    }
   ],
   "source": [
    "temp = phone_reg.search(s)\n",
    "temp.group()"
   ]
  },
  {
   "cell_type": "code",
   "execution_count": 44,
   "metadata": {},
   "outputs": [
    {
     "data": {
      "text/plain": [
       "('012-345-6789', '012-', ',')"
      ]
     },
     "execution_count": 44,
     "metadata": {},
     "output_type": "execute_result"
    }
   ],
   "source": [
    "temp.group(1),temp.group(2),temp.group(3)"
   ]
  },
  {
   "cell_type": "markdown",
   "metadata": {},
   "source": [
    "# Fastai regex"
   ]
  },
  {
   "cell_type": "code",
   "execution_count": 12,
   "metadata": {},
   "outputs": [],
   "source": [
    "re_punc = re.compile(\"([\\\"\\''().,;:/_?!—\\-])\") # add spaces around punctuation (to split later)\n",
    "re_apos = re.compile(r\"n ' t \")   \n",
    "re_bpos = re.compile(r\" ' s \")    \n",
    "re_mult_space = re.compile(r\"  *\")\n",
    "text = \"I don't know who Kara's new friend is-- is it 'Mr. Toad'?\"\n",
    "sent = re_punc.sub(r\" \\1 \", text)"
   ]
  },
  {
   "cell_type": "code",
   "execution_count": 13,
   "metadata": {},
   "outputs": [
    {
     "data": {
      "text/plain": [
       "\"I don ' t know who Kara ' s new friend is -  -  is it  ' Mr .  Toad '  ? \""
      ]
     },
     "execution_count": 13,
     "metadata": {},
     "output_type": "execute_result"
    }
   ],
   "source": [
    "sent"
   ]
  },
  {
   "cell_type": "code",
   "execution_count": 14,
   "metadata": {},
   "outputs": [
    {
     "data": {
      "text/plain": [
       "\"n ' t \""
      ]
     },
     "execution_count": 14,
     "metadata": {},
     "output_type": "execute_result"
    }
   ],
   "source": [
    "re_apos.search(sent).group()"
   ]
  },
  {
   "cell_type": "code",
   "execution_count": 11,
   "metadata": {},
   "outputs": [
    {
     "data": {
      "text/plain": [
       "\"'s \""
      ]
     },
     "execution_count": 11,
     "metadata": {},
     "output_type": "execute_result"
    }
   ],
   "source": [
    "re_bpos.search(text).group()"
   ]
  },
  {
   "cell_type": "code",
   "execution_count": 15,
   "metadata": {},
   "outputs": [],
   "source": [
    "def simple_toks(sent):\n",
    "    sent = re_punc.sub(r\" \\1 \", sent)\n",
    "    sent = re_apos.sub(r\" n't \", sent) # n ' t back to n't\n",
    "    sent = re_bpos.sub(r\" 's \", sent) # ' s back to 's\n",
    "    sent = re_mult_space.sub(' ', sent) # change multiple white space into one\n",
    "    return sent.lower().split() # split on white space"
   ]
  },
  {
   "cell_type": "code",
   "execution_count": 16,
   "metadata": {},
   "outputs": [
    {
     "data": {
      "text/plain": [
       "['i',\n",
       " 'do',\n",
       " \"n't\",\n",
       " 'know',\n",
       " 'who',\n",
       " 'kara',\n",
       " \"'s\",\n",
       " 'new',\n",
       " 'friend',\n",
       " 'is',\n",
       " '-',\n",
       " '-',\n",
       " 'is',\n",
       " 'it',\n",
       " \"'\",\n",
       " 'mr',\n",
       " '.',\n",
       " 'toad',\n",
       " \"'\",\n",
       " '?']"
      ]
     },
     "execution_count": 16,
     "metadata": {},
     "output_type": "execute_result"
    }
   ],
   "source": [
    "simple_toks(text)"
   ]
  },
  {
   "cell_type": "code",
   "execution_count": 21,
   "metadata": {},
   "outputs": [],
   "source": [
    "message = \"😒🎦 🤢🍕\"\n",
    "\n",
    "re_frown = re.compile(r\"😒|🤢\")\n",
    "# re_frown.sub(r\"😊\", message)"
   ]
  },
  {
   "cell_type": "code",
   "execution_count": 22,
   "metadata": {},
   "outputs": [
    {
     "data": {
      "text/plain": [
       "'😒'"
      ]
     },
     "execution_count": 22,
     "metadata": {},
     "output_type": "execute_result"
    }
   ],
   "source": [
    "re_frown.search(message).group()"
   ]
  },
  {
   "cell_type": "code",
   "execution_count": 23,
   "metadata": {},
   "outputs": [
    {
     "data": {
      "text/plain": [
       "['😒', '🤢']"
      ]
     },
     "execution_count": 23,
     "metadata": {},
     "output_type": "execute_result"
    }
   ],
   "source": [
    "re_frown.findall(message)"
   ]
  }
 ],
 "metadata": {
  "kernelspec": {
   "display_name": "Python 3",
   "language": "python",
   "name": "python3"
  },
  "language_info": {
   "codemirror_mode": {
    "name": "ipython",
    "version": 3
   },
   "file_extension": ".py",
   "mimetype": "text/x-python",
   "name": "python",
   "nbconvert_exporter": "python",
   "pygments_lexer": "ipython3",
   "version": "3.7.4"
  }
 },
 "nbformat": 4,
 "nbformat_minor": 4
}
