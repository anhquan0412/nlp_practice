{
 "cells": [
  {
   "cell_type": "markdown",
   "metadata": {
    "toc": true
   },
   "source": [
    "<h1>Table of Contents<span class=\"tocSkip\"></span></h1>\n",
    "<div class=\"toc\"><ul class=\"toc-item\"><li><span><a href=\"#cons-of-&quot;one-representation&quot;-of-words\" data-toc-modified-id=\"cons-of-&quot;one-representation&quot;-of-words-1\"><span class=\"toc-item-num\">1&nbsp;&nbsp;</span>cons of \"one representation\" of words</a></span></li><li><span><a href=\"#Contextual-word-embeddings-built-from-natural-machine-translation-(CoVe)\" data-toc-modified-id=\"Contextual-word-embeddings-built-from-natural-machine-translation-(CoVe)-2\"><span class=\"toc-item-num\">2&nbsp;&nbsp;</span>Contextual word embeddings built from natural machine translation (CoVe)</a></span></li><li><span><a href=\"#Tag-LM-(pre-ELMO)-for-Name-Entity-Recognition-(NER)\" data-toc-modified-id=\"Tag-LM-(pre-ELMO)-for-Name-Entity-Recognition-(NER)-3\"><span class=\"toc-item-num\">3&nbsp;&nbsp;</span>Tag LM (pre ELMO) for Name Entity Recognition (NER)</a></span></li><li><span><a href=\"#ELMO\" data-toc-modified-id=\"ELMO-4\"><span class=\"toc-item-num\">4&nbsp;&nbsp;</span>ELMO</a></span><ul class=\"toc-item\"><li><span><a href=\"#weighting-of-layers-for-different-tasks\" data-toc-modified-id=\"weighting-of-layers-for-different-tasks-4.1\"><span class=\"toc-item-num\">4.1&nbsp;&nbsp;</span>weighting of layers for different tasks</a></span></li><li><span><a href=\"#Bidirectional-LSTM-language-model\" data-toc-modified-id=\"Bidirectional-LSTM-language-model-4.2\"><span class=\"toc-item-num\">4.2&nbsp;&nbsp;</span>Bidirectional LSTM language model</a></span></li><li><span><a href=\"#Word-embeddings-built-by-ELMO\" data-toc-modified-id=\"Word-embeddings-built-by-ELMO-4.3\"><span class=\"toc-item-num\">4.3&nbsp;&nbsp;</span>Word embeddings built by ELMO</a></span></li></ul></li><li><span><a href=\"#Transformer\" data-toc-modified-id=\"Transformer-5\"><span class=\"toc-item-num\">5&nbsp;&nbsp;</span>Transformer</a></span></li><li><span><a href=\"#Self-attention\" data-toc-modified-id=\"Self-attention-6\"><span class=\"toc-item-num\">6&nbsp;&nbsp;</span>Self-attention</a></span><ul class=\"toc-item\"><li><span><a href=\"#Why-do-we-need-to-scale-by-sqrt(dk)\" data-toc-modified-id=\"Why-do-we-need-to-scale-by-sqrt(dk)-6.1\"><span class=\"toc-item-num\">6.1&nbsp;&nbsp;</span>Why do we need to scale by sqrt(dk)</a></span></li><li><span><a href=\"#Review-definition-of-Attention\" data-toc-modified-id=\"Review-definition-of-Attention-6.2\"><span class=\"toc-item-num\">6.2&nbsp;&nbsp;</span>Review definition of Attention</a></span></li></ul></li><li><span><a href=\"#Transformer's-Encoder\" data-toc-modified-id=\"Transformer's-Encoder-7\"><span class=\"toc-item-num\">7&nbsp;&nbsp;</span>Transformer's Encoder</a></span><ul class=\"toc-item\"><li><span><a href=\"#Self-attention-in-the-encoder\" data-toc-modified-id=\"Self-attention-in-the-encoder-7.1\"><span class=\"toc-item-num\">7.1&nbsp;&nbsp;</span>Self-attention in the <strong>encoder</strong></a></span></li><li><span><a href=\"#Multihead-attention\" data-toc-modified-id=\"Multihead-attention-7.2\"><span class=\"toc-item-num\">7.2&nbsp;&nbsp;</span>Multihead attention</a></span></li><li><span><a href=\"#Why-we-need-to-do-a-linear-tfm-for-Q,K,V-(e.g.-Q@Wi)-before-doing-attention?\" data-toc-modified-id=\"Why-we-need-to-do-a-linear-tfm-for-Q,K,V-(e.g.-Q@Wi)-before-doing-attention?-7.3\"><span class=\"toc-item-num\">7.3&nbsp;&nbsp;</span>Why we need to do a linear tfm for Q,K,V (e.g. Q@Wi) before doing attention?</a></span></li><li><span><a href=\"#Complete-transformer-block\" data-toc-modified-id=\"Complete-transformer-block-7.4\"><span class=\"toc-item-num\">7.4&nbsp;&nbsp;</span>Complete transformer block</a></span></li><li><span><a href=\"#Residual-layer\" data-toc-modified-id=\"Residual-layer-7.5\"><span class=\"toc-item-num\">7.5&nbsp;&nbsp;</span>Residual layer</a></span></li><li><span><a href=\"#Fully-connected-feed-forward-network\" data-toc-modified-id=\"Fully-connected-feed-forward-network-7.6\"><span class=\"toc-item-num\">7.6&nbsp;&nbsp;</span>Fully connected feed-forward network</a></span></li><li><span><a href=\"#Layer-norm\" data-toc-modified-id=\"Layer-norm-7.7\"><span class=\"toc-item-num\">7.7&nbsp;&nbsp;</span>Layer norm</a></span></li><li><span><a href=\"#Multi-block-with-multi-head-attention-vs-LSTM/RNN\" data-toc-modified-id=\"Multi-block-with-multi-head-attention-vs-LSTM/RNN-7.8\"><span class=\"toc-item-num\">7.8&nbsp;&nbsp;</span>Multi-block with multi-head attention vs LSTM/RNN</a></span></li><li><span><a href=\"#The-complete-encoder\" data-toc-modified-id=\"The-complete-encoder-7.9\"><span class=\"toc-item-num\">7.9&nbsp;&nbsp;</span>The complete encoder</a></span></li><li><span><a href=\"#Token-embeddings-and-tie-weight-(weight-sharing)\" data-toc-modified-id=\"Token-embeddings-and-tie-weight-(weight-sharing)-7.10\"><span class=\"toc-item-num\">7.10&nbsp;&nbsp;</span>Token embeddings and tie-weight (weight sharing)</a></span></li><li><span><a href=\"#Positional-encoding\" data-toc-modified-id=\"Positional-encoding-7.11\"><span class=\"toc-item-num\">7.11&nbsp;&nbsp;</span>Positional encoding</a></span><ul class=\"toc-item\"><li><span><a href=\"#Relative-vs-Absolute-Position\" data-toc-modified-id=\"Relative-vs-Absolute-Position-7.11.1\"><span class=\"toc-item-num\">7.11.1&nbsp;&nbsp;</span>Relative vs Absolute Position</a></span></li><li><span><a href=\"#Learnable-positional-encoding\" data-toc-modified-id=\"Learnable-positional-encoding-7.11.2\"><span class=\"toc-item-num\">7.11.2&nbsp;&nbsp;</span>Learnable positional encoding</a></span></li><li><span><a href=\"#Function-based-positional-encoding\" data-toc-modified-id=\"Function-based-positional-encoding-7.11.3\"><span class=\"toc-item-num\">7.11.3&nbsp;&nbsp;</span>Function-based positional encoding</a></span></li></ul></li><li><span><a href=\"#BERT-vs-GPT-in-term-of-positional-encoding\" data-toc-modified-id=\"BERT-vs-GPT-in-term-of-positional-encoding-7.12\"><span class=\"toc-item-num\">7.12&nbsp;&nbsp;</span>BERT vs GPT in term of positional encoding</a></span></li><li><span><a href=\"#TODO:-visualization-in-encoder\" data-toc-modified-id=\"TODO:-visualization-in-encoder-7.13\"><span class=\"toc-item-num\">7.13&nbsp;&nbsp;</span>TODO: visualization in encoder</a></span></li></ul></li><li><span><a href=\"#Transformer's-Decoder\" data-toc-modified-id=\"Transformer's-Decoder-8\"><span class=\"toc-item-num\">8&nbsp;&nbsp;</span>Transformer's Decoder</a></span><ul class=\"toc-item\"><li><span><a href=\"#Output-of-Decoder-for-training\" data-toc-modified-id=\"Output-of-Decoder-for-training-8.1\"><span class=\"toc-item-num\">8.1&nbsp;&nbsp;</span>Output of Decoder for training</a></span></li><li><span><a href=\"#Masks\" data-toc-modified-id=\"Masks-8.2\"><span class=\"toc-item-num\">8.2&nbsp;&nbsp;</span>Masks</a></span></li><li><span><a href=\"#Output-of-Decoder-for-Inference\" data-toc-modified-id=\"Output-of-Decoder-for-Inference-8.3\"><span class=\"toc-item-num\">8.3&nbsp;&nbsp;</span>Output of Decoder for Inference</a></span></li></ul></li><li><span><a href=\"#Dropout\" data-toc-modified-id=\"Dropout-9\"><span class=\"toc-item-num\">9&nbsp;&nbsp;</span>Dropout</a></span></li><li><span><a href=\"#Full-model\" data-toc-modified-id=\"Full-model-10\"><span class=\"toc-item-num\">10&nbsp;&nbsp;</span>Full model</a></span></li><li><span><a href=\"#OpenAI-GPT\" data-toc-modified-id=\"OpenAI-GPT-11\"><span class=\"toc-item-num\">11&nbsp;&nbsp;</span>OpenAI GPT</a></span><ul class=\"toc-item\"><li><span><a href=\"#Plugging-the-classification-head\" data-toc-modified-id=\"Plugging-the-classification-head-11.1\"><span class=\"toc-item-num\">11.1&nbsp;&nbsp;</span>Plugging the classification head</a></span></li><li><span><a href=\"#Other-tasks?\" data-toc-modified-id=\"Other-tasks?-11.2\"><span class=\"toc-item-num\">11.2&nbsp;&nbsp;</span>Other tasks?</a></span></li></ul></li><li><span><a href=\"#BERT\" data-toc-modified-id=\"BERT-12\"><span class=\"toc-item-num\">12&nbsp;&nbsp;</span>BERT</a></span><ul class=\"toc-item\"><li><span><a href=\"#BERT-next-sentence-prediction\" data-toc-modified-id=\"BERT-next-sentence-prediction-12.1\"><span class=\"toc-item-num\">12.1&nbsp;&nbsp;</span>BERT next sentence prediction</a></span></li><li><span><a href=\"#a-typical-embedding-input-of-BERT\" data-toc-modified-id=\"a-typical-embedding-input-of-BERT-12.2\"><span class=\"toc-item-num\">12.2&nbsp;&nbsp;</span>a typical embedding input of BERT</a></span></li><li><span><a href=\"#losses\" data-toc-modified-id=\"losses-12.3\"><span class=\"toc-item-num\">12.3&nbsp;&nbsp;</span>losses</a></span></li><li><span><a href=\"#Plugging-the-classification-head\" data-toc-modified-id=\"Plugging-the-classification-head-12.4\"><span class=\"toc-item-num\">12.4&nbsp;&nbsp;</span>Plugging the classification head</a></span></li><li><span><a href=\"#BERT-model-architecture-and-training\" data-toc-modified-id=\"BERT-model-architecture-and-training-12.5\"><span class=\"toc-item-num\">12.5&nbsp;&nbsp;</span>BERT model architecture and training</a></span></li><li><span><a href=\"#BERT-model-finetuning\" data-toc-modified-id=\"BERT-model-finetuning-12.6\"><span class=\"toc-item-num\">12.6&nbsp;&nbsp;</span>BERT model finetuning</a></span></li></ul></li><li><span><a href=\"#AlBERT\" data-toc-modified-id=\"AlBERT-13\"><span class=\"toc-item-num\">13&nbsp;&nbsp;</span>AlBERT</a></span></li></ul></div>"
   ]
  },
  {
   "cell_type": "markdown",
   "metadata": {},
   "source": [
    "# cons of \"one representation\" of words"
   ]
  },
  {
   "cell_type": "markdown",
   "metadata": {},
   "source": [
    "Up until now, we’ve basically had one representation of words: The word vectors that we learned about at the beginning\n",
    "- Word2vec, GloVe, fastText\n",
    "    \n",
    "Problems:\n",
    "- **Problem 1**: a word can have different meanings (\"sense\"), depending on the context, and now we try to collapse all the meanings of a word into 1 single vector, and hope that your model is complex enough that it can pick out the correct word meaning\n",
    "- quick solution: define different word-senses for each word and build a vector for each\n",
    "\n",
    "=> what you want is to **build not a perfect word vector that can capture all of its meanings, but a word vector that is correct in your given context**\n",
    "\n",
    "- **Problem 2**: on a more general view, not just different meanings but words have different aspects, including semantics, syntactic behavior, and register/connotations.\n",
    "    "
   ]
  },
  {
   "cell_type": "markdown",
   "metadata": {},
   "source": [
    "However, these problems have been solved by the process of building a language model that predicts next word; **by doing so you already generate a context-specific representation of words**"
   ]
  },
  {
   "cell_type": "markdown",
   "metadata": {},
   "source": [
    "# Contextual word embeddings built from natural machine translation (CoVe)"
   ]
  },
  {
   "cell_type": "markdown",
   "metadata": {},
   "source": [
    "Reminder:\n",
    "\n",
    "![](s4/translation_attention_archi.jpg)"
   ]
  },
  {
   "cell_type": "markdown",
   "metadata": {},
   "source": [
    "The limitation of CoVe is obvious: \n",
    "- (1) **pre-training is bounded by available datasets on the supervised translation task**;\n",
    "    - Since encoder and decoder are trained end-to-end at the same time, encoder only uses dataset from translation task to update weight embedding (as opposed to be trained separately on bigger dataset such as WikiText - as seen in ULMFIT and advanced tranformer architecture\n",
    "- (2) the contribution of CoVe to the final performance is constrained by the task-specific model architecture (as each task requires a specific model).\n",
    "    - **The power of CoVe word embedding is constrained by the limited choices of model architecture and the limited power of task-specific model. At this point we only have LSTM model (with attention perhaps)** with few layer deep, unlike stacking Transformers that we will see soon\n",
    "        - **We need a model architecture that can train word embedding and that same model can be finetuned on numerous task**\n",
    "        - **We need a model architecture that is good for every task to take away this task-dependency**, similar to a CNN model with replacable head for tasks. This is what BERT or OpenAI-GPT can do"
   ]
  },
  {
   "cell_type": "markdown",
   "metadata": {},
   "source": [
    "# Tag LM (pre ELMO) for Name Entity Recognition (NER)"
   ]
  },
  {
   "cell_type": "markdown",
   "metadata": {},
   "source": [
    "![](images/context_1.png)"
   ]
  },
  {
   "cell_type": "markdown",
   "metadata": {},
   "source": [
    "Note that \"word embedding model\" is the word embedding from w2v/glove/fasttext"
   ]
  },
  {
   "cell_type": "markdown",
   "metadata": {},
   "source": [
    "![](images/context_2.png)"
   ]
  },
  {
   "cell_type": "markdown",
   "metadata": {},
   "source": [
    "Token embedding is from w2v/glove/fasttext\n",
    "\n",
    "Note: \n",
    "- only concat the hidden state, not the embeddings of LM model and w2v model\n",
    "- This is **not end-to-end training**: by 'pretrained', we only use the output hidden state of LM model as input for the Sequence-tagging feature. **In another word, the LM model is trained first ('pretrained') and is frozen after we extract the hidden states**\n"
   ]
  },
  {
   "cell_type": "markdown",
   "metadata": {},
   "source": [
    "# ELMO"
   ]
  },
  {
   "cell_type": "markdown",
   "metadata": {},
   "source": [
    "Peters et al. (2018): ELMo: Embeddings from Language\n",
    "Models\n",
    "- Train a bidirectional LM\n",
    "- Aim at performant but not overly large LM:\n",
    "    - Use 2 biLSTM layers\n",
    "    - Use character CNN to build initial word representation (only)\n",
    "        - 2048 char n-gram filters and 2 highway layers, 512 dim projection\n",
    "    - User 4096 dim hidden/cell LSTM states with 512 dim projections to next input\n",
    "    - Use a residual connection\n",
    "    - Tie parameters of token input and output (softmax) and tie these between forward and backward LMs\n",
    "    \n",
    "    \n",
    "    \n",
    "- TagLM uses only the top layer of LSTM stack; **ELMO utilizes all the layers of LSTM stack, and assign a learnable scaling factor to determine how much of a layer (which can contribute to a \"task\") to take in**\n",
    "    - First run biLM to get representations for each word\n",
    "    - Then let (whatever) end-task model use them\n",
    "        - Freeze weights of ELMo for purposes of supervised model\n",
    "        - Concatenate ELMo weights into task-specific model\n",
    "        - Details depend on task\n",
    "            - Concatenating into intermediate layer as for TagLM is typical\n",
    "            - Can provide ELMo representations again when producing outputs, as in a question answering system"
   ]
  },
  {
   "cell_type": "markdown",
   "metadata": {},
   "source": [
    "## weighting of layers for different tasks"
   ]
  },
  {
   "cell_type": "markdown",
   "metadata": {},
   "source": [
    "The two biLSTM NLM layers have differentiated uses/meanings\n",
    "- Lower layer is better for lower-level syntax, etc.\n",
    "    - Part-of-speech tagging, syntactic dependencies, NER\n",
    "- Higher layer is better for higher-level semantics\n",
    "    - Sentiment, Semantic role labeling, question answering, SNLI"
   ]
  },
  {
   "cell_type": "markdown",
   "metadata": {},
   "source": [
    "## Bidirectional LSTM language model"
   ]
  },
  {
   "cell_type": "markdown",
   "metadata": {},
   "source": [
    "https://lilianweng.github.io/lil-log/2019/01/31/generalized-language-models.html#bidirectional-language-model"
   ]
  },
  {
   "cell_type": "markdown",
   "metadata": {},
   "source": [
    "![](images/bidirectional_lstm1.png)"
   ]
  },
  {
   "cell_type": "markdown",
   "metadata": {},
   "source": [
    "https://medium.com/@plusepsilon/the-bidirectional-language-model-1f3961d1fb27"
   ]
  },
  {
   "cell_type": "markdown",
   "metadata": {},
   "source": [
    "![](https://miro.medium.com/max/700/1*PB5HXSXOGJrnDa_Si4nj9Q.png)"
   ]
  },
  {
   "cell_type": "markdown",
   "metadata": {},
   "source": [
    "## Word embeddings built by ELMO"
   ]
  },
  {
   "cell_type": "markdown",
   "metadata": {},
   "source": [
    "Elmo presents a word as a **linear combination of corresponding hidden layers and the original embedding**\n",
    "\n",
    "Therefore, length of word embedding should be N times length of a hidden state. N is number of time we stack the LSTM (N=2 in this example)"
   ]
  },
  {
   "cell_type": "markdown",
   "metadata": {},
   "source": [
    "![](images/elmo.png)"
   ]
  },
  {
   "cell_type": "markdown",
   "metadata": {},
   "source": [
    "# Transformer"
   ]
  },
  {
   "cell_type": "markdown",
   "metadata": {},
   "source": [
    "http://nlp.seas.harvard.edu/2018/04/03/attention.html"
   ]
  },
  {
   "cell_type": "markdown",
   "metadata": {},
   "source": [
    "We want parallelization but RNNs are inherently sequential\n",
    "- Despite GRUs and LSTMs, **RNNs still need attention mechanism to deal with long range dependencies** – path length between states grows with sequence otherwise\n",
    "- But if attention gives us access to any state… **maybe we can just use attention and don’t need the RNN?**\n"
   ]
  },
  {
   "cell_type": "markdown",
   "metadata": {},
   "source": [
    "![](images/transformer_1.png)"
   ]
  },
  {
   "cell_type": "markdown",
   "metadata": {},
   "source": [
    "# Self-attention"
   ]
  },
  {
   "cell_type": "markdown",
   "metadata": {},
   "source": [
    "![](images/transformer_2.png)"
   ]
  },
  {
   "cell_type": "markdown",
   "metadata": {},
   "source": [
    "![](images/transformer_3.png)"
   ]
  },
  {
   "cell_type": "markdown",
   "metadata": {},
   "source": [
    "![](images/transformer_12.png)"
   ]
  },
  {
   "cell_type": "markdown",
   "metadata": {},
   "source": [
    "![](images/selfattention_1.png)"
   ]
  },
  {
   "cell_type": "markdown",
   "metadata": {},
   "source": [
    "We want to re-represent the word 'represent' in the above picture\n",
    "- this word is our 'query'\n",
    "- query can just initially be word-embedding\n",
    "- **we attend (do dot product) this with all its neighbors** (let's,this,sentence). **Its neighbors are matrix K**, and this step is known as q@K or Q@KT (for the whole matrix Q). This produce attention score\n",
    "- (scale) and then softmax to have attention distribution (attention probability). \n",
    "- then multiply this distribution to **the value (V) which is just the neighborhood itself** and add them, aka produce a weighted combination of your entire neighborhood\n",
    "- then you can add a feed-forward network to compute new features\n",
    "\n",
    "=> **Definition of Self-attention**: you **re-express yourself based on the similarity b/t you and your neighbors, by doing a weight combination (dot product) of your entire neighborhood**\n",
    "\n",
    "**important note**: attention (and self-attention) in general is **permutation invariant: switching orders of words and the results are still the same after applying attention**\n",
    "\n",
    "(so to maintain order we need positional encoding. See more below)"
   ]
  },
  {
   "cell_type": "markdown",
   "metadata": {},
   "source": [
    "## Why do we need to scale by sqrt(dk)\n"
   ]
  },
  {
   "cell_type": "markdown",
   "metadata": {},
   "source": [
    "![](images/scale_dk.png)"
   ]
  },
  {
   "cell_type": "code",
   "execution_count": 19,
   "metadata": {},
   "outputs": [],
   "source": [
    "import numpy as np"
   ]
  },
  {
   "cell_type": "code",
   "execution_count": 20,
   "metadata": {},
   "outputs": [],
   "source": [
    "Q = np.random.randn(100, 1024)\n",
    "Kt = np.random.randn(1024,100)"
   ]
  },
  {
   "cell_type": "code",
   "execution_count": 21,
   "metadata": {},
   "outputs": [
    {
     "data": {
      "text/plain": [
       "(0.004626749610213863, 1.0032595370128088)"
      ]
     },
     "execution_count": 21,
     "metadata": {},
     "output_type": "execute_result"
    }
   ],
   "source": [
    "np.mean(Q),np.std(Q)"
   ]
  },
  {
   "cell_type": "code",
   "execution_count": 22,
   "metadata": {},
   "outputs": [],
   "source": [
    "tmp = Q@Kt"
   ]
  },
  {
   "cell_type": "code",
   "execution_count": 23,
   "metadata": {},
   "outputs": [
    {
     "data": {
      "text/plain": [
       "(0.588758505286575, 998.3248980019707, 31.596279812692675)"
      ]
     },
     "execution_count": 23,
     "metadata": {},
     "output_type": "execute_result"
    }
   ],
   "source": [
    "np.mean(tmp),np.var(tmp),np.std(tmp)"
   ]
  },
  {
   "cell_type": "markdown",
   "metadata": {},
   "source": [
    "## Review definition of Attention"
   ]
  },
  {
   "cell_type": "markdown",
   "metadata": {},
   "source": [
    "- On each step of the decoder, use **direct connection to the encoder** to **focus on particular part** of **source sentence**\n",
    "- More formal: a **content-based, memory retrieval mechanism**\n",
    "    - You have a vector in decoder to attend to all this content ( representations/hidden states) from your encoder to decide what information to absorb, **based on how similar this content is to every position in the memory**\n",
    "    \n",
    "![](images/qkv_in_attention_rnn.png)"
   ]
  },
  {
   "cell_type": "markdown",
   "metadata": {},
   "source": [
    "# Transformer's Encoder"
   ]
  },
  {
   "cell_type": "markdown",
   "metadata": {},
   "source": [
    "## Self-attention in the **encoder**"
   ]
  },
  {
   "cell_type": "markdown",
   "metadata": {},
   "source": [
    "- The input word vectors are the queries, keys and values\n",
    "- In other words: the word vectors themselves select each other\n",
    "- Word vector stack = Q = K = V\n",
    "- We’ll see in the decoder why we separate them in the definition\n",
    "\n",
    "In a self-attention layer all of the keys, values and queries come from the same place, in this case, the output of the previous layer in the encode"
   ]
  },
  {
   "cell_type": "markdown",
   "metadata": {},
   "source": [
    "## Multihead attention"
   ]
  },
  {
   "cell_type": "markdown",
   "metadata": {},
   "source": [
    "![](images/transformer_4.png)"
   ]
  },
  {
   "cell_type": "markdown",
   "metadata": {},
   "source": [
    "**Why?**\n",
    "\n",
    "By mapping Q,K,V to a lower dimensional space (for each head) using linear tfm, **each head can represent different feature space (syntax, nouns ...) so the attention result can be a MIXING PROPORTIONS of different type of information for each head**"
   ]
  },
  {
   "cell_type": "markdown",
   "metadata": {},
   "source": [
    "For the e.g below, we have 3 heads, and imagine green arrow captures \"who\" feature, red captures \"did what\" feature and purpil captures \"to whom\". In a sense, **this technique simulate CNN kernel with multiple filters that can filter out different information with each of its filter**"
   ]
  },
  {
   "cell_type": "markdown",
   "metadata": {},
   "source": [
    "![](images/selfattention_3.png)"
   ]
  },
  {
   "cell_type": "markdown",
   "metadata": {},
   "source": [
    "Note: mapping Q,K,V to multiple **lower dimensional spaces** using **fully-connected linear layer**\n",
    "- for head 1 (i=1), use weight matrix WiQ for Q, W1K for K and W1V for V"
   ]
  },
  {
   "cell_type": "markdown",
   "metadata": {},
   "source": [
    "$$\n",
    "W^Q_i \\in\n",
    "\\mathbb{R}^{d_{\\text{model}} \\times d_k},\n",
    "W^K_i \\in\n",
    "\\mathbb{R}^{d_{\\text{model}} \\times d_k},\n",
    "W^V_i \\in\n",
    "\\mathbb{R}^{d_{\\text{model}} \\times d_v}, \n",
    "W^O \\in \\mathbb{R}^{hd_v \\times\n",
    "d_{\\text{model}}}\n",
    "$$"
   ]
  },
  {
   "cell_type": "markdown",
   "metadata": {},
   "source": [
    "$$\n",
    "d_k=d_v=d_{\\text{model}}/h=64\n",
    "$$"
   ]
  },
  {
   "cell_type": "markdown",
   "metadata": {},
   "source": [
    "- Instead of doing this for the entire columns of Q,K,V\n",
    "$$\n",
    "\\mathrm{Attention}(Q, K, V) = \\mathrm{softmax}(\\frac{QK^T}{\\sqrt{d_k}})V\n",
    "$$\n",
    "we will chop each matrix with originally d_model columns into h sub-matrices by doing matmul with h weight matrices as stated above\n",
    "\n",
    "In practices, for each Q,K and V, we combine h weight matrices into 1 matrix with shape (d_model,d_model) to optimize calculation **(see graph below)**"
   ]
  },
  {
   "cell_type": "markdown",
   "metadata": {},
   "source": [
    "## Why we need to do a linear tfm for Q,K,V (e.g. Q@Wi) before doing attention?"
   ]
  },
  {
   "cell_type": "markdown",
   "metadata": {},
   "source": [
    "![](images/selfattention_2.png)\n",
    "\n",
    "(at the lower left corner)"
   ]
  },
  {
   "cell_type": "markdown",
   "metadata": {},
   "source": [
    "**Linear tfm used here can be thought as to generate features**: you **project these vectors into a space using learnable parameters**, so that when dot product is applied, IT CAN BE A **GOOD PROXY FOR SIMILARITY**"
   ]
  },
  {
   "cell_type": "markdown",
   "metadata": {},
   "source": [
    "![](images/multihead2.jpg)"
   ]
  },
  {
   "cell_type": "markdown",
   "metadata": {},
   "source": [
    "![](images/multihead1.jpg)"
   ]
  },
  {
   "cell_type": "code",
   "execution_count": 1,
   "metadata": {},
   "outputs": [],
   "source": [
    "def attention(query, key, value, mask=None, dropout=None):\n",
    "    \"\"\"\n",
    "    Compute 'Scaled Dot Product Attention'\n",
    "    query: shape (bs,h, n, d_k) as n is # of rows in 1 batch of \"query\", h is number of heads for attention\n",
    "    key: shape (bs,h, m, d_k) as m is # of rows in 1 batch of \"key\"\n",
    "    value: shape (bs, h, m, d_k)\n",
    "    \n",
    "    Note that n = m, and n can be sent_length (number of words for each batch)\n",
    "    \"\"\" \n",
    "\n",
    "    d_k = query.size(-1)\n",
    "    scores = torch.matmul(query, key.transpose(-2, -1)) / math.sqrt(d_k)\n",
    "    # (bs,h, n, d_k) @ (bs,h, m, d_k)^T = (bs,h,n,m) aka QKt\n",
    "    if mask is not None:\n",
    "        scores = scores.masked_fill(mask == 0, -1e9) # fill mask before softmax\n",
    "    p_attn = F.softmax(scores, dim = -1)\n",
    "    if dropout is not None:\n",
    "        p_attn = dropout(p_attn)\n",
    "    return torch.matmul(p_attn, value), p_attn # (bs,h,n,m) @ (bs, h, m, d_k) = (bs,h,n,d_k)"
   ]
  },
  {
   "cell_type": "code",
   "execution_count": null,
   "metadata": {},
   "outputs": [],
   "source": [
    "class MultiHeadedAttention(nn.Module):\n",
    "    def __init__(self, h, d_model, dropout=0.1):\n",
    "        \"Take in model size and number of heads.\"\n",
    "        super(MultiHeadedAttention, self).__init__()\n",
    "        assert d_model % h == 0\n",
    "        # We assume d_v always equals d_k\n",
    "        self.d_k = d_model // h\n",
    "        self.h = h\n",
    "        self.linears = clones(nn.Linear(d_model, d_model), 4) # 4 linear layers\n",
    "        # we use the first 3 linears (Wq,Wk and Wv) to calculate attention,\n",
    "        # and the last linear (Wo) to project attention \n",
    "        \n",
    "        # note that technically Wq (or Wk,Wv) is a combination of \n",
    "        # h sub matrices shape (d_model,d_k) for projection to h lower dimensional space\n",
    "\n",
    "        self.attn = None\n",
    "        self.dropout = nn.Dropout(p=dropout)\n",
    "        \n",
    "    def forward(self, query, key, value, mask=None):\n",
    "        \"\"\"\n",
    "        Implements Figure 2\n",
    "        \n",
    "        query: (bs,n,d_model)\n",
    "        key: (bs,m,d_model)\n",
    "        value: (bs,m,d_model)\n",
    "        \n",
    "        Note that d_model = h * d_k\n",
    "        and d_k = d_v \n",
    "        Also n = m\n",
    "        n can be sent_length (number of words for each batch)\n",
    "        \"\"\"\n",
    "        if mask is not None:\n",
    "            # Same mask applied to all h heads.\n",
    "            mask = mask.unsqueeze(1)\n",
    "        nbatches = query.size(0)\n",
    "        \n",
    "        # 1) Do all the linear projections in batch from d_model => h x d_k \n",
    "        query, key, value = \\\n",
    "            [l(x).view(nbatches, -1, self.h, self.d_k).transpose(1, 2)\n",
    "             for l, x in zip(self.linears, (query, key, value))]\n",
    "        # for query: (bs,n,d_model)@(d_model,d_model) = (bs,n,d_model) = (bs,n,h,d_k) = (bs,h,n,d_k)\n",
    "        # do the same for key and value\n",
    "        \n",
    "        # 2) Apply attention on all the projected vectors in batch. \n",
    "        x, self.attn = attention(query, key, value, mask=mask, \n",
    "                                 dropout=self.dropout)\n",
    "        # x has shape (bs,h,n,d_k)\n",
    "        \n",
    "        # 3) \"Concat\" using a view and apply a final linear. \n",
    "        x = x.transpose(1, 2).contiguous().view(nbatches, -1, self.h * self.d_k)\n",
    "        # (bs,h,n,d_k) = (bs,n,h,d_k) = (bs,n, h*d_k) aka (bs,n,d_model) then @ (d_model,d_model)\n",
    "        return self.linears[-1](x)"
   ]
  },
  {
   "cell_type": "markdown",
   "metadata": {},
   "source": [
    "## Complete transformer block"
   ]
  },
  {
   "cell_type": "markdown",
   "metadata": {},
   "source": [
    "![](images/transformer_5.png)"
   ]
  },
  {
   "cell_type": "code",
   "execution_count": null,
   "metadata": {},
   "outputs": [],
   "source": [
    "class SublayerConnection(nn.Module):\n",
    "    \"\"\"\n",
    "    A residual connection followed by a layer norm.\n",
    "    Note for code simplicity the norm is first as opposed to last.\n",
    "    \"\"\"\n",
    "    def __init__(self, size, dropout):\n",
    "        super(SublayerConnection, self).__init__()\n",
    "        self.norm = LayerNorm(size)\n",
    "        self.dropout = nn.Dropout(dropout)\n",
    "\n",
    "    def forward(self, x, sublayer):\n",
    "        \"Apply residual connection to any sublayer with the same size.\"\n",
    "        \"\"\"\n",
    "        x shape: (bs,n,d_model)\n",
    "        n can be sent_length (number of words for each batch)\n",
    "        \"\"\"\n",
    "\n",
    "        return x + self.dropout(sublayer(self.norm(x))) \n",
    "        # apply residual to multiheaded attention or fully connected NNs based on 'sublayer'\n",
    "        # Note: Residuals carry positional information to higher layers, among other information"
   ]
  },
  {
   "cell_type": "code",
   "execution_count": null,
   "metadata": {},
   "outputs": [],
   "source": [
    "class EncoderLayer(nn.Module):\n",
    "    \"Encoder is made up of self-attn and feed forward (defined below)\"\n",
    "    def __init__(self, size, self_attn, feed_forward, dropout):\n",
    "        super(EncoderLayer, self).__init__()\n",
    "        self.self_attn = self_attn # which is MultiHeadedAttention as defined above\n",
    "        self.feed_forward = feed_forward # two linear transformations with a ReLU activation in between. See below\n",
    "        self.sublayer = clones(SublayerConnection(size, dropout), 2)\n",
    "        self.size = size\n",
    "\n",
    "    def forward(self, x, mask):\n",
    "        \"Follow Figure 1 (left) for connections.\"\n",
    "        \"\"\"\n",
    "        x shape: (bs,n,d_model)\n",
    "        n can be sent_length (number of words for each batch)\n",
    "        \"\"\"\n",
    "        x = self.sublayer[0](x, lambda x: self.self_attn(x, x, x, mask))\n",
    "        # In a self-attention layer all of the keys, values and queries come from the same place, \n",
    "        # in this case, the output of the previous layer in the encoder\n",
    "        return self.sublayer[1](x, self.feed_forward) "
   ]
  },
  {
   "cell_type": "markdown",
   "metadata": {},
   "source": [
    "## Residual layer"
   ]
  },
  {
   "cell_type": "markdown",
   "metadata": {},
   "source": [
    "use residuals layer (skip connection) to not only make gradient flow better (avoid vanishing gradients), also to keep positional information from lower layer to high layer)"
   ]
  },
  {
   "cell_type": "markdown",
   "metadata": {},
   "source": [
    "![](images/residual.png)"
   ]
  },
  {
   "cell_type": "markdown",
   "metadata": {},
   "source": [
    "## Fully connected feed-forward network"
   ]
  },
  {
   "cell_type": "markdown",
   "metadata": {},
   "source": [
    "Each of the layers in our encoder and decoder contains a fully connected feed-forward network, which is applied to each position separately and identically. This consists of two linear transformations with a ReLU activation in between."
   ]
  },
  {
   "cell_type": "code",
   "execution_count": null,
   "metadata": {},
   "outputs": [],
   "source": [
    "class PositionwiseFeedForward(nn.Module):\n",
    "    \"Implements FFN equation.\"\n",
    "    def __init__(self, d_model=512, d_ff=2048, dropout=0.1):\n",
    "        super(PositionwiseFeedForward, self).__init__()\n",
    "        self.w_1 = nn.Linear(d_model, d_ff)\n",
    "        self.w_2 = nn.Linear(d_ff, d_model)\n",
    "        self.dropout = nn.Dropout(dropout)\n",
    "\n",
    "    def forward(self, x):\n",
    "        return self.w_2(self.dropout(F.relu(self.w_1(x))))"
   ]
  },
  {
   "cell_type": "markdown",
   "metadata": {},
   "source": [
    "## Layer norm"
   ]
  },
  {
   "cell_type": "markdown",
   "metadata": {},
   "source": [
    "Why can't we use batchnorm:\n",
    "- When calculating mean and std of a batch in batchnorm, we assume that item in batch has the same size (e.g. img with same h,w,channels). \n",
    "- In RNN, sentences in a batch can have different length (Although this can be fixed with padding, but by adding padding, it can alter the true meaning of mean and std of that batch)"
   ]
  },
  {
   "cell_type": "markdown",
   "metadata": {},
   "source": [
    "![](images/layernorm_rnn.png)"
   ]
  },
  {
   "cell_type": "markdown",
   "metadata": {},
   "source": [
    "Layer norm formula is essentially the same as batchnorm, but\n",
    "- calculated for EACH TRAINING POINT\n",
    "- No moving average\n",
    "- Average over the hidden dimension to make the norm strategy independent of the batch size"
   ]
  },
  {
   "cell_type": "markdown",
   "metadata": {},
   "source": [
    "Layernorm from scratch"
   ]
  },
  {
   "cell_type": "code",
   "execution_count": 1,
   "metadata": {},
   "outputs": [],
   "source": [
    "import torch"
   ]
  },
  {
   "cell_type": "code",
   "execution_count": 2,
   "metadata": {},
   "outputs": [
    {
     "data": {
      "text/plain": [
       "tensor([[[4., 0., 4., 2.],\n",
       "         [0., 1., 1., 1.],\n",
       "         [0., 0., 4., 4.]],\n",
       "\n",
       "        [[0., 1., 1., 2.],\n",
       "         [0., 0., 2., 3.],\n",
       "         [3., 2., 0., 3.]]])"
      ]
     },
     "execution_count": 2,
     "metadata": {},
     "output_type": "execute_result"
    }
   ],
   "source": [
    "inp = torch.randint(5,(2, 3, 4), dtype = torch.float32)\n",
    "# bs = 2, seq_len = 3, d_model = 4\n",
    "inp"
   ]
  },
  {
   "cell_type": "code",
   "execution_count": 4,
   "metadata": {},
   "outputs": [
    {
     "data": {
      "text/plain": [
       "tensor([[2.5000, 0.7500, 2.0000],\n",
       "        [1.0000, 1.2500, 2.0000]])"
      ]
     },
     "execution_count": 4,
     "metadata": {},
     "output_type": "execute_result"
    }
   ],
   "source": [
    "torch.sum(inp,-1)/ 4"
   ]
  },
  {
   "cell_type": "code",
   "execution_count": 6,
   "metadata": {},
   "outputs": [
    {
     "data": {
      "text/plain": [
       "tensor([[[2.5000],\n",
       "         [0.7500],\n",
       "         [2.0000]],\n",
       "\n",
       "        [[1.0000],\n",
       "         [1.2500],\n",
       "         [2.0000]]])"
      ]
     },
     "execution_count": 6,
     "metadata": {},
     "output_type": "execute_result"
    }
   ],
   "source": [
    "tmp_mean = torch.mean(inp,-1,keepdims=True)\n",
    "tmp_mean"
   ]
  },
  {
   "cell_type": "code",
   "execution_count": 7,
   "metadata": {},
   "outputs": [
    {
     "data": {
      "text/plain": [
       "tensor([[[2.7500],\n",
       "         [0.1875],\n",
       "         [4.0000]],\n",
       "\n",
       "        [[0.5000],\n",
       "         [1.6875],\n",
       "         [1.5000]]])"
      ]
     },
     "execution_count": 7,
     "metadata": {},
     "output_type": "execute_result"
    }
   ],
   "source": [
    "tmp_var=torch.square(inp-tmp_mean).mean(-1,keepdim=True)\n",
    "tmp_var"
   ]
  },
  {
   "cell_type": "code",
   "execution_count": 11,
   "metadata": {},
   "outputs": [
    {
     "data": {
      "text/plain": [
       "tensor([[[3.6667],\n",
       "         [0.2500],\n",
       "         [5.3333]],\n",
       "\n",
       "        [[0.6667],\n",
       "         [2.2500],\n",
       "         [2.0000]]])"
      ]
     },
     "execution_count": 11,
     "metadata": {},
     "output_type": "execute_result"
    }
   ],
   "source": [
    "# note that torch.var calculate this slightly different. To get the right result, dont use torch.var\n",
    "torch.var(inp,-1,keepdim=True)"
   ]
  },
  {
   "cell_type": "code",
   "execution_count": 9,
   "metadata": {},
   "outputs": [
    {
     "data": {
      "text/plain": [
       "tensor([[[ 0.9045, -1.5076,  0.9045, -0.3015],\n",
       "         [-1.7321,  0.5774,  0.5774,  0.5774],\n",
       "         [-1.0000, -1.0000,  1.0000,  1.0000]],\n",
       "\n",
       "        [[-1.4142,  0.0000,  0.0000,  1.4142],\n",
       "         [-0.9623, -0.9623,  0.5774,  1.3472],\n",
       "         [ 0.8165,  0.0000, -1.6330,  0.8165]]])"
      ]
     },
     "execution_count": 9,
     "metadata": {},
     "output_type": "execute_result"
    }
   ],
   "source": [
    "(inp - tmp_mean) / torch.sqrt(tmp_var + 0)"
   ]
  },
  {
   "cell_type": "code",
   "execution_count": 10,
   "metadata": {},
   "outputs": [
    {
     "data": {
      "text/plain": [
       "tensor([[[ 0.9045, -1.5076,  0.9045, -0.3015],\n",
       "         [-1.7321,  0.5774,  0.5774,  0.5774],\n",
       "         [-1.0000, -1.0000,  1.0000,  1.0000]],\n",
       "\n",
       "        [[-1.4142,  0.0000,  0.0000,  1.4142],\n",
       "         [-0.9623, -0.9623,  0.5774,  1.3472],\n",
       "         [ 0.8165,  0.0000, -1.6330,  0.8165]]])"
      ]
     },
     "execution_count": 10,
     "metadata": {},
     "output_type": "execute_result"
    }
   ],
   "source": [
    "m = torch.nn.LayerNorm(inp.shape[-1], elementwise_affine=False,eps=0)\n",
    "output = m(inp)\n",
    "output"
   ]
  },
  {
   "cell_type": "code",
   "execution_count": null,
   "metadata": {},
   "outputs": [],
   "source": [
    "class LayerNorm(nn.Module):\n",
    "    \"Construct a layernorm module (See citation for details).\"\n",
    "    def __init__(self, features, eps=1e-6):\n",
    "        super(LayerNorm, self).__init__()\n",
    "        self.a_2 = nn.Parameter(torch.ones(features))\n",
    "        self.b_2 = nn.Parameter(torch.zeros(features))\n",
    "        self.eps = eps\n",
    "\n",
    "    def forward(self, x):\n",
    "        \"\"\"\n",
    "        x shape: (bs,n,d_model)\n",
    "        n can be sent_length (number of words for each batch)\n",
    "        \"\"\"\n",
    "        mean = x.mean(-1, keepdim=True) # taking the mean of each word embedding (?) individually, each word is just a vector\n",
    "        # similar to layer norm in CV: m = x.mean((1,2,3), keepdim=True), each image is a 3D matrix\n",
    "        std = x.std(-1, keepdim=True)\n",
    "        return self.a_2 * (x - mean) / (std + self.eps) + self.b_2"
   ]
  },
  {
   "cell_type": "markdown",
   "metadata": {
    "heading_collapsed": true
   },
   "source": [
    "## Multi-block with multi-head attention vs LSTM/RNN\n",
    "\n",
    "- RNN:\n",
    "    - \\+ get recurrent information carried in a sentence by feeding 1 batch of words at a time\n",
    "    - \\- CANNOT parallelize using GPU, aka cannot feed the entire batch of sentences at once\n",
    "- multi-block with multi-head attention\n",
    "    - \\+ With block stacking on top of each other, each block will try to capture information in a chain: 1st block can capture 1st info of a chain, 2nd block can capture 2nd info of a chain => similar to RNN\n",
    "    - \\+ CAN feed the entire batch of sequences => parallelize well using GPUs\n",
    "    - \\- disregard the position of words in a sentence: 2 of the same words in different position might be treated the same way. Also, without position, you dont know where you are at in the sentence\n",
    "        - Solution: **positional encoding** so same words at different locations have different overall representations:"
   ]
  },
  {
   "cell_type": "markdown",
   "metadata": {
    "heading_collapsed": true
   },
   "source": [
    "## The complete encoder"
   ]
  },
  {
   "cell_type": "markdown",
   "metadata": {
    "hidden": true
   },
   "source": [
    "![](images/transformer_6.png)"
   ]
  },
  {
   "cell_type": "markdown",
   "metadata": {
    "heading_collapsed": true
   },
   "source": [
    "## Token embeddings and tie-weight (weight sharing)"
   ]
  },
  {
   "cell_type": "markdown",
   "metadata": {
    "hidden": true
   },
   "source": [
    "- Similarly to other sequence transduction models, we use learned embeddings to convert the **input tokens** (of encoder) and **output tokens** (of decoder) to **vectors of dimension  d_model**\n",
    "- We also use the usual learned linear transformation and softmax function to convert the decoder output to predicted next-token probabilities. \n",
    "- In our model, **we share the same weight matrix between the encoder embedding layer and the pre-softmax linear transformation**\n",
    "    - Sometimes they also share weight between encoder embedding layer and decoder embedding layer (assuming same language input in encoder and decoder, or 2 languages are very similar (**subword tokens in English and French as the 2 languages share over 85k subtokens)"
   ]
  },
  {
   "cell_type": "markdown",
   "metadata": {
    "hidden": true
   },
   "source": [
    "In AWD-LSTM language model, tie_weights will make embedding weight == last layer linear weight. \n",
    "\n",
    "```python\n",
    "['0.encoder.weight: torch.Size([17280, 400])', # this one (word embedding matrix) ... \n",
    " '0.encoder_dp.emb.weight: torch.Size([17280, 400])',\n",
    " '0.rnns.0.weight_hh_l0_raw: torch.Size([4608, 1152])',\n",
    " '0.rnns.0.module.weight_ih_l0: torch.Size([4608, 400])',\n",
    " '0.rnns.0.module.bias_ih_l0: torch.Size([4608])',\n",
    " '0.rnns.0.module.bias_hh_l0: torch.Size([4608])',\n",
    " '0.rnns.1.weight_hh_l0_raw: torch.Size([4608, 1152])',\n",
    " '0.rnns.1.module.weight_ih_l0: torch.Size([4608, 1152])',\n",
    " '0.rnns.1.module.bias_ih_l0: torch.Size([4608])',\n",
    " '0.rnns.1.module.bias_hh_l0: torch.Size([4608])',\n",
    " '0.rnns.2.weight_hh_l0_raw: torch.Size([1600, 400])',\n",
    " '0.rnns.2.module.weight_ih_l0: torch.Size([1600, 1152])',\n",
    " '0.rnns.2.module.bias_ih_l0: torch.Size([1600])',\n",
    " '0.rnns.2.module.bias_hh_l0: torch.Size([1600])',\n",
    " '1.decoder.weight: torch.Size([17280, 400])', # ... is the same with this one (last NN layer to predict next word)\n",
    " '1.decoder.bias: torch.Size([17280])']\n",
    "```"
   ]
  },
  {
   "cell_type": "code",
   "execution_count": null,
   "metadata": {
    "hidden": true
   },
   "outputs": [],
   "source": [
    "# see code in Full Model section\n",
    "model.src_embed[0].lut.weight = model.tgt_embed[0].lut.weight\n",
    "model.generator.lut.weight = model.tgt_embed[0].lut.weight"
   ]
  },
  {
   "cell_type": "markdown",
   "metadata": {
    "heading_collapsed": true
   },
   "source": [
    "## Positional encoding"
   ]
  },
  {
   "cell_type": "markdown",
   "metadata": {
    "hidden": true
   },
   "source": [
    "Based on this: https://arxiv.org/pdf/1705.03122.pdf"
   ]
  },
  {
   "cell_type": "markdown",
   "metadata": {
    "hidden": true
   },
   "source": [
    "### Relative vs Absolute Position"
   ]
  },
  {
   "cell_type": "markdown",
   "metadata": {
    "hidden": true
   },
   "source": [
    "- Absolute position: position of words w.r.t to the start of the sentence\n",
    "- Relative position: position of words w.r.t to some chosen word in the sentence"
   ]
  },
  {
   "cell_type": "markdown",
   "metadata": {
    "hidden": true
   },
   "source": [
    "### Learnable positional encoding"
   ]
  },
  {
   "cell_type": "markdown",
   "metadata": {
    "hidden": true
   },
   "source": [
    "- Learned just like word embedding matrix: We will create a matrix of shape ```[sentence_length,vector_size]```. In short, each positon (position of 1st word, position of 2nd word ...) will be presented by a vector\n",
    "- BERT use learned positional encoding"
   ]
  },
  {
   "cell_type": "markdown",
   "metadata": {
    "hidden": true
   },
   "source": [
    "### Function-based positional encoding"
   ]
  },
  {
   "cell_type": "markdown",
   "metadata": {
    "hidden": true
   },
   "source": [
    "- in order for the model to make use of the order of the sequence, we must inject some information about the relative or absolute position of the tokens in the sequence\n",
    "- The positional encodings have the same dimension d_model as the embeddings, so that the two can be summed\n",
    "- See more at http://nlp.seas.harvard.edu/2018/04/03/attention.html and https://pbcquoc.github.io/transformer/?fbclid=IwAR0UCWWbGgnbaETzfih-iEhsL2KHSszsSTb67mcyBxOzgMpmkSnErOljDYQ"
   ]
  },
  {
   "cell_type": "markdown",
   "metadata": {
    "hidden": true
   },
   "source": [
    "![](images/selfattention_4.png)"
   ]
  },
  {
   "cell_type": "markdown",
   "metadata": {
    "hidden": true
   },
   "source": [
    "This mean the first few dimension will oscillate faster than later dimension (as seen below: dimension 6 is wider than 4 (for even dimension using sin) and also wider than 5; dimension 7 is wider than 5 (for odd dimension using cosine) and also wider than 4 and 6\n",
    "\n",
    "Think of it like 4 bit binary number \n",
    "- 0: 0 0 0 0\n",
    "- 1: 0 0 0 1\n",
    "- 2: 0 0 1 0\n",
    "- 3: 0 0 1 1\n",
    "- 4: 0 1 0 0\n",
    "- ...\n",
    "YOu can see the first bit (from right) oscillates faster than 2nd bit, 2nd bit is faster than 3rd bit...\n",
    "\n",
    "This will give a sense of order and distance between word vectors"
   ]
  },
  {
   "cell_type": "markdown",
   "metadata": {
    "hidden": true
   },
   "source": [
    "![](images/selfattention_5.png)"
   ]
  },
  {
   "cell_type": "markdown",
   "metadata": {
    "hidden": true
   },
   "source": [
    "![](images/signusoid2.png)"
   ]
  },
  {
   "cell_type": "markdown",
   "metadata": {
    "hidden": true
   },
   "source": [
    "Create a matrix to show distances between word emb vectors after adding the sinusoid function (for first row aka word #0, color is lighter aka distance is bigger when going right)"
   ]
  },
  {
   "cell_type": "markdown",
   "metadata": {
    "hidden": true
   },
   "source": [
    "![](images/selfattention_6.png)"
   ]
  },
  {
   "cell_type": "markdown",
   "metadata": {
    "hidden": true
   },
   "source": [
    "![](images/signusoid.png)"
   ]
  },
  {
   "cell_type": "markdown",
   "metadata": {
    "hidden": true
   },
   "source": [
    "Note for above graph:\n",
    "- Only the first few dimension of embedding vector represents position (after 200, not much differences) => therefore, **adding positional encoding to word embedding (as opposed to concat them) don't really alter word embedding that much**\n",
    "\n",
    "- Also, beside capture **absolute position**, Sinusoid (using **both cosine and sine**) allows model to capture **relative position** as well\n",
    "    - Proof: https://kazemnejad.com/blog/transformer_architecture_positional_encoding/"
   ]
  },
  {
   "cell_type": "code",
   "execution_count": null,
   "metadata": {
    "hidden": true
   },
   "outputs": [],
   "source": [
    "class PositionalEncoding(nn.Module):\n",
    "    \"Implement the PE function.\"\n",
    "    def __init__(self, d_model, dropout, max_len=5000):\n",
    "        super(PositionalEncoding, self).__init__()\n",
    "        self.dropout = nn.Dropout(p=dropout)\n",
    "        \n",
    "        # Compute the positional encodings once in log space.\n",
    "        pe = torch.zeros(max_len, d_model)\n",
    "        position = torch.arange(0, max_len).unsqueeze(1)\n",
    "        div_term = torch.exp(torch.arange(0, d_model, 2) *\n",
    "                             -(math.log(10000.0) / d_model))\n",
    "        pe[:, 0::2] = torch.sin(position * div_term)\n",
    "        pe[:, 1::2] = torch.cos(position * div_term)\n",
    "        pe = pe.unsqueeze(0)\n",
    "        self.register_buffer('pe', pe)\n",
    "        \n",
    "    def forward(self, x):\n",
    "        x = x + Variable(self.pe[:, :x.size(1)], \n",
    "                         requires_grad=False)\n",
    "        return self.dropout(x)"
   ]
  },
  {
   "cell_type": "markdown",
   "metadata": {
    "heading_collapsed": true
   },
   "source": [
    "## BERT vs GPT in term of positional encoding"
   ]
  },
  {
   "cell_type": "markdown",
   "metadata": {
    "hidden": true
   },
   "source": [
    "- BERT (using **encoder transformer**) doesn't learn much absolute position\n",
    "    - Why? BERT use **masked language modeling** (predict the masked word using its neighbors), therefore the relative position (of the neighbor words) are more important than absolute position\n",
    "    \n",
    "    \n",
    "- GPT (using **decoder transformer**) actually cares about absolute position more than BERT\n",
    "    - Why? GPT **predicts the last word each time**, so it cares more about its absolute position\n",
    "    \n",
    "Reference: https://arxiv.org/pdf/2010.04903.pdf"
   ]
  },
  {
   "cell_type": "markdown",
   "metadata": {},
   "source": [
    "## TODO: visualization in encoder"
   ]
  },
  {
   "cell_type": "markdown",
   "metadata": {},
   "source": [
    "Attention visualization in layer 5"
   ]
  },
  {
   "cell_type": "markdown",
   "metadata": {},
   "source": [
    "![](images/transformer_7.png)"
   ]
  },
  {
   "cell_type": "markdown",
   "metadata": {},
   "source": [
    "# Transformer's Decoder"
   ]
  },
  {
   "cell_type": "markdown",
   "metadata": {},
   "source": [
    "![](images/transformer_11.png)"
   ]
  },
  {
   "cell_type": "code",
   "execution_count": 2,
   "metadata": {},
   "outputs": [],
   "source": [
    "import torch\n",
    "import numpy as np"
   ]
  },
  {
   "cell_type": "code",
   "execution_count": 6,
   "metadata": {},
   "outputs": [],
   "source": [
    "def subsequent_mask(size):\n",
    "    \"Mask out subsequent positions.\"\n",
    "    attn_shape = (1, size, size)\n",
    "    subsequent_mask = np.triu(np.ones(attn_shape), k=1).astype('uint8')\n",
    "    print(subsequent_mask)\n",
    "    return torch.from_numpy(subsequent_mask) == 0"
   ]
  },
  {
   "cell_type": "code",
   "execution_count": 9,
   "metadata": {},
   "outputs": [
    {
     "name": "stdout",
     "output_type": "stream",
     "text": [
      "[[[0 1 1 1 1]\n",
      "  [0 0 1 1 1]\n",
      "  [0 0 0 1 1]\n",
      "  [0 0 0 0 1]\n",
      "  [0 0 0 0 0]]]\n"
     ]
    }
   ],
   "source": [
    "temp = subsequent_mask(5)"
   ]
  },
  {
   "cell_type": "code",
   "execution_count": 10,
   "metadata": {},
   "outputs": [
    {
     "data": {
      "text/plain": [
       "(tensor([[[ True, False, False, False, False],\n",
       "          [ True,  True, False, False, False],\n",
       "          [ True,  True,  True, False, False],\n",
       "          [ True,  True,  True,  True, False],\n",
       "          [ True,  True,  True,  True,  True]]]),\n",
       " torch.Size([1, 5, 5]))"
      ]
     },
     "execution_count": 10,
     "metadata": {},
     "output_type": "execute_result"
    }
   ],
   "source": [
    "temp,temp.shape # mask is at False"
   ]
  },
  {
   "cell_type": "code",
   "execution_count": null,
   "metadata": {},
   "outputs": [],
   "source": [
    "class DecoderLayer(nn.Module):\n",
    "    \"Decoder is made of self-attn, src-attn, and feed forward (defined below)\"\n",
    "    def __init__(self, size, self_attn, src_attn, feed_forward, dropout):\n",
    "        super(DecoderLayer, self).__init__()\n",
    "        self.size = size\n",
    "        self.self_attn = self_attn\n",
    "        self.src_attn = src_attn\n",
    "        self.feed_forward = feed_forward\n",
    "        self.sublayer = clones(SublayerConnection(size, dropout), 3)\n",
    " \n",
    "    def forward(self, x, memory, src_mask, tgt_mask):\n",
    "        \"Follow Figure 1 (right) for connections.\"\n",
    "        m = memory\n",
    "        x = self.sublayer[0](x, lambda x: self.self_attn(x, x, x, tgt_mask))\n",
    "        x = self.sublayer[1](x, lambda x: self.src_attn(x, m, m, src_mask)) \n",
    "        # key and value (m) from encoder\n",
    "        return self.sublayer[2](x, self.feed_forward)"
   ]
  },
  {
   "cell_type": "markdown",
   "metadata": {},
   "source": [
    "**One problem with using this Decoder for seq2seq task such as neural machine translation** is it will just be similar to LSTM/RNN (autoregressive model as you use observations from previous time steps as input to predict the value at the next time step)"
   ]
  },
  {
   "cell_type": "markdown",
   "metadata": {},
   "source": [
    "## Output of Decoder for training"
   ]
  },
  {
   "cell_type": "markdown",
   "metadata": {},
   "source": [
    "Using teacher forcing: input the **entire** sentence (that needs to be translated), and decoder will output the **entire** translation sentence, and we use this entire output to compare with the translation true label to calculate loss function"
   ]
  },
  {
   "cell_type": "markdown",
   "metadata": {},
   "source": [
    "![](images/decoder_output1.png)"
   ]
  },
  {
   "cell_type": "markdown",
   "metadata": {},
   "source": [
    "## Masks"
   ]
  },
  {
   "cell_type": "markdown",
   "metadata": {},
   "source": [
    "Because in inference, a word cannot attend to any word after it (as those don't exist yet because we are generating words), so in training, we have to train our decoder so that a word can only attend to previous words"
   ]
  },
  {
   "cell_type": "markdown",
   "metadata": {},
   "source": [
    "![](images/mask.png)"
   ]
  },
  {
   "cell_type": "markdown",
   "metadata": {},
   "source": [
    "![](images/mask2.png)"
   ]
  },
  {
   "cell_type": "markdown",
   "metadata": {},
   "source": [
    "## Output of Decoder for Inference"
   ]
  },
  {
   "cell_type": "markdown",
   "metadata": {},
   "source": [
    "Similar to Seq2Seq model: predict next word"
   ]
  },
  {
   "cell_type": "markdown",
   "metadata": {},
   "source": [
    "![](images/decoder_output2.png)"
   ]
  },
  {
   "cell_type": "markdown",
   "metadata": {},
   "source": [
    "Note: for example, GPT (using Transformer decoder) can only output 512 tokens, so the 513th token won be able to attend to the 1st token anymore."
   ]
  },
  {
   "cell_type": "markdown",
   "metadata": {},
   "source": [
    "# Dropout"
   ]
  },
  {
   "cell_type": "markdown",
   "metadata": {},
   "source": [
    "Everywhere"
   ]
  },
  {
   "cell_type": "markdown",
   "metadata": {},
   "source": [
    "![](images/dropout1.png)"
   ]
  },
  {
   "cell_type": "markdown",
   "metadata": {},
   "source": [
    "Note: Dropout is similar to a bagging technique: to 'combine' several submodels (because of dropout) to make predictions. Though we don't average these submodels like random forest, but the big model can learn suitable weights from these submodels combined"
   ]
  },
  {
   "cell_type": "markdown",
   "metadata": {},
   "source": [
    "![](images/dropout2.png)"
   ]
  },
  {
   "cell_type": "markdown",
   "metadata": {},
   "source": [
    "# Full model"
   ]
  },
  {
   "cell_type": "code",
   "execution_count": null,
   "metadata": {},
   "outputs": [],
   "source": [
    "# a stack of N=6 identical layers\n",
    "class Encoder(nn.Module):\n",
    "    \"Core encoder is a stack of N layers\"\n",
    "    def __init__(self, layer, N):\n",
    "        super(Encoder, self).__init__()\n",
    "        self.layers = clones(layer, N)\n",
    "        self.norm = LayerNorm(layer.size)\n",
    "        \n",
    "    def forward(self, x, mask):\n",
    "        \"Pass the input (and mask) through each layer in turn.\"\n",
    "        for layer in self.layers:\n",
    "            x = layer(x, mask)\n",
    "        return self.norm(x)\n",
    "\n",
    "# a stack of N=6 identical layers\n",
    "class Decoder(nn.Module):\n",
    "    \"Generic N layer decoder with masking.\"\n",
    "    def __init__(self, layer, N):\n",
    "        super(Decoder, self).__init__()\n",
    "        self.layers = clones(layer, N)\n",
    "        self.norm = LayerNorm(layer.size)\n",
    "        \n",
    "    def forward(self, x, memory, src_mask, tgt_mask):\n",
    "        for layer in self.layers:\n",
    "            x = layer(x, memory, src_mask, tgt_mask)\n",
    "        return self.norm(x)"
   ]
  },
  {
   "cell_type": "code",
   "execution_count": null,
   "metadata": {},
   "outputs": [],
   "source": [
    "class EncoderDecoder(nn.Module):\n",
    "    \"\"\"\n",
    "    A standard Encoder-Decoder architecture. Base for this and many \n",
    "    other models.\n",
    "    \"\"\"\n",
    "    def __init__(self, encoder, decoder, src_embed, tgt_embed, generator):\n",
    "        super(EncoderDecoder, self).__init__()\n",
    "        self.encoder = encoder\n",
    "        self.decoder = decoder\n",
    "        self.src_embed = src_embed\n",
    "        self.tgt_embed = tgt_embed\n",
    "        self.generator = generator # standard linear + softmax generation step, aka blue arrow step \n",
    "        \n",
    "    def forward(self, src, tgt, src_mask, tgt_mask):\n",
    "        \"Take in and process masked src and target sequences.\"\n",
    "        return self.decode(self.encode(src, src_mask), src_mask,\n",
    "                            tgt, tgt_mask)\n",
    "    \n",
    "    def encode(self, src, src_mask):\n",
    "        return self.encoder(self.src_embed(src), src_mask)\n",
    "    \n",
    "    def decode(self, memory, src_mask, tgt, tgt_mask):\n",
    "        return self.decoder(self.tgt_embed(tgt), memory, src_mask, tgt_mask)"
   ]
  },
  {
   "cell_type": "code",
   "execution_count": null,
   "metadata": {},
   "outputs": [],
   "source": [
    "class Generator(nn.Module):\n",
    "    \"Define standard linear + softmax generation step.\"\n",
    "    def __init__(self, d_model, vocab):\n",
    "        super(Generator, self).__init__()\n",
    "        self.proj = nn.Linear(d_model, vocab)\n",
    "\n",
    "    def forward(self, x):\n",
    "        return F.log_softmax(self.proj(x), dim=-1)"
   ]
  },
  {
   "cell_type": "code",
   "execution_count": null,
   "metadata": {},
   "outputs": [],
   "source": [
    "def make_model(src_vocab, tgt_vocab, N=6, \n",
    "               d_model=512, d_ff=2048, h=8, dropout=0.1):\n",
    "    \"Helper: Construct a model from hyperparameters.\"\n",
    "    c = copy.deepcopy\n",
    "    attn = MultiHeadedAttention(h, d_model)\n",
    "    ff = PositionwiseFeedForward(d_model, d_ff, dropout)\n",
    "    position = PositionalEncoding(d_model, dropout)\n",
    "    model = EncoderDecoder(\n",
    "        Encoder(EncoderLayer(d_model, c(attn), c(ff), dropout), N),\n",
    "        Decoder(DecoderLayer(d_model, c(attn), c(attn), \n",
    "                             c(ff), dropout), N),\n",
    "        nn.Sequential(Embeddings(d_model, src_vocab), c(position)),\n",
    "        nn.Sequential(Embeddings(d_model, tgt_vocab), c(position)),\n",
    "        Generator(d_model, tgt_vocab))\n",
    "    \n",
    "    # This was important from their code. \n",
    "    # Initialize parameters with Glorot / fan_avg.\n",
    "    for p in model.parameters():\n",
    "        if p.dim() > 1:\n",
    "            nn.init.xavier_uniform(p)\n",
    "    return model"
   ]
  },
  {
   "cell_type": "markdown",
   "metadata": {},
   "source": [
    "# OpenAI GPT"
   ]
  },
  {
   "cell_type": "markdown",
   "metadata": {},
   "source": [
    "https://lilianweng.github.io/lil-log/2019/01/31/generalized-language-models.html#openai-gpt"
   ]
  },
  {
   "cell_type": "markdown",
   "metadata": {},
   "source": [
    "Compared to the original transformer architecture, **the transformer decoder model discards the encoder part, so there is only one single input sentence rather than two separate source and target sequences.**\n",
    "\n",
    "- Building the language model: This model applies multiple transformer blocks over the embeddings of input sequences. Each block contains a masked multi-headed self-attention layer and a pointwise feed-forward layer. **The final output produces a distribution over target tokens after softmax normalization.**\n",
    "- Use byte pair encoding\n",
    "- The most substantial upgrade that OpenAI GPT proposed is to **get rid of the task-specific model and use the pre-trained language model directly!**. With similar designs, no customized model structure is needed for other end tasks"
   ]
  },
  {
   "cell_type": "markdown",
   "metadata": {},
   "source": [
    "![](https://lilianweng.github.io/lil-log/assets/images/OpenAI-GPT-transformer-decoder.png)"
   ]
  },
  {
   "cell_type": "markdown",
   "metadata": {},
   "source": [
    "## Plugging the classification head"
   ]
  },
  {
   "cell_type": "markdown",
   "metadata": {},
   "source": [
    "Note that **only the last layer output (after multiple stacked transformers) of the last token (of a sentence) is used for classification task**"
   ]
  },
  {
   "cell_type": "markdown",
   "metadata": {},
   "source": [
    "![](images/gpt1.png)"
   ]
  },
  {
   "cell_type": "markdown",
   "metadata": {},
   "source": [
    "- The loss is to minimize the negative log-likelihood for true labels (e.g. classification task). In addition, **adding the LM loss as an auxiliary loss is found to be beneficial**, because:\n",
    "    - (1) it helps accelerate convergence during training and\n",
    "    - (2) it is expected to improve the generalization of the supervised model.\n",
    "    \n",
    "$$\n",
    "% <![CDATA[\n",
    "\\begin{aligned}\n",
    "\\mathcal{L}_\\text{cls} &= \\sum_{(\\mathbf{x}, y) \\in \\mathcal{D}} \\log P(y\\mid x_1, \\dots, x_n) = \\sum_{(\\mathbf{x}, y) \\in \\mathcal{D}} \\log \\text{softmax}(\\mathbf{h}_L^{(n)}(\\mathbf{x})\\mathbf{W}_y) \\\\\n",
    "\\mathcal{L}_\\text{LM} &= -\\sum_{i} \\log p(x_i\\mid x_{i-k}, \\dots, x_{i-1}) \\\\\n",
    "\\mathcal{L} &= \\mathcal{L}_\\text{cls} + \\lambda \\mathcal{L}_\\text{LM}\n",
    "\\end{aligned} %]]>\n",
    "$$"
   ]
  },
  {
   "cell_type": "markdown",
   "metadata": {},
   "source": [
    "In summary:\n",
    "\n",
    "At the first stage, generative pre-training of a language model can absorb as much free text as possible. Then at the second stage, the model is fine-tuned on specific tasks with a small labeled dataset and a minimal set of new parameters to learn."
   ]
  },
  {
   "cell_type": "markdown",
   "metadata": {},
   "source": [
    "## Other tasks?"
   ]
  },
  {
   "cell_type": "markdown",
   "metadata": {},
   "source": [
    "![](https://lilianweng.github.io/lil-log/assets/images/GPT-downstream-tasks.png)"
   ]
  },
  {
   "cell_type": "markdown",
   "metadata": {},
   "source": [
    "If the task input contains multiple sentences, a special delimiter token ($) is added between each pair of sentences. The embedding for this delimiter token is a new parameter we need to learn, but it should be pretty minimal."
   ]
  },
  {
   "cell_type": "markdown",
   "metadata": {},
   "source": [
    "# BERT"
   ]
  },
  {
   "cell_type": "markdown",
   "metadata": {},
   "source": [
    "Pre-training of Deep Bidirectional Transformers for Language Understanding"
   ]
  },
  {
   "cell_type": "markdown",
   "metadata": {},
   "source": [
    "Problem: Language models only use left context or right context, why?\n",
    "- Reason 1: Directionality is needed to generate a well-formed probability distribution.\n",
    "- Reason 2: Words can “see themselves” (cheating) in a bidirectional encoder.\n",
    "\n",
    "**but language understanding is bidirectional.**\n"
   ]
  },
  {
   "cell_type": "markdown",
   "metadata": {},
   "source": [
    "Solution: Mask out k% of the input words using a special place holder ``[MASK]``, and then predict the masked words\n",
    "- They always use k = 15%\n",
    "                  store          gallon\n",
    "                    ↑              ↑ \n",
    "the man went to the [MASK] to buy a [MASK] of milk\n",
    "- Too little masking: Too expensive to train\n",
    "- Too much masking: Not enough context\n",
    "\n",
    "TODO: can we do a multiclass prediction and choose synonyms of [MASK] words?"
   ]
  },
  {
   "cell_type": "markdown",
   "metadata": {},
   "source": [
    "## BERT next sentence prediction"
   ]
  },
  {
   "cell_type": "markdown",
   "metadata": {},
   "source": [
    "![](images/transformer_8.png)"
   ]
  },
  {
   "cell_type": "markdown",
   "metadata": {},
   "source": [
    "- a binary classification task"
   ]
  },
  {
   "cell_type": "markdown",
   "metadata": {},
   "source": [
    "## a typical embedding input of BERT"
   ]
  },
  {
   "cell_type": "markdown",
   "metadata": {},
   "source": [
    "![](images/transformer_9.png)"
   ]
  },
  {
   "cell_type": "markdown",
   "metadata": {},
   "source": [
    "Note that you will add these 3 embeddings since you will use multi-head encoder (Transformer) which take attention from words (it won't be ideal to concatenate them and perform attention?)"
   ]
  },
  {
   "cell_type": "markdown",
   "metadata": {},
   "source": [
    "Noted that wordpieces are not simply word embeddings:\n",
    "- Wordpiece model tokenizes inside words\n",
    "- BERT uses a variant of the wordpiece model\n",
    "    - (Relatively) use common words that are in the vocabulary: at, fairfax, 1910s\n",
    "- Other words are built from wordpieces:\n",
    "    - hypatia = h ##yp ##ati ##a"
   ]
  },
  {
   "cell_type": "markdown",
   "metadata": {},
   "source": [
    "## losses\n",
    "\n",
    "You will have 2 losses: one from predict the [MASK] LM likelihood loss and next sentence prediction loss\n",
    "\n",
    "**The training loss is the sum of the mean masked LM likelihood and mean next sentence prediction likelihood.**"
   ]
  },
  {
   "cell_type": "markdown",
   "metadata": {},
   "source": [
    "## Plugging the classification head"
   ]
  },
  {
   "cell_type": "markdown",
   "metadata": {},
   "source": [
    "Note that the first token of an input sentence is always forced to be [CLS] — a placeholder that will be used later for prediction in downstream tasks.\n",
    "\n",
    "For classification tasks, we get the prediction by **taking the final hidden state of the special first token** [CLS], $\\mathbf{h}^\\text{[CLS]}_L$, **and multiplying it with a small weight matrix**, $\\text{softmax}(\\mathbf{h}^\\text{[CLS]}_L \\mathbf{W}_\\text{cls})$\n",
    "\n",
    "\n",
    "Bonus for question-answering task:\n",
    "\n",
    "For QA tasks like SQuAD, we need to predict the text span in the given paragraph for an given question. BERT **predicts two probability distributions of every token**, being the start and the end of the text span. Only two new small matrices, Ws and We, are newly learned during fine-tuning and softmax(h(i)LWs) and softmax(h(i)LWe) define two probability distributions."
   ]
  },
  {
   "cell_type": "markdown",
   "metadata": {},
   "source": [
    "## BERT model architecture and training"
   ]
  },
  {
   "cell_type": "markdown",
   "metadata": {},
   "source": [
    "\n",
    "- Transformer encoder (as before)\n",
    "- Self-attention ⇒ no locality bias\n",
    "    - Long-distance context has “equal opportunity”\n",
    "- Single multiplication per layer ⇒ efficiency on GPU/TPU\n",
    "- Train on Wikipedia + BookCorpus\n",
    "- Train 2 model sizes:\n",
    "    - BERT-Base: 12-layer, 768-hidden, 12-head\n",
    "    - BERT-Large: 24-layer, 1024-hidden, 16-head\n",
    "- Trained on 4x4 or 8x8 TPU slice for 4 days"
   ]
  },
  {
   "cell_type": "markdown",
   "metadata": {},
   "source": [
    "## BERT model finetuning"
   ]
  },
  {
   "cell_type": "markdown",
   "metadata": {},
   "source": [
    "You can take the model, pre-train, and use that same architecture + weights for different tasks\n",
    "- Simply learn a classifier built on the top layer for the task that you fine tune for (similarly to ULMfit)"
   ]
  },
  {
   "cell_type": "markdown",
   "metadata": {},
   "source": [
    "Look at b) for single sentence classification task and c) for QA task (as seen in 'Plugging the classification head' tag above)\n",
    "\n",
    "![](images/bert1.png)"
   ]
  },
  {
   "cell_type": "markdown",
   "metadata": {},
   "source": [
    "![](images/transformer_10.png)"
   ]
  },
  {
   "cell_type": "markdown",
   "metadata": {},
   "source": [
    "# AlBERT"
   ]
  },
  {
   "cell_type": "markdown",
   "metadata": {},
   "source": [
    "https://lilianweng.github.io/lil-log/2019/01/31/generalized-language-models.html#albert"
   ]
  },
  {
   "cell_type": "markdown",
   "metadata": {},
   "source": [
    "a light-weighted version of BERT model. An ALBERT model can be trained 1.7x faster with 18x fewer parameters, compared to a BERT model of similar configuration. ALBERT incorporates three changes as follows: the first two help reduce parameters and memory consumption and hence speed up the training speed, while the third one proposes a more chanllenging training task to replace the next sentence prediction (NSP) objective.\n",
    "\n",
    "1. **Important**: In BERT, the **WordPiece tokenization embedding size E is configured to be the same as the hidden state size H** (TODO: is it in model using Transformer in general too?). That is saying, if we want to increase the model size (larger H), we need to learn a larger tokenization embedding too, which is expensive because it depends on the vocabulary size (V).\n",
    "==> **tokenization embedding is expected to learn context-independent representation** and the **hidden states are context-dependent**, it makes sense to **separate the size of the hidden layers from the size of vocabulary embedding.** using factorized embedding parameterization (embedding matrix of size V×H is decomposed into two small matrices of size V×E and E×H ???)\n",
    "\n",
    "2. Cross parameter sharing\n",
    "3. Sentence order prediction: e.g. Positive sample: two consecutive segments **from the same document**. Negative sample: same as above, but the segment order is switched."
   ]
  }
 ],
 "metadata": {
  "kernelspec": {
   "display_name": "Python 3",
   "language": "python",
   "name": "python3"
  },
  "language_info": {
   "codemirror_mode": {
    "name": "ipython",
    "version": 3
   },
   "file_extension": ".py",
   "mimetype": "text/x-python",
   "name": "python",
   "nbconvert_exporter": "python",
   "pygments_lexer": "ipython3",
   "version": "3.8.5"
  },
  "toc": {
   "base_numbering": 1,
   "nav_menu": {},
   "number_sections": true,
   "sideBar": true,
   "skip_h1_title": false,
   "title_cell": "Table of Contents",
   "title_sidebar": "Contents",
   "toc_cell": true,
   "toc_position": {
    "height": "calc(100% - 180px)",
    "left": "10px",
    "top": "150px",
    "width": "165px"
   },
   "toc_section_display": true,
   "toc_window_display": true
  }
 },
 "nbformat": 4,
 "nbformat_minor": 4
}
