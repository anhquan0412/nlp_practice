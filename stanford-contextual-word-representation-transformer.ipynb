{
 "cells": [
  {
   "cell_type": "markdown",
   "metadata": {
    "heading_collapsed": true
   },
   "source": [
    "# cons of \"one representation\" of words"
   ]
  },
  {
   "cell_type": "markdown",
   "metadata": {
    "hidden": true
   },
   "source": [
    "Up until now, we’ve basically had one representation of words: The word vectors that we learned about at the beginning\n",
    "- Word2vec, GloVe, fastText\n",
    "    \n",
    "Problems:\n",
    "- **Problem 1**: a word can have different meanings (\"sense\"), depending on the context, and now we try to collapse all the meanings of a word into 1 single vector, and hope that your model is complex enough that it can pick out the correct word meaning\n",
    "- quick solution: define different word-senses for each word and build a vector for each\n",
    "\n",
    "=> what you want is to **build not a perfect word vector that can capture all of its meanings, but a word vector that is correct in your given context**\n",
    "\n",
    "- **Problem 2**: on a more general view, not just different meanings but words have different aspects, including semantics, syntactic behavior, and register/connotations.\n",
    "    "
   ]
  },
  {
   "cell_type": "markdown",
   "metadata": {
    "hidden": true
   },
   "source": [
    "However, these problems have been solved by the process of building a language model that predicts next word; **by doing so you already generate a context-specific representation of words**"
   ]
  },
  {
   "cell_type": "markdown",
   "metadata": {
    "heading_collapsed": true
   },
   "source": [
    "# Tag LM (pre ELMO) for Name Entity Recognition (NER)"
   ]
  },
  {
   "cell_type": "markdown",
   "metadata": {
    "hidden": true
   },
   "source": [
    "![](images/context_1.png)"
   ]
  },
  {
   "cell_type": "markdown",
   "metadata": {
    "hidden": true
   },
   "source": [
    "Note that \"word embedding model\" is the word embedding from w2v/glove/fasttext"
   ]
  },
  {
   "cell_type": "markdown",
   "metadata": {
    "hidden": true
   },
   "source": [
    "![](images/context_2.png)"
   ]
  },
  {
   "cell_type": "markdown",
   "metadata": {
    "hidden": true
   },
   "source": [
    "Token embedding is from w2v/glove/fasttext\n",
    "\n",
    "Note: \n",
    "- only concat the hidden state, not the embeddings of LM model and w2v model\n",
    "- This is **not end-to-end training**: by 'pretrained', we only use the output hidden state of LM model as input for the Sequence-tagging feature. **In another word, the LM model is trained first ('pretrained') and is frozen after we extract the hidden states**\n"
   ]
  },
  {
   "cell_type": "markdown",
   "metadata": {
    "heading_collapsed": true
   },
   "source": [
    "# ELMO"
   ]
  },
  {
   "cell_type": "markdown",
   "metadata": {
    "hidden": true
   },
   "source": [
    "Peters et al. (2018): ELMo: Embeddings from Language\n",
    "Models\n",
    "- Train a bidirectional LM\n",
    "- Aim at performant but not overly large LM:\n",
    "    - Use 2 biLSTM layers\n",
    "    - Use character CNN to build initial word representation (only)\n",
    "        - 2048 char n-gram filters and 2 highway layers, 512 dim projection\n",
    "    - User 4096 dim hidden/cell LSTM states with 512 dim projections to next input\n",
    "    - Use a residual connection\n",
    "    - Tie parameters of token input and output (softmax) and tie these between forward and backward LMs\n",
    "    \n",
    "    \n",
    "    \n",
    "- TagLM uses only the top layer of LSTM stack; **ELMO utilizes all the layers of LSTM stack, and assign a learnable scaling factor to determine how much of a layer (which can contribute to a \"task\") to take in**\n",
    "    - First run biLM to get representations for each word\n",
    "    - Then let (whatever) end-task model use them\n",
    "        - Freeze weights of ELMo for purposes of supervised model\n",
    "        - Concatenate ELMo weights into task-specific model\n",
    "        - Details depend on task\n",
    "            - Concatenating into intermediate layer as for TagLM is typical\n",
    "            - Can provide ELMo representations again when producing outputs, as in a question answering system"
   ]
  },
  {
   "cell_type": "markdown",
   "metadata": {
    "hidden": true
   },
   "source": [
    "## weighting of layers for different tasks"
   ]
  },
  {
   "cell_type": "markdown",
   "metadata": {
    "hidden": true
   },
   "source": [
    "The two biLSTM NLM layers have differentiated uses/meanings\n",
    "- Lower layer is better for lower-level syntax, etc.\n",
    "    - Part-of-speech tagging, syntactic dependencies, NER\n",
    "- Higher layer is better for higher-level semantics\n",
    "    - Sentiment, Semantic role labeling, question answering, SNLI"
   ]
  },
  {
   "cell_type": "markdown",
   "metadata": {},
   "source": [
    "# Transformers"
   ]
  },
  {
   "cell_type": "markdown",
   "metadata": {},
   "source": [
    "http://nlp.seas.harvard.edu/2018/04/03/attention.html"
   ]
  },
  {
   "cell_type": "markdown",
   "metadata": {},
   "source": [
    "We want parallelization but RNNs are inherently sequential\n",
    "- Despite GRUs and LSTMs, **RNNs still need attention mechanism to deal with long range dependencies** – path length between states grows with sequence otherwise\n",
    "- But if attention gives us access to any state… **maybe we can just use attention and don’t need the RNN?**\n"
   ]
  },
  {
   "cell_type": "markdown",
   "metadata": {},
   "source": [
    "![](images/transformer_1.png)"
   ]
  },
  {
   "cell_type": "markdown",
   "metadata": {},
   "source": [
    "# Self-attention"
   ]
  },
  {
   "cell_type": "markdown",
   "metadata": {},
   "source": [
    "![](images/transformer_2.png)"
   ]
  },
  {
   "cell_type": "markdown",
   "metadata": {},
   "source": [
    "![](images/transformer_3.png)"
   ]
  },
  {
   "cell_type": "markdown",
   "metadata": {},
   "source": [
    "![](images/transformer_12.png)"
   ]
  },
  {
   "cell_type": "markdown",
   "metadata": {},
   "source": [
    "![](images/selfattention_1.png)"
   ]
  },
  {
   "cell_type": "markdown",
   "metadata": {},
   "source": [
    "Review definition of Attention\n",
    "\n",
    "- On each step of the decoder, use **direct connection to the encoder** to **focus on particular part** of **source sentence**\n",
    "- More formal: a content-based, memory retrieval mechanism\n",
    "    - You have a vector in decoder to attend to all this content ( representations/hidden states) from your encoder to decide what information to absorb, based on how similar this content is to every position in the memory "
   ]
  },
  {
   "cell_type": "markdown",
   "metadata": {},
   "source": [
    "We want to re-represent the word 'represent' in the above picture\n",
    "- this word is our 'query'\n",
    "- query can just initially be word-embedding\n",
    "- **we attend (do dot product) this with all its neighbors** (let's,this,sentence). Its neighbors are matrix K, and this step is known as q@K or Q@KT (for the whole matrix Q). This produce attention score\n",
    "- (scale) and then softmax to have attention distribution (attention probability). \n",
    "- then multiply this distribution to the value (V) which is just the neighborhood itself and add them, aka produce a weighted combination of your entire neighborhood\n",
    "- then you can add a feed-forward network to compute new features\n",
    "\n",
    "=> **Definition of Self-attention**: you re-express yourself in terms of a weight combination of your entire neighborhood, based on the similarity b/t you and your neighbors\n",
    "\n",
    "**important note**: attention (and self-attention) in general is **permutation invariant: switching orders of words and the results are still the same after applying attention**\n",
    "\n",
    "(so to maintain order we need positional encoding. See more below)"
   ]
  },
  {
   "cell_type": "markdown",
   "metadata": {},
   "source": [
    "# Transformer's Encoder"
   ]
  },
  {
   "cell_type": "markdown",
   "metadata": {},
   "source": [
    "## Self-attention in the **encoder**\n",
    "\n",
    "- The input word vectors are the queries, keys and values\n",
    "- In other words: the word vectors themselves select each other\n",
    "- Word vector stack = Q = K = V\n",
    "- We’ll see in the decoder why we separate them in the definition\n",
    "\n",
    "In a self-attention layer all of the keys, values and queries come from the same place, in this case, the output of the previous layer in the encode"
   ]
  },
  {
   "cell_type": "markdown",
   "metadata": {},
   "source": [
    "## Multihead attention"
   ]
  },
  {
   "cell_type": "markdown",
   "metadata": {},
   "source": [
    "![](images/transformer_4.png)"
   ]
  },
  {
   "cell_type": "markdown",
   "metadata": {},
   "source": [
    "**Why?**\n",
    "\n",
    "By mapping Q,K,V to a lower dimensional space (for each head) using linear tfm, **each head can represent different feature space (syntax, nouns ...) so the attention result can be a MIXING PROPORTIONS of different type of information for each head**"
   ]
  },
  {
   "cell_type": "markdown",
   "metadata": {},
   "source": [
    "For the e.g below, we have 3 heads, and imagine green arrow captures \"who\" feature, red captures \"did what\" feature and purpil captures \"to whom\". In a sense, **this technique simulate CNN kernel with multiple filters that can filter out different information with each of its filter**"
   ]
  },
  {
   "cell_type": "markdown",
   "metadata": {},
   "source": [
    "![](images/selfattention_3.png)"
   ]
  },
  {
   "cell_type": "markdown",
   "metadata": {},
   "source": [
    "Note: mapping Q,K,V to multiple **lower dimensional spaces** using **fully-connected linear layer**\n",
    "- for head 1 (i=1), use weight matrix WiQ for Q, W1K for K and W1V for V"
   ]
  },
  {
   "cell_type": "markdown",
   "metadata": {},
   "source": [
    "$$\n",
    "W^Q_i \\in\n",
    "\\mathbb{R}^{d_{\\text{model}} \\times d_k},\n",
    "W^K_i \\in\n",
    "\\mathbb{R}^{d_{\\text{model}} \\times d_k},\n",
    "W^V_i \\in\n",
    "\\mathbb{R}^{d_{\\text{model}} \\times d_v}, \n",
    "W^O \\in \\mathbb{R}^{hd_v \\times\n",
    "d_{\\text{model}}}\n",
    "$$"
   ]
  },
  {
   "cell_type": "markdown",
   "metadata": {},
   "source": [
    "$$\n",
    "d_k=d_v=d_{\\text{model}}/h=64\n",
    "$$"
   ]
  },
  {
   "cell_type": "markdown",
   "metadata": {},
   "source": [
    "- Instead of doing this for the entire columns of Q,K,V\n",
    "$$\n",
    "\\mathrm{Attention}(Q, K, V) = \\mathrm{softmax}(\\frac{QK^T}{\\sqrt{d_k}})V\n",
    "$$\n",
    "we will chop each matrix with originally d_model columns into h sub-matrices by doing matmul with h weight matrices as stated above\n",
    "\n",
    "In practices, for each Q,K and V, we combine h weight matrices into 1 matrix with shape (d_model,d_model) to optimize calculation "
   ]
  },
  {
   "cell_type": "markdown",
   "metadata": {},
   "source": [
    "## Why we need to do a linear tfm for Q,K,V (e.g. Q@Wi) before doing attention?"
   ]
  },
  {
   "cell_type": "markdown",
   "metadata": {},
   "source": [
    "![](images/selfattention_2.png)\n",
    "\n",
    "(at the lower left corner)"
   ]
  },
  {
   "cell_type": "markdown",
   "metadata": {},
   "source": [
    "Linear tfm used here can be thought as to generate features: you project these vectors into a space using learnable parameters, so that when dot product is applied, IT CAN BE A GOOD PROXY FOR SIMILARITY"
   ]
  },
  {
   "cell_type": "code",
   "execution_count": 1,
   "metadata": {},
   "outputs": [],
   "source": [
    "def attention(query, key, value, mask=None, dropout=None):\n",
    "    \"\"\"\n",
    "    Compute 'Scaled Dot Product Attention'\n",
    "    query: shape (bs,h, n, d_k) as n is # of rows in 1 batch of \"query\", h is number of heads for attention\n",
    "    key: shape (bs,h, m, d_k) as m is # of rows in 1 batch of \"key\"\n",
    "    value: shape (bs, h, m, d_k)\n",
    "    \n",
    "    Note that n = m, and n can be sent_length (number of words for each batch)\n",
    "    \"\"\" \n",
    "\n",
    "    d_k = query.size(-1)\n",
    "    scores = torch.matmul(query, key.transpose(-2, -1)) / math.sqrt(d_k)\n",
    "    # (bs,h, n, d_k) @ (bs,h, m, d_k)^T = (bs,h,n,m) aka QKt\n",
    "    if mask is not None:\n",
    "        scores = scores.masked_fill(mask == 0, -1e9) # fill mask before softmax\n",
    "    p_attn = F.softmax(scores, dim = -1)\n",
    "    if dropout is not None:\n",
    "        p_attn = dropout(p_attn)\n",
    "    return torch.matmul(p_attn, value), p_attn # (bs,h,n,m) @ (bs, h, m, d_k) = (bs,h,n,d_k)"
   ]
  },
  {
   "cell_type": "code",
   "execution_count": null,
   "metadata": {},
   "outputs": [],
   "source": [
    "class MultiHeadedAttention(nn.Module):\n",
    "    def __init__(self, h, d_model, dropout=0.1):\n",
    "        \"Take in model size and number of heads.\"\n",
    "        super(MultiHeadedAttention, self).__init__()\n",
    "        assert d_model % h == 0\n",
    "        # We assume d_v always equals d_k\n",
    "        self.d_k = d_model // h\n",
    "        self.h = h\n",
    "        self.linears = clones(nn.Linear(d_model, d_model), 4) # 4 linear layers\n",
    "        # we use the first 3 linears (Wq,Wk and Wv) to calculate attention,\n",
    "        # and the last linear (Wo) to project attention \n",
    "        \n",
    "        # note that technically Wq (or Wk,Wv) is a combination of \n",
    "        # h sub matrices shape (d_model,d_k) for projection to h lower dimensional space\n",
    "\n",
    "        self.attn = None\n",
    "        self.dropout = nn.Dropout(p=dropout)\n",
    "        \n",
    "    def forward(self, query, key, value, mask=None):\n",
    "        \"\"\"\n",
    "        Implements Figure 2\n",
    "        \n",
    "        query: (bs,n,d_model)\n",
    "        key: (bs,m,d_model)\n",
    "        value: (bs,m,d_model)\n",
    "        \n",
    "        Note that d_model = h * d_k\n",
    "        and d_k = d_v \n",
    "        Also n = m\n",
    "        n can be sent_length (number of words for each batch)\n",
    "        \"\"\"\n",
    "        if mask is not None:\n",
    "            # Same mask applied to all h heads.\n",
    "            mask = mask.unsqueeze(1)\n",
    "        nbatches = query.size(0)\n",
    "        \n",
    "        # 1) Do all the linear projections in batch from d_model => h x d_k \n",
    "        query, key, value = \\\n",
    "            [l(x).view(nbatches, -1, self.h, self.d_k).transpose(1, 2)\n",
    "             for l, x in zip(self.linears, (query, key, value))]\n",
    "        # for query: (bs,n,d_model)@(d_model,d_model) = (bs,n,d_model) = (bs,n,h,d_k) = (bs,h,n,d_k)\n",
    "        # do the same for key and value\n",
    "        \n",
    "        # 2) Apply attention on all the projected vectors in batch. \n",
    "        x, self.attn = attention(query, key, value, mask=mask, \n",
    "                                 dropout=self.dropout)\n",
    "        # x has shape (bs,h,n,d_k)\n",
    "        \n",
    "        # 3) \"Concat\" using a view and apply a final linear. \n",
    "        x = x.transpose(1, 2).contiguous().view(nbatches, -1, self.h * self.d_k)\n",
    "        # (bs,h,n,d_k) = (bs,n,h,d_k) = (bs,n, h*d_k) aka (bs,n,d_model) then @ (d_model,d_model)\n",
    "        return self.linears[-1](x)"
   ]
  },
  {
   "cell_type": "markdown",
   "metadata": {},
   "source": [
    "## Complete transformer block"
   ]
  },
  {
   "cell_type": "markdown",
   "metadata": {},
   "source": [
    "![](images/transformer_5.png)"
   ]
  },
  {
   "cell_type": "code",
   "execution_count": null,
   "metadata": {},
   "outputs": [],
   "source": [
    "class SublayerConnection(nn.Module):\n",
    "    \"\"\"\n",
    "    A residual connection followed by a layer norm.\n",
    "    Note for code simplicity the norm is first as opposed to last.\n",
    "    \"\"\"\n",
    "    def __init__(self, size, dropout):\n",
    "        super(SublayerConnection, self).__init__()\n",
    "        self.norm = LayerNorm(size)\n",
    "        self.dropout = nn.Dropout(dropout)\n",
    "\n",
    "    def forward(self, x, sublayer):\n",
    "        \"Apply residual connection to any sublayer with the same size.\"\n",
    "        \"\"\"\n",
    "        x shape: (bs,n,d_model)\n",
    "        n can be sent_length (number of words for each batch)\n",
    "        \"\"\"\n",
    "\n",
    "        return x + self.dropout(sublayer(self.norm(x))) \n",
    "        # apply residual to multiheaded attention or fully connected NNs based on 'sublayer'\n",
    "        # Note: Residuals carry positional information to higher layers, among other information"
   ]
  },
  {
   "cell_type": "code",
   "execution_count": null,
   "metadata": {},
   "outputs": [],
   "source": [
    "class EncoderLayer(nn.Module):\n",
    "    \"Encoder is made up of self-attn and feed forward (defined below)\"\n",
    "    def __init__(self, size, self_attn, feed_forward, dropout):\n",
    "        super(EncoderLayer, self).__init__()\n",
    "        self.self_attn = self_attn # which is MultiHeadedAttention as defined above\n",
    "        self.feed_forward = feed_forward # two linear transformations with a ReLU activation in between\n",
    "        self.sublayer = clones(SublayerConnection(size, dropout), 2)\n",
    "        self.size = size\n",
    "\n",
    "    def forward(self, x, mask):\n",
    "        \"Follow Figure 1 (left) for connections.\"\n",
    "        \"\"\"\n",
    "        x shape: (bs,n,d_model)\n",
    "        n can be sent_length (number of words for each batch)\n",
    "        \"\"\"\n",
    "        x = self.sublayer[0](x, lambda x: self.self_attn(x, x, x, mask))\n",
    "        # In a self-attention layer all of the keys, values and queries come from the same place, \n",
    "        # in this case, the output of the previous layer in the encode\n",
    "        return self.sublayer[1](x, self.feed_forward) "
   ]
  },
  {
   "cell_type": "markdown",
   "metadata": {},
   "source": [
    "## Fully connected feed-forward network"
   ]
  },
  {
   "cell_type": "markdown",
   "metadata": {},
   "source": [
    "Each of the layers in our encoder and decoder contains a fully connected feed-forward network, which is applied to each position separately and identically. This consists of two linear transformations with a ReLU activation in between."
   ]
  },
  {
   "cell_type": "code",
   "execution_count": null,
   "metadata": {},
   "outputs": [],
   "source": [
    "class PositionwiseFeedForward(nn.Module):\n",
    "    \"Implements FFN equation.\"\n",
    "    def __init__(self, d_model=512, d_ff=2048, dropout=0.1):\n",
    "        super(PositionwiseFeedForward, self).__init__()\n",
    "        self.w_1 = nn.Linear(d_model, d_ff)\n",
    "        self.w_2 = nn.Linear(d_ff, d_model)\n",
    "        self.dropout = nn.Dropout(dropout)\n",
    "\n",
    "    def forward(self, x):\n",
    "        return self.w_2(self.dropout(F.relu(self.w_1(x))))"
   ]
  },
  {
   "cell_type": "markdown",
   "metadata": {},
   "source": [
    "## Layer norm"
   ]
  },
  {
   "cell_type": "markdown",
   "metadata": {},
   "source": [
    "Layer norm formula is essentially the same as batchnorm, but\n",
    "- calculated for EACH TRAINING POINT\n",
    "- No moving average\n",
    "- Average over the hidden dimension to make the norm strategy independent of the batch size"
   ]
  },
  {
   "cell_type": "code",
   "execution_count": null,
   "metadata": {},
   "outputs": [],
   "source": [
    "class LayerNorm(nn.Module):\n",
    "    \"Construct a layernorm module (See citation for details).\"\n",
    "    def __init__(self, features, eps=1e-6):\n",
    "        super(LayerNorm, self).__init__()\n",
    "        self.a_2 = nn.Parameter(torch.ones(features))\n",
    "        self.b_2 = nn.Parameter(torch.zeros(features))\n",
    "        self.eps = eps\n",
    "\n",
    "    def forward(self, x):\n",
    "        \"\"\"\n",
    "        x shape: (bs,n,d_model)\n",
    "        n can be sent_length (number of words for each batch)\n",
    "        \"\"\"\n",
    "        mean = x.mean(-1, keepdim=True) # taking the mean of each word embedding (?) individually, each word is just a vector\n",
    "        # similar to layer norm in CV: m = x.mean((1,2,3), keepdim=True), each image is a 3D matrix\n",
    "        std = x.std(-1, keepdim=True)\n",
    "        return self.a_2 * (x - mean) / (std + self.eps) + self.b_2"
   ]
  },
  {
   "cell_type": "markdown",
   "metadata": {},
   "source": [
    "## Multi-block with multi-head attention vs LSTM/RNN\n",
    "\n",
    "- RNN:\n",
    "    - \\+ get recurrent information carried in a sentence by feeding 1 batch of words at a time\n",
    "    - \\- CANNOT parallelize using GPU, aka cannot feed the entire batch of sentences at once\n",
    "- multi-block with multi-head attention\n",
    "    - \\+ With block stacking on top of each other, each block will try to capture information in a chain: 1st block can capture 1st info of a chain, 2nd block can capture 2nd info of a chain => similar to RNN\n",
    "    - \\+ CAN feed the entire batch of sequences => parallelize well using GPUs\n",
    "    - \\- disregard the position of words in a sentence: 2 of the same words in different position might be treated the same way. Also, without position, you dont know where you are at in the sentence\n",
    "        - Solution: **positional encoding** so same words at different locations have different overall representations:"
   ]
  },
  {
   "cell_type": "markdown",
   "metadata": {},
   "source": [
    "## The complete encoder"
   ]
  },
  {
   "cell_type": "markdown",
   "metadata": {},
   "source": [
    "![](images/transformer_6.png)"
   ]
  },
  {
   "cell_type": "markdown",
   "metadata": {},
   "source": [
    "## Token embeddings and tie-weight (weight sharing)"
   ]
  },
  {
   "cell_type": "markdown",
   "metadata": {},
   "source": [
    "- Similarly to other sequence transduction models, we use learned embeddings to convert the **input tokens** (of encoder) and **output tokens** (of decoder) to **vectors of dimension  d_model**\n",
    "- We also use the usual learned linear transformation and softmax function to convert the decoder output to predicted next-token probabilities. \n",
    "- In our model, **we share the same weight matrix between the two embedding layers and the pre-softmax linear transformation**"
   ]
  },
  {
   "cell_type": "code",
   "execution_count": null,
   "metadata": {},
   "outputs": [],
   "source": [
    "# see code in Full Model section\n",
    "model.src_embed[0].lut.weight = model.tgt_embeddings[0].lut.weight\n",
    "model.generator.lut.weight = model.tgt_embed[0].lut.weight"
   ]
  },
  {
   "cell_type": "markdown",
   "metadata": {},
   "source": [
    "## Positional encoding"
   ]
  },
  {
   "cell_type": "markdown",
   "metadata": {},
   "source": [
    "- in order for the model to make use of the order of the sequence, we must inject some information about the relative or absolute position of the tokens in the sequence\n",
    "- The positional encodings have the same dimension d_model as the embeddings, so that the two can be summed\n",
    "- See more at http://nlp.seas.harvard.edu/2018/04/03/attention.html"
   ]
  },
  {
   "cell_type": "code",
   "execution_count": null,
   "metadata": {},
   "outputs": [],
   "source": [
    "class PositionalEncoding(nn.Module):\n",
    "    \"Implement the PE function.\"\n",
    "    def __init__(self, d_model, dropout, max_len=5000):\n",
    "        super(PositionalEncoding, self).__init__()\n",
    "        self.dropout = nn.Dropout(p=dropout)\n",
    "        \n",
    "        # Compute the positional encodings once in log space.\n",
    "        pe = torch.zeros(max_len, d_model)\n",
    "        position = torch.arange(0, max_len).unsqueeze(1)\n",
    "        div_term = torch.exp(torch.arange(0, d_model, 2) *\n",
    "                             -(math.log(10000.0) / d_model))\n",
    "        pe[:, 0::2] = torch.sin(position * div_term)\n",
    "        pe[:, 1::2] = torch.cos(position * div_term)\n",
    "        pe = pe.unsqueeze(0)\n",
    "        self.register_buffer('pe', pe)\n",
    "        \n",
    "    def forward(self, x):\n",
    "        x = x + Variable(self.pe[:, :x.size(1)], \n",
    "                         requires_grad=False)\n",
    "        return self.dropout(x)"
   ]
  },
  {
   "cell_type": "markdown",
   "metadata": {},
   "source": [
    "## TODO: visualization in encoder"
   ]
  },
  {
   "cell_type": "markdown",
   "metadata": {},
   "source": [
    "Attention visualization in layer 5"
   ]
  },
  {
   "cell_type": "markdown",
   "metadata": {},
   "source": [
    "![](images/transformer_7.png)"
   ]
  },
  {
   "cell_type": "markdown",
   "metadata": {},
   "source": [
    "# Transformer's Decoder"
   ]
  },
  {
   "cell_type": "markdown",
   "metadata": {},
   "source": [
    "![](images/transformer_11.png)"
   ]
  },
  {
   "cell_type": "code",
   "execution_count": 2,
   "metadata": {},
   "outputs": [],
   "source": [
    "import torch\n",
    "import numpy as np"
   ]
  },
  {
   "cell_type": "code",
   "execution_count": 6,
   "metadata": {},
   "outputs": [],
   "source": [
    "def subsequent_mask(size):\n",
    "    \"Mask out subsequent positions.\"\n",
    "    attn_shape = (1, size, size)\n",
    "    subsequent_mask = np.triu(np.ones(attn_shape), k=1).astype('uint8')\n",
    "    print(subsequent_mask)\n",
    "    return torch.from_numpy(subsequent_mask) == 0"
   ]
  },
  {
   "cell_type": "code",
   "execution_count": 9,
   "metadata": {},
   "outputs": [
    {
     "name": "stdout",
     "output_type": "stream",
     "text": [
      "[[[0 1 1 1 1]\n",
      "  [0 0 1 1 1]\n",
      "  [0 0 0 1 1]\n",
      "  [0 0 0 0 1]\n",
      "  [0 0 0 0 0]]]\n"
     ]
    }
   ],
   "source": [
    "temp = subsequent_mask(5)"
   ]
  },
  {
   "cell_type": "code",
   "execution_count": 10,
   "metadata": {},
   "outputs": [
    {
     "data": {
      "text/plain": [
       "(tensor([[[ True, False, False, False, False],\n",
       "          [ True,  True, False, False, False],\n",
       "          [ True,  True,  True, False, False],\n",
       "          [ True,  True,  True,  True, False],\n",
       "          [ True,  True,  True,  True,  True]]]),\n",
       " torch.Size([1, 5, 5]))"
      ]
     },
     "execution_count": 10,
     "metadata": {},
     "output_type": "execute_result"
    }
   ],
   "source": [
    "temp,temp.shape # mask is at False"
   ]
  },
  {
   "cell_type": "code",
   "execution_count": null,
   "metadata": {},
   "outputs": [],
   "source": [
    "class DecoderLayer(nn.Module):\n",
    "    \"Decoder is made of self-attn, src-attn, and feed forward (defined below)\"\n",
    "    def __init__(self, size, self_attn, src_attn, feed_forward, dropout):\n",
    "        super(DecoderLayer, self).__init__()\n",
    "        self.size = size\n",
    "        self.self_attn = self_attn\n",
    "        self.src_attn = src_attn\n",
    "        self.feed_forward = feed_forward\n",
    "        self.sublayer = clones(SublayerConnection(size, dropout), 3)\n",
    " \n",
    "    def forward(self, x, memory, src_mask, tgt_mask):\n",
    "        \"Follow Figure 1 (right) for connections.\"\n",
    "        m = memory\n",
    "        x = self.sublayer[0](x, lambda x: self.self_attn(x, x, x, tgt_mask))\n",
    "        x = self.sublayer[1](x, lambda x: self.src_attn(x, m, m, src_mask)) \n",
    "        # key and value (m) from encoder\n",
    "        return self.sublayer[2](x, self.feed_forward)"
   ]
  },
  {
   "cell_type": "markdown",
   "metadata": {},
   "source": [
    "**One problem with using this Decoder for seq2seq task such as neural machine translation** is it will just be similar to LSTM/RNN (autoregressive model as you use observations from previous time steps as input to predict the value at the next time step)"
   ]
  },
  {
   "cell_type": "markdown",
   "metadata": {},
   "source": [
    "# Full model"
   ]
  },
  {
   "cell_type": "code",
   "execution_count": null,
   "metadata": {},
   "outputs": [],
   "source": [
    "# a stack of N=6 identical layers\n",
    "class Encoder(nn.Module):\n",
    "    \"Core encoder is a stack of N layers\"\n",
    "    def __init__(self, layer, N):\n",
    "        super(Encoder, self).__init__()\n",
    "        self.layers = clones(layer, N)\n",
    "        self.norm = LayerNorm(layer.size)\n",
    "        \n",
    "    def forward(self, x, mask):\n",
    "        \"Pass the input (and mask) through each layer in turn.\"\n",
    "        for layer in self.layers:\n",
    "            x = layer(x, mask)\n",
    "        return self.norm(x)\n",
    "\n",
    "# a stack of N=6 identical layers\n",
    "class Decoder(nn.Module):\n",
    "    \"Generic N layer decoder with masking.\"\n",
    "    def __init__(self, layer, N):\n",
    "        super(Decoder, self).__init__()\n",
    "        self.layers = clones(layer, N)\n",
    "        self.norm = LayerNorm(layer.size)\n",
    "        \n",
    "    def forward(self, x, memory, src_mask, tgt_mask):\n",
    "        for layer in self.layers:\n",
    "            x = layer(x, memory, src_mask, tgt_mask)\n",
    "        return self.norm(x)"
   ]
  },
  {
   "cell_type": "code",
   "execution_count": null,
   "metadata": {},
   "outputs": [],
   "source": [
    "class EncoderDecoder(nn.Module):\n",
    "    \"\"\"\n",
    "    A standard Encoder-Decoder architecture. Base for this and many \n",
    "    other models.\n",
    "    \"\"\"\n",
    "    def __init__(self, encoder, decoder, src_embed, tgt_embed, generator):\n",
    "        super(EncoderDecoder, self).__init__()\n",
    "        self.encoder = encoder\n",
    "        self.decoder = decoder\n",
    "        self.src_embed = src_embed\n",
    "        self.tgt_embed = tgt_embed\n",
    "        self.generator = generator # standard linear + softmax generation step, aka blue arrow step \n",
    "        \n",
    "    def forward(self, src, tgt, src_mask, tgt_mask):\n",
    "        \"Take in and process masked src and target sequences.\"\n",
    "        return self.decode(self.encode(src, src_mask), src_mask,\n",
    "                            tgt, tgt_mask)\n",
    "    \n",
    "    def encode(self, src, src_mask):\n",
    "        return self.encoder(self.src_embed(src), src_mask)\n",
    "    \n",
    "    def decode(self, memory, src_mask, tgt, tgt_mask):\n",
    "        return self.decoder(self.tgt_embed(tgt), memory, src_mask, tgt_mask)"
   ]
  },
  {
   "cell_type": "code",
   "execution_count": null,
   "metadata": {},
   "outputs": [],
   "source": [
    "class Generator(nn.Module):\n",
    "    \"Define standard linear + softmax generation step.\"\n",
    "    def __init__(self, d_model, vocab):\n",
    "        super(Generator, self).__init__()\n",
    "        self.proj = nn.Linear(d_model, vocab)\n",
    "\n",
    "    def forward(self, x):\n",
    "        return F.log_softmax(self.proj(x), dim=-1)"
   ]
  },
  {
   "cell_type": "code",
   "execution_count": null,
   "metadata": {},
   "outputs": [],
   "source": [
    "def make_model(src_vocab, tgt_vocab, N=6, \n",
    "               d_model=512, d_ff=2048, h=8, dropout=0.1):\n",
    "    \"Helper: Construct a model from hyperparameters.\"\n",
    "    c = copy.deepcopy\n",
    "    attn = MultiHeadedAttention(h, d_model)\n",
    "    ff = PositionwiseFeedForward(d_model, d_ff, dropout)\n",
    "    position = PositionalEncoding(d_model, dropout)\n",
    "    model = EncoderDecoder(\n",
    "        Encoder(EncoderLayer(d_model, c(attn), c(ff), dropout), N),\n",
    "        Decoder(DecoderLayer(d_model, c(attn), c(attn), \n",
    "                             c(ff), dropout), N),\n",
    "        nn.Sequential(Embeddings(d_model, src_vocab), c(position)),\n",
    "        nn.Sequential(Embeddings(d_model, tgt_vocab), c(position)),\n",
    "        Generator(d_model, tgt_vocab))\n",
    "    \n",
    "    # This was important from their code. \n",
    "    # Initialize parameters with Glorot / fan_avg.\n",
    "    for p in model.parameters():\n",
    "        if p.dim() > 1:\n",
    "            nn.init.xavier_uniform(p)\n",
    "    return model"
   ]
  },
  {
   "cell_type": "markdown",
   "metadata": {},
   "source": [
    "# BERT"
   ]
  },
  {
   "cell_type": "markdown",
   "metadata": {},
   "source": [
    "Pre-training of Deep Bidirectional Transformers for Language Understanding"
   ]
  },
  {
   "cell_type": "markdown",
   "metadata": {},
   "source": [
    "Problem: Language models only use left context or right context, why?\n",
    "- Reason 1: Directionality is needed to generate a well-formed probability distribution.\n",
    "- Reason 2: Words can “see themselves” (cheating) in a bidirectional encoder.\n",
    "\n",
    "**but language understanding is bidirectional.**\n"
   ]
  },
  {
   "cell_type": "markdown",
   "metadata": {},
   "source": [
    "Solution: Mask out k% of the input words, and then predict the\n",
    "masked words\n",
    "- They always use k = 15%\n",
    "                  store          gallon\n",
    "                    ↑              ↑ \n",
    "the man went to the [MASK] to buy a [MASK] of milk\n",
    "- Too little masking: Too expensive to train\n",
    "- Too much masking: Not enough context\n",
    "\n",
    "TODO: can we do a multiclass prediction and choose synonyms of [MASK] words?"
   ]
  },
  {
   "cell_type": "markdown",
   "metadata": {},
   "source": [
    "## BERT next sentence prediction"
   ]
  },
  {
   "cell_type": "markdown",
   "metadata": {},
   "source": [
    "![](images/transformer_8.png)"
   ]
  },
  {
   "cell_type": "markdown",
   "metadata": {},
   "source": [
    "- a binary classification task"
   ]
  },
  {
   "cell_type": "markdown",
   "metadata": {},
   "source": [
    "## a typical embedding input of BERT"
   ]
  },
  {
   "cell_type": "markdown",
   "metadata": {},
   "source": [
    "![](images/transformer_9.png)"
   ]
  },
  {
   "cell_type": "markdown",
   "metadata": {},
   "source": [
    "Note that you will add these 3 embeddings since you will use multi-head encoder (Transformer) which take attention from words (it won't be ideal to concatenate them and perform attention?)"
   ]
  },
  {
   "cell_type": "markdown",
   "metadata": {},
   "source": [
    "Noted that wordpieces are not simply word embeddings: i\n",
    "- Wordpiece model tokenizes inside words\n",
    "- BERT uses a variant of the wordpiece model\n",
    "    - (Relatively) use common words that are in the vocabulary: at, fairfax, 1910s\n",
    "- Other words are built from wordpieces:\n",
    "    - hypatia = h ##yp ##ati ##a"
   ]
  },
  {
   "cell_type": "markdown",
   "metadata": {},
   "source": [
    "## losses\n",
    "\n",
    "You will have 2 losses: one from predict the [MASK] words and one binary prediction's loss from predict whether correct next sentence or not"
   ]
  },
  {
   "cell_type": "markdown",
   "metadata": {},
   "source": [
    "## BERT model architecture and training"
   ]
  },
  {
   "cell_type": "markdown",
   "metadata": {},
   "source": [
    "\n",
    "- Transformer encoder (as before)\n",
    "- Self-attention ⇒ no locality bias\n",
    "    - Long-distance context has “equal opportunity”\n",
    "- Single multiplication per layer ⇒ efficiency on GPU/TPU\n",
    "- Train on Wikipedia + BookCorpus\n",
    "- Train 2 model sizes:\n",
    "    - BERT-Base: 12-layer, 768-hidden, 12-head\n",
    "    - BERT-Large: 24-layer, 1024-hidden, 16-head\n",
    "- Trained on 4x4 or 8x8 TPU slice for 4 days"
   ]
  },
  {
   "cell_type": "markdown",
   "metadata": {},
   "source": [
    "## BERT model finetuning"
   ]
  },
  {
   "cell_type": "markdown",
   "metadata": {},
   "source": [
    "You can take the model, pre-train, and use that same architecture + weights for different tasks\n",
    "- Simply learn a classifier built on the top layer for the task that you fine tune for (similarly to ULMfit)"
   ]
  },
  {
   "cell_type": "markdown",
   "metadata": {},
   "source": [
    "![](images/transformer_10.png)"
   ]
  }
 ],
 "metadata": {
  "kernelspec": {
   "display_name": "Python 3",
   "language": "python",
   "name": "python3"
  },
  "language_info": {
   "codemirror_mode": {
    "name": "ipython",
    "version": 3
   },
   "file_extension": ".py",
   "mimetype": "text/x-python",
   "name": "python",
   "nbconvert_exporter": "python",
   "pygments_lexer": "ipython3",
   "version": "3.7.4"
  }
 },
 "nbformat": 4,
 "nbformat_minor": 4
}
