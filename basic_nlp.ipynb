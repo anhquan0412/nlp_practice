{
 "cells": [
  {
   "cell_type": "markdown",
   "metadata": {},
   "source": [
    "# Word tokenizer"
   ]
  },
  {
   "cell_type": "markdown",
   "metadata": {},
   "source": [
    "## sklearn"
   ]
  },
  {
   "cell_type": "code",
   "execution_count": 21,
   "metadata": {},
   "outputs": [
    {
     "name": "stdout",
     "output_type": "stream",
     "text": [
      "This is a test!!! This is another test! Test (Test) !Let's go. \"Yeah, right\" \n"
     ]
    }
   ],
   "source": [
    "test = 'This is a test!!! This is another test! Test (Test) !Let\\'s go. \\\"Yeah, right\\\" '\n",
    "print(test)"
   ]
  },
  {
   "cell_type": "code",
   "execution_count": 22,
   "metadata": {},
   "outputs": [],
   "source": [
    "from sklearn.feature_extraction.text import CountVectorizer"
   ]
  },
  {
   "cell_type": "code",
   "execution_count": 27,
   "metadata": {},
   "outputs": [
    {
     "data": {
      "text/plain": [
       "['this',\n",
       " 'is',\n",
       " 'test',\n",
       " 'this',\n",
       " 'is',\n",
       " 'another',\n",
       " 'test',\n",
       " 'test',\n",
       " 'test',\n",
       " 'let',\n",
       " 'go',\n",
       " 'yeah',\n",
       " 'right']"
      ]
     },
     "execution_count": 27,
     "metadata": {},
     "output_type": "execute_result"
    }
   ],
   "source": [
    "analyze = CountVectorizer().build_analyzer()\n",
    "analyze(test)"
   ]
  },
  {
   "cell_type": "code",
   "execution_count": 28,
   "metadata": {},
   "outputs": [
    {
     "data": {
      "text/plain": [
       "['this',\n",
       " 'is',\n",
       " 'a',\n",
       " 'test',\n",
       " '!',\n",
       " '!',\n",
       " '!',\n",
       " 'this',\n",
       " 'is',\n",
       " 'another',\n",
       " 'test',\n",
       " '!',\n",
       " 'test',\n",
       " '(',\n",
       " 'test',\n",
       " ')',\n",
       " '!',\n",
       " 'let',\n",
       " \"'\",\n",
       " 's',\n",
       " 'go',\n",
       " '.',\n",
       " '\"',\n",
       " 'yeah',\n",
       " ',',\n",
       " 'right',\n",
       " '\"']"
      ]
     },
     "execution_count": 28,
     "metadata": {},
     "output_type": "execute_result"
    }
   ],
   "source": [
    "analyze = CountVectorizer(tokenizer=tokenize).build_analyzer()\n",
    "analyze(test)"
   ]
  },
  {
   "cell_type": "markdown",
   "metadata": {},
   "source": [
    "## spacy"
   ]
  },
  {
   "cell_type": "code",
   "execution_count": 12,
   "metadata": {},
   "outputs": [],
   "source": [
    "from fastai.nlp import *\n",
    "import spacy"
   ]
  },
  {
   "cell_type": "code",
   "execution_count": 24,
   "metadata": {},
   "outputs": [],
   "source": [
    "spacy_tok = spacy.load('en')"
   ]
  },
  {
   "cell_type": "code",
   "execution_count": 25,
   "metadata": {},
   "outputs": [
    {
     "data": {
      "text/plain": [
       "[This,\n",
       " is,\n",
       " a,\n",
       " test,\n",
       " !,\n",
       " !,\n",
       " !,\n",
       " This,\n",
       " is,\n",
       " another,\n",
       " test,\n",
       " !,\n",
       " Test,\n",
       " (,\n",
       " Test,\n",
       " ),\n",
       " !,\n",
       " Let,\n",
       " 's,\n",
       " go,\n",
       " .,\n",
       " \",\n",
       " Yeah,\n",
       " ,,\n",
       " right,\n",
       " \"]"
      ]
     },
     "execution_count": 25,
     "metadata": {},
     "output_type": "execute_result"
    }
   ],
   "source": [
    "[i for i in spacy_tok(test)]"
   ]
  },
  {
   "cell_type": "markdown",
   "metadata": {},
   "source": [
    "# Bag of words (basic)"
   ]
  },
  {
   "cell_type": "code",
   "execution_count": 31,
   "metadata": {},
   "outputs": [],
   "source": [
    "from sklearn.feature_extraction.text import CountVectorizer"
   ]
  },
  {
   "cell_type": "code",
   "execution_count": 32,
   "metadata": {},
   "outputs": [],
   "source": [
    "test = ['This is a test!!! This is another test! Test !Let\\'s go. \\\"Yeah, right\\\" ',\n",
    "       'Started one sentence, and replaces 1 word with another (‘cats are cute’ to ‘justice are cute’). Then they made labels 1 if it was unchanged, and 0 if it was changed',\n",
    "        'However, we may find ourselves in a part of the weight space that isn\\'t very resilient - that is, small changes to the weights may result in big changes to the loss. We want to encourage our model to find parts of the weight space that are both accurate and stable'\n",
    "       ]"
   ]
  },
  {
   "cell_type": "code",
   "execution_count": 33,
   "metadata": {},
   "outputs": [],
   "source": [
    "vec = CountVectorizer(tokenizer=tokenize)\n",
    "temp = vec.fit_transform(test)"
   ]
  },
  {
   "cell_type": "code",
   "execution_count": 35,
   "metadata": {},
   "outputs": [
    {
     "data": {
      "text/plain": [
       "(3, 73)"
      ]
     },
     "execution_count": 35,
     "metadata": {},
     "output_type": "execute_result"
    }
   ],
   "source": [
    "temp.shape"
   ]
  },
  {
   "cell_type": "code",
   "execution_count": 42,
   "metadata": {
    "scrolled": true
   },
   "outputs": [
    {
     "data": {
      "text/plain": [
       "{'!': 0,\n",
       " '\"': 1,\n",
       " \"'\": 2,\n",
       " '(': 3,\n",
       " ')': 4,\n",
       " ',': 5,\n",
       " '-': 6,\n",
       " '.': 7,\n",
       " '0': 8,\n",
       " '1': 9,\n",
       " 'a': 10,\n",
       " 'accurate': 11,\n",
       " 'and': 12,\n",
       " 'another': 13,\n",
       " 'are': 14,\n",
       " 'big': 15,\n",
       " 'both': 16,\n",
       " 'cats': 17,\n",
       " 'changed': 18,\n",
       " 'changes': 19,\n",
       " 'cute': 20,\n",
       " 'encourage': 21,\n",
       " 'find': 22,\n",
       " 'go': 23,\n",
       " 'however': 24,\n",
       " 'if': 25,\n",
       " 'in': 26,\n",
       " 'is': 27,\n",
       " 'isn': 28,\n",
       " 'it': 29,\n",
       " 'justice': 30,\n",
       " 'labels': 31,\n",
       " 'let': 32,\n",
       " 'loss': 33,\n",
       " 'made': 34,\n",
       " 'may': 35,\n",
       " 'model': 36,\n",
       " 'of': 37,\n",
       " 'one': 38,\n",
       " 'our': 39,\n",
       " 'ourselves': 40,\n",
       " 'part': 41,\n",
       " 'parts': 42,\n",
       " 'replaces': 43,\n",
       " 'resilient': 44,\n",
       " 'result': 45,\n",
       " 'right': 46,\n",
       " 's': 47,\n",
       " 'sentence': 48,\n",
       " 'small': 49,\n",
       " 'space': 50,\n",
       " 'stable': 51,\n",
       " 'started': 52,\n",
       " 't': 53,\n",
       " 'test': 54,\n",
       " 'that': 55,\n",
       " 'the': 56,\n",
       " 'then': 57,\n",
       " 'they': 58,\n",
       " 'this': 59,\n",
       " 'to': 60,\n",
       " 'unchanged': 61,\n",
       " 'very': 62,\n",
       " 'want': 63,\n",
       " 'was': 64,\n",
       " 'we': 65,\n",
       " 'weight': 66,\n",
       " 'weights': 67,\n",
       " 'with': 68,\n",
       " 'word': 69,\n",
       " 'yeah': 70,\n",
       " '‘': 71,\n",
       " '’': 72}"
      ]
     },
     "execution_count": 42,
     "metadata": {},
     "output_type": "execute_result"
    }
   ],
   "source": [
    "vec.vocabulary_"
   ]
  },
  {
   "cell_type": "code",
   "execution_count": 43,
   "metadata": {
    "scrolled": true
   },
   "outputs": [],
   "source": [
    "# vec.get_feature_names() # get keys from vocabulary_"
   ]
  },
  {
   "cell_type": "code",
   "execution_count": 40,
   "metadata": {},
   "outputs": [
    {
     "data": {
      "text/plain": [
       "array([[5, 2, 1, 0, 0, 1, 0, 1, 0, 0, 1, 0, 0, 1, 0, 0, 0, 0, 0, 0, 0, 0, 0, 1, 0, 0, 0, 2, 0, 0, 0, 0, 1,\n",
       "        0, 0, 0, 0, 0, 0, 0, 0, 0, 0, 0, 0, 0, 1, 1, 0, 0, 0, 0, 0, 0, 3, 0, 0, 0, 0, 2, 0, 0, 0, 0, 0, 0,\n",
       "        0, 0, 0, 0, 1, 0, 0]])"
      ]
     },
     "execution_count": 40,
     "metadata": {},
     "output_type": "execute_result"
    }
   ],
   "source": [
    "temp[0].toarray()"
   ]
  }
 ],
 "metadata": {
  "kernelspec": {
   "display_name": "Python 3",
   "language": "python",
   "name": "python3"
  },
  "language_info": {
   "codemirror_mode": {
    "name": "ipython",
    "version": 3
   },
   "file_extension": ".py",
   "mimetype": "text/x-python",
   "name": "python",
   "nbconvert_exporter": "python",
   "pygments_lexer": "ipython3",
   "version": "3.6.4"
  }
 },
 "nbformat": 4,
 "nbformat_minor": 2
}
