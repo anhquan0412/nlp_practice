{
 "cells": [
  {
   "cell_type": "markdown",
   "metadata": {},
   "source": [
    "# Word tokenizer"
   ]
  },
  {
   "cell_type": "markdown",
   "metadata": {},
   "source": [
    "## sklearn"
   ]
  },
  {
   "cell_type": "code",
   "execution_count": 1,
   "metadata": {},
   "outputs": [
    {
     "name": "stdout",
     "output_type": "stream",
     "text": [
      "This is a test!!! This is another test! Test (Test) !Let's go. \"Yeah, right\" \n"
     ]
    }
   ],
   "source": [
    "test = 'This is a test!!! This is another test! Test (Test) !Let\\'s go. \\\"Yeah, right\\\" '\n",
    "print(test)"
   ]
  },
  {
   "cell_type": "code",
   "execution_count": 2,
   "metadata": {},
   "outputs": [],
   "source": [
    "from sklearn.feature_extraction.text import CountVectorizer"
   ]
  },
  {
   "cell_type": "code",
   "execution_count": 3,
   "metadata": {},
   "outputs": [
    {
     "data": {
      "text/plain": [
       "['this',\n",
       " 'is',\n",
       " 'test',\n",
       " 'this',\n",
       " 'is',\n",
       " 'another',\n",
       " 'test',\n",
       " 'test',\n",
       " 'test',\n",
       " 'let',\n",
       " 'go',\n",
       " 'yeah',\n",
       " 'right']"
      ]
     },
     "execution_count": 3,
     "metadata": {},
     "output_type": "execute_result"
    }
   ],
   "source": [
    "analyze = CountVectorizer().build_analyzer()\n",
    "analyze(test)"
   ]
  },
  {
   "cell_type": "markdown",
   "metadata": {},
   "source": [
    "## spacy"
   ]
  },
  {
   "cell_type": "code",
   "execution_count": null,
   "metadata": {},
   "outputs": [],
   "source": [
    "from fastai.nlp import *\n",
    "import spacy"
   ]
  },
  {
   "cell_type": "code",
   "execution_count": 24,
   "metadata": {},
   "outputs": [],
   "source": [
    "spacy_tok = spacy.load('en')"
   ]
  },
  {
   "cell_type": "code",
   "execution_count": 25,
   "metadata": {},
   "outputs": [
    {
     "data": {
      "text/plain": [
       "[This,\n",
       " is,\n",
       " a,\n",
       " test,\n",
       " !,\n",
       " !,\n",
       " !,\n",
       " This,\n",
       " is,\n",
       " another,\n",
       " test,\n",
       " !,\n",
       " Test,\n",
       " (,\n",
       " Test,\n",
       " ),\n",
       " !,\n",
       " Let,\n",
       " 's,\n",
       " go,\n",
       " .,\n",
       " \",\n",
       " Yeah,\n",
       " ,,\n",
       " right,\n",
       " \"]"
      ]
     },
     "execution_count": 25,
     "metadata": {},
     "output_type": "execute_result"
    }
   ],
   "source": [
    "[i for i in spacy_tok(test)]"
   ]
  },
  {
   "cell_type": "markdown",
   "metadata": {},
   "source": [
    "# Bag of words (basic)"
   ]
  },
  {
   "cell_type": "code",
   "execution_count": 6,
   "metadata": {},
   "outputs": [],
   "source": [
    "from sklearn.feature_extraction.text import CountVectorizer"
   ]
  },
  {
   "cell_type": "code",
   "execution_count": 7,
   "metadata": {},
   "outputs": [],
   "source": [
    "test = ['This is a test!!! This is another test! Test !Let\\'s go. \\\"Yeah, right\\\" ',\n",
    "       'Started one sentence, and replaces 1 word with another (‘cats are cute’ to ‘justice are cute’). Then they made labels 1 if it was unchanged, and 0 if it was changed',\n",
    "        'However, we may find ourselves in a part of the weight space that isn\\'t very resilient - that is, small changes to the weights may result in big changes to the loss. We want to encourage our model to find parts of the weight space that are both accurate and stable'\n",
    "       ]"
   ]
  },
  {
   "cell_type": "code",
   "execution_count": 9,
   "metadata": {},
   "outputs": [],
   "source": [
    "vec = CountVectorizer()\n",
    "temp = vec.fit_transform(test)"
   ]
  },
  {
   "cell_type": "code",
   "execution_count": 10,
   "metadata": {},
   "outputs": [
    {
     "data": {
      "text/plain": [
       "(3, 58)"
      ]
     },
     "execution_count": 10,
     "metadata": {},
     "output_type": "execute_result"
    }
   ],
   "source": [
    "temp.shape"
   ]
  },
  {
   "cell_type": "code",
   "execution_count": 11,
   "metadata": {
    "scrolled": true
   },
   "outputs": [
    {
     "data": {
      "text/plain": [
       "{'this': 46,\n",
       " 'is': 16,\n",
       " 'test': 41,\n",
       " 'another': 2,\n",
       " 'let': 21,\n",
       " 'go': 12,\n",
       " 'yeah': 57,\n",
       " 'right': 35,\n",
       " 'started': 40,\n",
       " 'one': 27,\n",
       " 'sentence': 36,\n",
       " 'and': 1,\n",
       " 'replaces': 32,\n",
       " 'word': 56,\n",
       " 'with': 55,\n",
       " 'cats': 6,\n",
       " 'are': 3,\n",
       " 'cute': 9,\n",
       " 'to': 47,\n",
       " 'justice': 19,\n",
       " 'then': 44,\n",
       " 'they': 45,\n",
       " 'made': 23,\n",
       " 'labels': 20,\n",
       " 'if': 14,\n",
       " 'it': 18,\n",
       " 'was': 51,\n",
       " 'unchanged': 48,\n",
       " 'changed': 7,\n",
       " 'however': 13,\n",
       " 'we': 52,\n",
       " 'may': 24,\n",
       " 'find': 11,\n",
       " 'ourselves': 29,\n",
       " 'in': 15,\n",
       " 'part': 30,\n",
       " 'of': 26,\n",
       " 'the': 43,\n",
       " 'weight': 53,\n",
       " 'space': 38,\n",
       " 'that': 42,\n",
       " 'isn': 17,\n",
       " 'very': 49,\n",
       " 'resilient': 33,\n",
       " 'small': 37,\n",
       " 'changes': 8,\n",
       " 'weights': 54,\n",
       " 'result': 34,\n",
       " 'big': 4,\n",
       " 'loss': 22,\n",
       " 'want': 50,\n",
       " 'encourage': 10,\n",
       " 'our': 28,\n",
       " 'model': 25,\n",
       " 'parts': 31,\n",
       " 'both': 5,\n",
       " 'accurate': 0,\n",
       " 'stable': 39}"
      ]
     },
     "execution_count": 11,
     "metadata": {},
     "output_type": "execute_result"
    }
   ],
   "source": [
    "vec.vocabulary_"
   ]
  },
  {
   "cell_type": "code",
   "execution_count": 16,
   "metadata": {
    "scrolled": true
   },
   "outputs": [
    {
     "data": {
      "text/plain": [
       "['accurate',\n",
       " 'and',\n",
       " 'another',\n",
       " 'are',\n",
       " 'big',\n",
       " 'both',\n",
       " 'cats',\n",
       " 'changed',\n",
       " 'changes',\n",
       " 'cute',\n",
       " 'encourage',\n",
       " 'find',\n",
       " 'go',\n",
       " 'however',\n",
       " 'if',\n",
       " 'in',\n",
       " 'is',\n",
       " 'isn',\n",
       " 'it',\n",
       " 'justice',\n",
       " 'labels',\n",
       " 'let',\n",
       " 'loss',\n",
       " 'made',\n",
       " 'may',\n",
       " 'model',\n",
       " 'of',\n",
       " 'one',\n",
       " 'our',\n",
       " 'ourselves',\n",
       " 'part',\n",
       " 'parts',\n",
       " 'replaces',\n",
       " 'resilient',\n",
       " 'result',\n",
       " 'right',\n",
       " 'sentence',\n",
       " 'small',\n",
       " 'space',\n",
       " 'stable',\n",
       " 'started',\n",
       " 'test',\n",
       " 'that',\n",
       " 'the',\n",
       " 'then',\n",
       " 'they',\n",
       " 'this',\n",
       " 'to',\n",
       " 'unchanged',\n",
       " 'very',\n",
       " 'want',\n",
       " 'was',\n",
       " 'we',\n",
       " 'weight',\n",
       " 'weights',\n",
       " 'with',\n",
       " 'word',\n",
       " 'yeah']"
      ]
     },
     "execution_count": 16,
     "metadata": {},
     "output_type": "execute_result"
    }
   ],
   "source": [
    "vec.get_feature_names()\n"
   ]
  },
  {
   "cell_type": "code",
   "execution_count": 15,
   "metadata": {},
   "outputs": [
    {
     "data": {
      "text/plain": [
       "array([[0, 0, 1, 0, 0, 0, 0, 0, 0, 0, 0, 0, 1, 0, 0, 0, 2, 0, 0, 0, 0, 1,\n",
       "        0, 0, 0, 0, 0, 0, 0, 0, 0, 0, 0, 0, 0, 1, 0, 0, 0, 0, 0, 3, 0, 0,\n",
       "        0, 0, 2, 0, 0, 0, 0, 0, 0, 0, 0, 0, 0, 1],\n",
       "       [0, 2, 1, 2, 0, 0, 1, 1, 0, 2, 0, 0, 0, 0, 2, 0, 0, 0, 2, 1, 1, 0,\n",
       "        0, 1, 0, 0, 0, 1, 0, 0, 0, 0, 1, 0, 0, 0, 1, 0, 0, 0, 1, 0, 0, 0,\n",
       "        1, 1, 0, 1, 1, 0, 0, 2, 0, 0, 0, 1, 1, 0],\n",
       "       [1, 1, 0, 1, 1, 1, 0, 0, 2, 0, 1, 2, 0, 1, 0, 2, 1, 1, 0, 0, 0, 0,\n",
       "        1, 0, 2, 1, 2, 0, 1, 1, 1, 1, 0, 1, 1, 0, 0, 1, 2, 1, 0, 0, 3, 4,\n",
       "        0, 0, 0, 4, 0, 1, 1, 0, 2, 2, 1, 0, 0, 0]])"
      ]
     },
     "execution_count": 15,
     "metadata": {},
     "output_type": "execute_result"
    }
   ],
   "source": [
    "temp.toarray() # convert collection of text documents to matrix of token counts"
   ]
  },
  {
   "cell_type": "markdown",
   "metadata": {},
   "source": [
    "# TF-IDF"
   ]
  },
  {
   "cell_type": "code",
   "execution_count": 12,
   "metadata": {},
   "outputs": [],
   "source": [
    "import pandas as pd"
   ]
  },
  {
   "cell_type": "code",
   "execution_count": 13,
   "metadata": {},
   "outputs": [],
   "source": [
    "import numpy as np"
   ]
  },
  {
   "cell_type": "code",
   "execution_count": 20,
   "metadata": {},
   "outputs": [],
   "source": [
    "from sklearn.feature_extraction.text import TfidfVectorizer\n",
    "vec = TfidfVectorizer(min_df=.2,max_df=.5,ngram_range=(1,2))"
   ]
  },
  {
   "cell_type": "code",
   "execution_count": 21,
   "metadata": {},
   "outputs": [],
   "source": [
    "test = ['This is a test!!! This is another test! Test !Let\\'s go. \\\"Yeah, right\\\" ',\n",
    "       'Started one sentence, and replaces 1 word with another (‘cats are cute’ to ‘justice are cute’). Then they made labels 1 if it was unchanged, and 0 if it was changed',\n",
    "        'However, we may find ourselves in a part of the weight space that isn\\'t very resilient - that is, small changes to the weights may result in big changes to the loss. We want to encourage our model to find parts of the weight space that are both accurate and stable'\n",
    "       ]\n",
    "texts=[\n",
    "    'good movie', 'not a good movie','did not like', 'i like it','good one'\n",
    "]"
   ]
  },
  {
   "cell_type": "code",
   "execution_count": 24,
   "metadata": {},
   "outputs": [
    {
     "data": {
      "text/plain": [
       "<3x129 sparse matrix of type '<class 'numpy.float64'>'\n",
       "\twith 129 stored elements in Compressed Sparse Row format>"
      ]
     },
     "execution_count": 24,
     "metadata": {},
     "output_type": "execute_result"
    }
   ],
   "source": [
    "features = vec.fit_transform(test)\n",
    "features"
   ]
  },
  {
   "cell_type": "code",
   "execution_count": 23,
   "metadata": {},
   "outputs": [
    {
     "data": {
      "text/html": [
       "<div>\n",
       "<style scoped>\n",
       "    .dataframe tbody tr th:only-of-type {\n",
       "        vertical-align: middle;\n",
       "    }\n",
       "\n",
       "    .dataframe tbody tr th {\n",
       "        vertical-align: top;\n",
       "    }\n",
       "\n",
       "    .dataframe thead th {\n",
       "        text-align: right;\n",
       "    }\n",
       "</style>\n",
       "<table border=\"1\" class=\"dataframe\">\n",
       "  <thead>\n",
       "    <tr style=\"text-align: right;\">\n",
       "      <th></th>\n",
       "      <th>accurate</th>\n",
       "      <th>accurate and</th>\n",
       "      <th>and if</th>\n",
       "      <th>and replaces</th>\n",
       "      <th>and stable</th>\n",
       "      <th>another cats</th>\n",
       "      <th>another test</th>\n",
       "      <th>are both</th>\n",
       "      <th>are cute</th>\n",
       "      <th>big</th>\n",
       "      <th>...</th>\n",
       "      <th>weight</th>\n",
       "      <th>weight space</th>\n",
       "      <th>weights</th>\n",
       "      <th>weights may</th>\n",
       "      <th>with</th>\n",
       "      <th>with another</th>\n",
       "      <th>word</th>\n",
       "      <th>word with</th>\n",
       "      <th>yeah</th>\n",
       "      <th>yeah right</th>\n",
       "    </tr>\n",
       "  </thead>\n",
       "  <tbody>\n",
       "    <tr>\n",
       "      <th>0</th>\n",
       "      <td>0.000000</td>\n",
       "      <td>0.000000</td>\n",
       "      <td>0.000000</td>\n",
       "      <td>0.000000</td>\n",
       "      <td>0.000000</td>\n",
       "      <td>0.000000</td>\n",
       "      <td>0.182574</td>\n",
       "      <td>0.000000</td>\n",
       "      <td>0.000000</td>\n",
       "      <td>0.000000</td>\n",
       "      <td>...</td>\n",
       "      <td>0.000000</td>\n",
       "      <td>0.000000</td>\n",
       "      <td>0.000000</td>\n",
       "      <td>0.000000</td>\n",
       "      <td>0.000000</td>\n",
       "      <td>0.000000</td>\n",
       "      <td>0.000000</td>\n",
       "      <td>0.000000</td>\n",
       "      <td>0.182574</td>\n",
       "      <td>0.182574</td>\n",
       "    </tr>\n",
       "    <tr>\n",
       "      <th>1</th>\n",
       "      <td>0.000000</td>\n",
       "      <td>0.000000</td>\n",
       "      <td>0.125988</td>\n",
       "      <td>0.125988</td>\n",
       "      <td>0.000000</td>\n",
       "      <td>0.125988</td>\n",
       "      <td>0.000000</td>\n",
       "      <td>0.000000</td>\n",
       "      <td>0.251976</td>\n",
       "      <td>0.000000</td>\n",
       "      <td>...</td>\n",
       "      <td>0.000000</td>\n",
       "      <td>0.000000</td>\n",
       "      <td>0.000000</td>\n",
       "      <td>0.000000</td>\n",
       "      <td>0.125988</td>\n",
       "      <td>0.125988</td>\n",
       "      <td>0.125988</td>\n",
       "      <td>0.125988</td>\n",
       "      <td>0.000000</td>\n",
       "      <td>0.000000</td>\n",
       "    </tr>\n",
       "    <tr>\n",
       "      <th>2</th>\n",
       "      <td>0.085749</td>\n",
       "      <td>0.085749</td>\n",
       "      <td>0.000000</td>\n",
       "      <td>0.000000</td>\n",
       "      <td>0.085749</td>\n",
       "      <td>0.000000</td>\n",
       "      <td>0.000000</td>\n",
       "      <td>0.085749</td>\n",
       "      <td>0.000000</td>\n",
       "      <td>0.085749</td>\n",
       "      <td>...</td>\n",
       "      <td>0.171499</td>\n",
       "      <td>0.171499</td>\n",
       "      <td>0.085749</td>\n",
       "      <td>0.085749</td>\n",
       "      <td>0.000000</td>\n",
       "      <td>0.000000</td>\n",
       "      <td>0.000000</td>\n",
       "      <td>0.000000</td>\n",
       "      <td>0.000000</td>\n",
       "      <td>0.000000</td>\n",
       "    </tr>\n",
       "  </tbody>\n",
       "</table>\n",
       "<p>3 rows × 129 columns</p>\n",
       "</div>"
      ],
      "text/plain": [
       "   accurate  accurate and    and if  and replaces  and stable  another cats  \\\n",
       "0  0.000000      0.000000  0.000000      0.000000    0.000000      0.000000   \n",
       "1  0.000000      0.000000  0.125988      0.125988    0.000000      0.125988   \n",
       "2  0.085749      0.085749  0.000000      0.000000    0.085749      0.000000   \n",
       "\n",
       "   another test  are both  are cute       big     ...        weight  \\\n",
       "0      0.182574  0.000000  0.000000  0.000000     ...      0.000000   \n",
       "1      0.000000  0.000000  0.251976  0.000000     ...      0.000000   \n",
       "2      0.000000  0.085749  0.000000  0.085749     ...      0.171499   \n",
       "\n",
       "   weight space   weights  weights may      with  with another      word  \\\n",
       "0      0.000000  0.000000     0.000000  0.000000      0.000000  0.000000   \n",
       "1      0.000000  0.000000     0.000000  0.125988      0.125988  0.125988   \n",
       "2      0.171499  0.085749     0.085749  0.000000      0.000000  0.000000   \n",
       "\n",
       "   word with      yeah  yeah right  \n",
       "0   0.000000  0.182574    0.182574  \n",
       "1   0.125988  0.000000    0.000000  \n",
       "2   0.000000  0.000000    0.000000  \n",
       "\n",
       "[3 rows x 129 columns]"
      ]
     },
     "execution_count": 23,
     "metadata": {},
     "output_type": "execute_result"
    }
   ],
   "source": [
    "pd.DataFrame(features.todense(),columns = vec.get_feature_names())"
   ]
  }
 ],
 "metadata": {
  "kernelspec": {
   "display_name": "Python 3",
   "language": "python",
   "name": "python3"
  },
  "language_info": {
   "codemirror_mode": {
    "name": "ipython",
    "version": 3
   },
   "file_extension": ".py",
   "mimetype": "text/x-python",
   "name": "python",
   "nbconvert_exporter": "python",
   "pygments_lexer": "ipython3",
   "version": "3.7.4"
  }
 },
 "nbformat": 4,
 "nbformat_minor": 2
}
