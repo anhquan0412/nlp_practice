{
 "cells": [
  {
   "cell_type": "markdown",
   "metadata": {},
   "source": [
    "# cons of \"one representation\" of words"
   ]
  },
  {
   "cell_type": "markdown",
   "metadata": {},
   "source": [
    "Up until now, we’ve basically had one representation of words: The word vectors that we learned about at the beginning\n",
    "- Word2vec, GloVe, fastText\n",
    "    \n",
    "Problems:\n",
    "- **Problem 1**: a word can have different meanings (\"sense\"), depending on the context, and now we try to collapse all the meanings of a word into 1 single vector, and hope that your model is complex enough that it can pick out the correct word meaning\n",
    "- quick solution: define different word-senses for each word and build a vector for each\n",
    "\n",
    "=> what you want is to **build not a perfect word vector that can capture all of its meanings, but a word vector that is correct in your given context**\n",
    "\n",
    "- **Problem 2**: on a more general view, not just different meanings but words have different aspects, including semantics, syntactic behavior, and register/connotations.\n",
    "    "
   ]
  },
  {
   "cell_type": "markdown",
   "metadata": {},
   "source": [
    "However, these problems have been solved by the process of building a language model that predicts next word; **by doing so you already generate a context-specific representation of words**"
   ]
  },
  {
   "cell_type": "markdown",
   "metadata": {},
   "source": [
    "# Tag LM (pre ELMO) for Name Entity Recognition (NER)"
   ]
  },
  {
   "cell_type": "markdown",
   "metadata": {},
   "source": [
    "![](images/context_1.png)"
   ]
  },
  {
   "cell_type": "markdown",
   "metadata": {},
   "source": [
    "Note that \"word embedding model\" is the word embedding from w2v/glove/fasttext"
   ]
  },
  {
   "cell_type": "markdown",
   "metadata": {},
   "source": [
    "![](images/context_2.png)"
   ]
  },
  {
   "cell_type": "markdown",
   "metadata": {},
   "source": [
    "Token embedding is from w2v/glove/fasttext\n",
    "\n",
    "Note: \n",
    "- only concat the hidden state, not the embeddings of LM model and w2v model\n",
    "- This is **not end-to-end training**: by 'pretrained', we only use the output hidden state of LM model as input for the Sequence-tagging feature. **In another word, the LM model is trained first ('pretrained') and is frozen after we extract the hidden states**\n"
   ]
  },
  {
   "cell_type": "markdown",
   "metadata": {},
   "source": [
    "# ELMO"
   ]
  },
  {
   "cell_type": "markdown",
   "metadata": {},
   "source": [
    "Peters et al. (2018): ELMo: Embeddings from Language\n",
    "Models\n",
    "- Train a bidirectional LM\n",
    "- Aim at performant but not overly large LM:\n",
    "    - Use 2 biLSTM layers\n",
    "    - Use character CNN to build initial word representation (only)\n",
    "        - 2048 char n-gram filters and 2 highway layers, 512 dim projection\n",
    "    - User 4096 dim hidden/cell LSTM states with 512 dim projections to next input\n",
    "    - Use a residual connection\n",
    "    - Tie parameters of token input and output (softmax) and tie these between forward and backward LMs\n",
    "    \n",
    "    \n",
    "    \n",
    "- TagLM uses only the top layer of LSTM stack; **ELMO utilizes all the layers of LSTM stack, and assign a learnable scaling factor to determine how much of a layer (which can contribute to a \"task\") to take in**\n",
    "    - First run biLM to get representations for each word\n",
    "    - Then let (whatever) end-task model use them\n",
    "        - Freeze weights of ELMo for purposes of supervised model\n",
    "        - Concatenate ELMo weights into task-specific model\n",
    "        - Details depend on task\n",
    "            - Concatenating into intermediate layer as for TagLM is typical\n",
    "            - Can provide ELMo representations again when producing outputs, as in a question answering system"
   ]
  },
  {
   "cell_type": "markdown",
   "metadata": {},
   "source": [
    "## weighting of layers for different tasks"
   ]
  },
  {
   "cell_type": "markdown",
   "metadata": {},
   "source": [
    "The two biLSTM NLM layers have differentiated uses/meanings\n",
    "- Lower layer is better for lower-level syntax, etc.\n",
    "    - Part-of-speech tagging, syntactic dependencies, NER\n",
    "- Higher layer is better for higher-level semantics\n",
    "    - Sentiment, Semantic role labeling, question answering, SNLI"
   ]
  },
  {
   "cell_type": "markdown",
   "metadata": {},
   "source": [
    "# Transformers"
   ]
  },
  {
   "cell_type": "markdown",
   "metadata": {},
   "source": [
    "http://nlp.seas.harvard.edu/2018/04/03/attention.html"
   ]
  },
  {
   "cell_type": "markdown",
   "metadata": {},
   "source": [
    "We want parallelization but RNNs are inherently sequential\n",
    "- Despite GRUs and LSTMs, **RNNs still need attention mechanism to deal with long range dependencies** – path length between states grows with sequence otherwise\n",
    "- But if attention gives us access to any state… **maybe we can just use attention and don’t need the RNN?**\n"
   ]
  },
  {
   "cell_type": "markdown",
   "metadata": {},
   "source": [
    "![](images/transformer_1.png)"
   ]
  },
  {
   "cell_type": "markdown",
   "metadata": {},
   "source": [
    "![](images/transformer_2.png)"
   ]
  },
  {
   "cell_type": "markdown",
   "metadata": {},
   "source": [
    "![](images/transformer_3.png)"
   ]
  },
  {
   "cell_type": "markdown",
   "metadata": {},
   "source": [
    "# Transformer's Encoder"
   ]
  },
  {
   "cell_type": "markdown",
   "metadata": {},
   "source": [
    "## Self-attention in the **encoder**\n",
    "\n",
    "- The input word vectors are the queries, keys and values\n",
    "- In other words: the word vectors themselves select each other\n",
    "- Word vector stack = Q = K = V\n",
    "- We’ll see in the decoder why we separate them in the definition"
   ]
  },
  {
   "cell_type": "markdown",
   "metadata": {},
   "source": [
    "## Multihead attention"
   ]
  },
  {
   "cell_type": "markdown",
   "metadata": {},
   "source": [
    "![](images/transformer_4.png)"
   ]
  },
  {
   "cell_type": "markdown",
   "metadata": {},
   "source": [
    "Note: mapping Q,K,V to multiple lower dimensional spaces using fully-connected linear layer\n",
    "- for head 1 (i=1), use weight matrix WiQ for Q, W1K for K and W1V for V"
   ]
  },
  {
   "cell_type": "markdown",
   "metadata": {},
   "source": [
    "## Complete transformer block"
   ]
  },
  {
   "cell_type": "markdown",
   "metadata": {},
   "source": [
    "![](images/transformer_5.png)"
   ]
  },
  {
   "cell_type": "markdown",
   "metadata": {},
   "source": [
    "Layer norm formula is essentially the same as batchnorm, but\n",
    "- calculated for EACH TRAINING POINT\n",
    "- No moving average\n",
    "- Average over the hidden dimension to make the norm strategy independent of the batch size"
   ]
  },
  {
   "cell_type": "markdown",
   "metadata": {},
   "source": [
    "## Multi-block with multi-head attention vs LSTM/RNN\n",
    "\n",
    "- RNN:\n",
    "    - \\+ get recurrent information carried in a sentence by feeding 1 batch of words at a time\n",
    "    - \\- CANNOT parallelize using GPU, aka cannot feed the entire batch of sentences at once\n",
    "- multi-block with multi-head attention\n",
    "    - \\+ With block stacking on top of each other, each block will try to capture information in a chain: 1st block can capture 1st info of a chain, 2nd block can capture 2nd info of a chain => similar to RNN\n",
    "    - \\+ CAN feed the entire batch of sequences => parallelize well using GPUs\n",
    "    - \\- disregard the position of words in a sentence: 2 of the same words in different position might be treated the same way, or dont know where you are at in the sentence\n",
    "        - Solution: **positional encoding** so same words at different locations have different overall representations:"
   ]
  },
  {
   "cell_type": "markdown",
   "metadata": {},
   "source": [
    "## The complete encoder"
   ]
  },
  {
   "cell_type": "markdown",
   "metadata": {},
   "source": [
    "![](images/transformer_6.png)"
   ]
  },
  {
   "cell_type": "markdown",
   "metadata": {},
   "source": [
    "## TODO: visualization in encoder"
   ]
  },
  {
   "cell_type": "markdown",
   "metadata": {},
   "source": [
    "Attention visualization in layer 5"
   ]
  },
  {
   "cell_type": "markdown",
   "metadata": {},
   "source": [
    "![](images/transformer_7.png)"
   ]
  },
  {
   "cell_type": "markdown",
   "metadata": {},
   "source": [
    "# Transformer's Decoder"
   ]
  },
  {
   "cell_type": "markdown",
   "metadata": {},
   "source": [
    "TODO"
   ]
  },
  {
   "cell_type": "markdown",
   "metadata": {},
   "source": [
    "# BERT"
   ]
  },
  {
   "cell_type": "markdown",
   "metadata": {},
   "source": [
    "Pre-training of Deep Bidirectional Transformers for Language Understanding"
   ]
  },
  {
   "cell_type": "markdown",
   "metadata": {},
   "source": [
    "Problem: Language models only use left context or right context, why?\n",
    "- Reason 1: Directionality is needed to generate a well-formed probability distribution.\n",
    "- Reason 2: Words can “see themselves” (cheating) in a bidirectional encoder.\n",
    "\n",
    "**but language understanding is bidirectional.**\n"
   ]
  },
  {
   "cell_type": "markdown",
   "metadata": {},
   "source": [
    "Solution: Mask out k% of the input words, and then predict the\n",
    "masked words\n",
    "- They always use k = 15%\n",
    "                  store          gallon\n",
    "                    ↑              ↑ \n",
    "the man went to the [MASK] to buy a [MASK] of milk\n",
    "- Too little masking: Too expensive to train\n",
    "- Too much masking: Not enough context\n",
    "\n",
    "TODO: can we do a multiclass prediction and choose synonyms of [MASK] words?"
   ]
  },
  {
   "cell_type": "markdown",
   "metadata": {},
   "source": [
    "## BERT next sentence prediction"
   ]
  },
  {
   "cell_type": "markdown",
   "metadata": {},
   "source": [
    "![](images/transformer_8.png)"
   ]
  },
  {
   "cell_type": "markdown",
   "metadata": {},
   "source": [
    "- a binary classification task"
   ]
  },
  {
   "cell_type": "markdown",
   "metadata": {},
   "source": [
    "## a typical embedding input of BERT"
   ]
  },
  {
   "cell_type": "markdown",
   "metadata": {},
   "source": [
    "![](images/transformer_9.png)"
   ]
  },
  {
   "cell_type": "markdown",
   "metadata": {},
   "source": [
    "Note that you will add these 3 embeddings since you will use multi-head encoder (Transformer) which take attention from words (it won't be ideal to concatenate them and perform attention?)"
   ]
  },
  {
   "cell_type": "markdown",
   "metadata": {},
   "source": [
    "Noted that wordpieces are not simply word embeddings: i\n",
    "- Wordpiece model tokenizes inside words\n",
    "- BERT uses a variant of the wordpiece model\n",
    "    - (Relatively) use common words that are in the vocabulary: at, fairfax, 1910s\n",
    "- Other words are built from wordpieces:\n",
    "    - hypatia = h ##yp ##ati ##a"
   ]
  },
  {
   "cell_type": "markdown",
   "metadata": {},
   "source": [
    "## losses\n",
    "\n",
    "You will have 2 losses: one from predict the [MASK] words and one binary prediction's loss from predict whether correct next sentence or not"
   ]
  },
  {
   "cell_type": "markdown",
   "metadata": {},
   "source": [
    "## BERT model architecture and training"
   ]
  },
  {
   "cell_type": "markdown",
   "metadata": {},
   "source": [
    "\n",
    "- Transformer encoder (as before)\n",
    "- Self-attention ⇒ no locality bias\n",
    "    - Long-distance context has “equal opportunity”\n",
    "- Single multiplication per layer ⇒ efficiency on GPU/TPU\n",
    "- Train on Wikipedia + BookCorpus\n",
    "- Train 2 model sizes:\n",
    "    - BERT-Base: 12-layer, 768-hidden, 12-head\n",
    "    - BERT-Large: 24-layer, 1024-hidden, 16-head\n",
    "- Trained on 4x4 or 8x8 TPU slice for 4 days"
   ]
  },
  {
   "cell_type": "markdown",
   "metadata": {},
   "source": [
    "## BERT model finetuning"
   ]
  },
  {
   "cell_type": "markdown",
   "metadata": {},
   "source": [
    "You can take the model, pre-train, and use that same architecture + weights for different tasks\n",
    "- Simply learn a classifier built on the top layer for the task that you fine tune for (similarly to ULMfit)"
   ]
  },
  {
   "cell_type": "markdown",
   "metadata": {},
   "source": [
    "![](images/transformer_10.png)"
   ]
  }
 ],
 "metadata": {
  "kernelspec": {
   "display_name": "Python 3",
   "language": "python",
   "name": "python3"
  },
  "language_info": {
   "codemirror_mode": {
    "name": "ipython",
    "version": 3
   },
   "file_extension": ".py",
   "mimetype": "text/x-python",
   "name": "python",
   "nbconvert_exporter": "python",
   "pygments_lexer": "ipython3",
   "version": "3.7.4"
  }
 },
 "nbformat": 4,
 "nbformat_minor": 4
}
