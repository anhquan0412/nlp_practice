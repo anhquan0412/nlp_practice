{
 "cells": [
  {
   "cell_type": "markdown",
   "metadata": {
    "heading_collapsed": true
   },
   "source": [
    "# Question Answering"
   ]
  },
  {
   "cell_type": "markdown",
   "metadata": {
    "hidden": true
   },
   "source": [
    "- Lecture: https://www.youtube.com/watch?v=yIdF-17HwSk&list=PLoROMvodv4rOhcuXMZkNm7j3fVwBBY42z&index=11&t=0s\n",
    "\n",
    "- Slide: http://web.stanford.edu/class/cs224n/slides/cs224n-2020-lecture10-QA.pdf"
   ]
  },
  {
   "cell_type": "markdown",
   "metadata": {
    "hidden": true
   },
   "source": [
    "![](images/question_answering_1.png)"
   ]
  },
  {
   "cell_type": "markdown",
   "metadata": {
    "hidden": true
   },
   "source": [
    "- SQUAD and SQUAD2.0 dataset (question answering) and its limitation (span answer)\n",
    "- Stanford Attentive Reader (SAR) and SAR++\n",
    "- BiDAF from AI institute (self attention?)\n",
    "- So many way to calculate and use attention\n",
    "- FusionNet: combine all those attention usages and stack 5 of them together"
   ]
  },
  {
   "cell_type": "markdown",
   "metadata": {},
   "source": [
    "# CNN"
   ]
  },
  {
   "cell_type": "markdown",
   "metadata": {},
   "source": [
    "Slide: http://web.stanford.edu/class/cs224n/slides/cs224n-2020-lecture11-convnets.pdf\n",
    "\n",
    "Video: https://youtu.be/EAJoRA0KX7I?t=1407"
   ]
  },
  {
   "cell_type": "markdown",
   "metadata": {},
   "source": [
    "Why RNN to CNN\n",
    "- RNN: \n",
    "    - have to go through the **entire sequence** (e.g. the entire sentence in classification task) **from one end to another** for a final vector (hidden vector h), and **normally capture too much of last words inside this vector** (assuming no LSTM or attention tweak)\n",
    "    - RNN always go through prefix context before getting to a subsequent short phrases, e.g. the country of my birth ..., **RNN cannot capture the phrase \"my birth\" independently without considering \"the country of\"**\n",
    "    \n",
    "- CNN: can compute \"vectors\" for every possible \"word subsequence\" of a certain length\n",
    "    - e.g: for the example above: the country, country of, of my, my birth ...\n",
    "    - Regardless of whether phrase is grammatical\n"
   ]
  },
  {
   "cell_type": "markdown",
   "metadata": {},
   "source": [
    "![](images/cnn_1.png)"
   ]
  },
  {
   "cell_type": "markdown",
   "metadata": {},
   "source": [
    "You can add padding 1 (start word and end word with embedding 0s) to maintain number of outputs (# of rows) and add more filters (2 more) to increase dimension of output matrix (# of columns)\n",
    "\n",
    "Also if you want to increase number of outputs (# of rows), you can increase padding (padding = 2), aka wide convolution"
   ]
  },
  {
   "cell_type": "markdown",
   "metadata": {},
   "source": [
    "![](images/cnn_2.png)"
   ]
  },
  {
   "cell_type": "markdown",
   "metadata": {},
   "source": [
    "Similary to computer vision, each filter should be able to learn (by SGD) to specialize different thing, such as filter 1 can specialize if a phrase is \"polite\" (produce high value) or \"rude\" (low value)\n",
    "\n",
    "In this sentence, for each phrase, is it in a polite tone and talk about food and blabla\n",
    "\n",
    "=> In a sense, we can summarize the whole sentence with respect to these features (produced by filters), by doing **max pool**"
   ]
  },
  {
   "cell_type": "markdown",
   "metadata": {},
   "source": [
    "![](images/cnn_3.png)"
   ]
  },
  {
   "cell_type": "markdown",
   "metadata": {},
   "source": [
    "So if the first 2 features is \"polite\" and \"food\", then this whole text is not polite but is talking about food\n",
    "\n",
    "You can also do an **average pooling** to show \"what is the average amount of politeness in this text\"\n",
    "\n",
    "Sometimes **max pooling** is better, because of the nature of natural language:\n",
    "- signals in language are often sparse (you will express politeness in some words, not every word)\n"
   ]
  },
  {
   "cell_type": "markdown",
   "metadata": {},
   "source": [
    "https://youtu.be/EAJoRA0KX7I?t=1407"
   ]
  }
 ],
 "metadata": {
  "kernelspec": {
   "display_name": "Python 3",
   "language": "python",
   "name": "python3"
  },
  "language_info": {
   "codemirror_mode": {
    "name": "ipython",
    "version": 3
   },
   "file_extension": ".py",
   "mimetype": "text/x-python",
   "name": "python",
   "nbconvert_exporter": "python",
   "pygments_lexer": "ipython3",
   "version": "3.7.4"
  }
 },
 "nbformat": 4,
 "nbformat_minor": 4
}
