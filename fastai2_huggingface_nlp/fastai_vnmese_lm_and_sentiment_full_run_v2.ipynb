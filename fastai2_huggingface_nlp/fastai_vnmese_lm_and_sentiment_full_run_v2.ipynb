{
 "cells": [
  {
   "cell_type": "markdown",
   "metadata": {
    "toc": true
   },
   "source": [
    "<h1>Table of Contents<span class=\"tocSkip\"></span></h1>\n",
    "<div class=\"toc\"><ul class=\"toc-item\"><li><span><a href=\"#Prepare-df\" data-toc-modified-id=\"Prepare-df-1\"><span class=\"toc-item-num\">1&nbsp;&nbsp;</span>Prepare df</a></span></li><li><span><a href=\"#Build-LM-wiki\" data-toc-modified-id=\"Build-LM-wiki-2\"><span class=\"toc-item-num\">2&nbsp;&nbsp;</span>Build LM wiki</a></span><ul class=\"toc-item\"><li><span><a href=\"#LM-learner\" data-toc-modified-id=\"LM-learner-2.1\"><span class=\"toc-item-num\">2.1&nbsp;&nbsp;</span>LM learner</a></span><ul class=\"toc-item\"><li><span><a href=\"#define-learner\" data-toc-modified-id=\"define-learner-2.1.1\"><span class=\"toc-item-num\">2.1.1&nbsp;&nbsp;</span>define learner</a></span></li><li><span><a href=\"#Start-training\" data-toc-modified-id=\"Start-training-2.1.2\"><span class=\"toc-item-num\">2.1.2&nbsp;&nbsp;</span>Start training</a></span></li><li><span><a href=\"#Save-model\" data-toc-modified-id=\"Save-model-2.1.3\"><span class=\"toc-item-num\">2.1.3&nbsp;&nbsp;</span>Save model</a></span></li></ul></li></ul></li><li><span><a href=\"#Finetuning-LM-with-sentiment-analysis-data\" data-toc-modified-id=\"Finetuning-LM-with-sentiment-analysis-data-3\"><span class=\"toc-item-num\">3&nbsp;&nbsp;</span>Finetuning LM with sentiment analysis data</a></span><ul class=\"toc-item\"><li><span><a href=\"#prepare-datablock-and-dataloaders\" data-toc-modified-id=\"prepare-datablock-and-dataloaders-3.1\"><span class=\"toc-item-num\">3.1&nbsp;&nbsp;</span>prepare datablock and dataloaders</a></span></li><li><span><a href=\"#Load-params-and-vocab\" data-toc-modified-id=\"Load-params-and-vocab-3.2\"><span class=\"toc-item-num\">3.2&nbsp;&nbsp;</span>Load params and vocab</a></span></li><li><span><a href=\"#training\" data-toc-modified-id=\"training-3.3\"><span class=\"toc-item-num\">3.3&nbsp;&nbsp;</span>training</a></span></li></ul></li><li><span><a href=\"#Sentiment-classification\" data-toc-modified-id=\"Sentiment-classification-4\"><span class=\"toc-item-num\">4&nbsp;&nbsp;</span>Sentiment classification</a></span><ul class=\"toc-item\"><li><span><a href=\"#prepare-text-clas-datablock-and-dataloaders\" data-toc-modified-id=\"prepare-text-clas-datablock-and-dataloaders-4.1\"><span class=\"toc-item-num\">4.1&nbsp;&nbsp;</span>prepare text clas datablock and dataloaders</a></span></li><li><span><a href=\"#Training\" data-toc-modified-id=\"Training-4.2\"><span class=\"toc-item-num\">4.2&nbsp;&nbsp;</span>Training</a></span><ul class=\"toc-item\"><li><span><a href=\"#define-sentiment-clas-learner\" data-toc-modified-id=\"define-sentiment-clas-learner-4.2.1\"><span class=\"toc-item-num\">4.2.1&nbsp;&nbsp;</span>define sentiment clas learner</a></span></li><li><span><a href=\"#training\" data-toc-modified-id=\"training-4.2.2\"><span class=\"toc-item-num\">4.2.2&nbsp;&nbsp;</span>training</a></span></li></ul></li></ul></li></ul></div>"
   ]
  },
  {
   "cell_type": "code",
   "execution_count": 1,
   "metadata": {},
   "outputs": [],
   "source": [
    "from fastai.text.all import *"
   ]
  },
  {
   "cell_type": "code",
   "execution_count": 2,
   "metadata": {},
   "outputs": [],
   "source": [
    "path = Path('/home/quan/.fastai/data/viwiki')"
   ]
  },
  {
   "cell_type": "code",
   "execution_count": 3,
   "metadata": {},
   "outputs": [
    {
     "data": {
      "text/plain": [
       "Path('/home/quan/.fastai/data/viwiki')"
      ]
     },
     "execution_count": 3,
     "metadata": {},
     "output_type": "execute_result"
    }
   ],
   "source": [
    "path"
   ]
  },
  {
   "cell_type": "code",
   "execution_count": 4,
   "metadata": {},
   "outputs": [
    {
     "data": {
      "text/plain": [
       "Path('/home/quan/.fastai/data/viwiki/docs')"
      ]
     },
     "execution_count": 4,
     "metadata": {},
     "output_type": "execute_result"
    }
   ],
   "source": [
    "path/'docs'"
   ]
  },
  {
   "cell_type": "code",
   "execution_count": 5,
   "metadata": {},
   "outputs": [
    {
     "name": "stdout",
     "output_type": "stream",
     "text": [
      "/home/quan/.fastai/data/viwiki/models\n"
     ]
    }
   ],
   "source": [
    "# mdl_path = path/'models'\n",
    "# print(mdl_path)\n",
    "# mdl_path.mkdir(exist_ok=True)\n",
    "# lm_fns = [f'vi_wt', f'vi_wt_vocab']"
   ]
  },
  {
   "cell_type": "code",
   "execution_count": 6,
   "metadata": {},
   "outputs": [
    {
     "data": {
      "text/plain": [
       "(#5) [Path('/home/quan/.fastai/data/viwiki/docs/Doug Emhoff.txt'),Path('/home/quan/.fastai/data/viwiki/docs/HMS Myngs (R06).txt'),Path('/home/quan/.fastai/data/viwiki/docs/Xuân La (phường).txt'),Path('/home/quan/.fastai/data/viwiki/docs/Cung điện Goldstein.txt'),Path('/home/quan/.fastai/data/viwiki/docs/Tứ khố toàn thư.txt')]"
      ]
     },
     "execution_count": 6,
     "metadata": {},
     "output_type": "execute_result"
    }
   ],
   "source": [
    "(path/'docs').ls()[:5]"
   ]
  },
  {
   "cell_type": "markdown",
   "metadata": {},
   "source": [
    "Note! Dataset: we have a list of txt files"
   ]
  },
  {
   "cell_type": "markdown",
   "metadata": {},
   "source": [
    "# Prepare df"
   ]
  },
  {
   "cell_type": "code",
   "execution_count": 8,
   "metadata": {},
   "outputs": [],
   "source": [
    "def make_lol(path): # make list of list containing file name and file content\n",
    "    name = path.stem\n",
    "    with open(path, 'r',encoding=\"utf-8\") as temp:\n",
    "        data = temp.read()\n",
    "    return [name,data]"
   ]
  },
  {
   "cell_type": "code",
   "execution_count": 9,
   "metadata": {
    "scrolled": true
   },
   "outputs": [
    {
     "name": "stdout",
     "output_type": "stream",
     "text": [
      "Doug Emhoff\n",
      "\n",
      "Douglas Craig Emhoff (sinh ngày 13 tháng 10 năm 1964) là một luật sư người Mỹ và là chồng của Phó Tổng thống đắc cử Kamala Harris. Ông sẽ trở thành \"Đệ nhị Phu quân\" đầu tiên trong lịch sử Mỹ và là người phối ngẫu gốc Do Thái đầu tiên của một phó tổng thống.\n",
      "\n",
      "Emhoff sinh ra tại quận Brooklyn của Thành phố New York, là con trai của bố mẹ gốc Do Thái là bà Barbara (nhũ danh Kanzer) và ông Michael Emhoff. Ông có một anh trai là Andy Emhoff và một em gái là Jamie Emhoff. Ông sống ở New Jersey từ năm 1969 đến năm 1981 trước khi cùng gia đình chuyển đến California năm 17 tuổi. Emhoff lấy bằng Cử nhân Văn học tại Đại học Bang California tại Northridge và bằng Tiến sĩ Luật từ Trường Luật Gould thuộc Viện Đại học Nam California vào năm 1990.\n",
      "\n",
      "Emhoff đã kết hôn 16 năm với người vợ đầu là bà Kerstin Emhoff (nhũ danh Mackin). Họ có hai con, Cole và Ella. Sau khi cuộc hôn nhân thứ nhất kết thúc, ông kết hôn với bà Kamala Harris vào ngày 22 tháng 8 năm 2014, tại Santa Barbara, California. Lúc này bà Kamala đang giữ chức Tổng chưởng lý của tiểu bang California. Tính đến tháng 8 năm 2019, Emhoff và Harris có tổng tài sản ròng ước tính là 5,8 triệu đô la.\n",
      "\n",
      "Kamala Harris là ứng cử viên trong cuộc bầu cử sơ bộ Tổng thống Đảng Dân chủ năm 2020 trước khi rút lui vào tháng 12 năm 2019. Harris được chọn là ứng cử viên phó tổng thống tranh cử cùng Joe Biden cho cuộc bầu cử tổng thống Hoa Kỳ năm 2020 vào ngày 11 tháng 8 năm 2020, khiến Emhoff trở thành người đàn ông thứ ba trong lịch sử Hoa Kỳ trở thành vợ hoặc chồng của một ứng viên phó tổng thống. Khi Harris nhậm chức, Emhoff sẽ trở thành Đệ nhị Phu quân đầu tiên của Hoa Kỳ. Ông cũng sẽ là người phối ngẫu gốc Do Thái đầu tiên của một phó tổng thống Hoa Kỳ.\n",
      "\n",
      "Trong vai trò là Đệ nhị Phu quân, Emhoff sẽ tập trung vào việc đảm bảo việc tiếp cận công lý và đại diện pháp lý trở nên bình đẳng hơn.\n",
      "\n",
      "\n",
      "\n"
     ]
    }
   ],
   "source": [
    "temp = make_lol((path/'docs').ls()[0])\n",
    "print(temp[1])"
   ]
  },
  {
   "cell_type": "code",
   "execution_count": 10,
   "metadata": {},
   "outputs": [
    {
     "data": {
      "text/plain": [
       "82346"
      ]
     },
     "execution_count": 10,
     "metadata": {},
     "output_type": "execute_result"
    }
   ],
   "source": [
    "len((path/'docs').ls()) # number of files"
   ]
  },
  {
   "cell_type": "code",
   "execution_count": 12,
   "metadata": {},
   "outputs": [],
   "source": [
    "# Note: doing things in parallel\n",
    "??parallel"
   ]
  },
  {
   "cell_type": "code",
   "execution_count": 23,
   "metadata": {},
   "outputs": [
    {
     "data": {
      "text/html": [],
      "text/plain": [
       "<IPython.core.display.HTML object>"
      ]
     },
     "metadata": {},
     "output_type": "display_data"
    }
   ],
   "source": [
    "# results = parallel(make_lol,(path/'docs').ls())\n",
    "\n",
    "# result_df = pd.DataFrame(results,columns=['fname','text'])"
   ]
  },
  {
   "cell_type": "code",
   "execution_count": 25,
   "metadata": {},
   "outputs": [
    {
     "data": {
      "text/html": [
       "<div>\n",
       "<style scoped>\n",
       "    .dataframe tbody tr th:only-of-type {\n",
       "        vertical-align: middle;\n",
       "    }\n",
       "\n",
       "    .dataframe tbody tr th {\n",
       "        vertical-align: top;\n",
       "    }\n",
       "\n",
       "    .dataframe thead th {\n",
       "        text-align: right;\n",
       "    }\n",
       "</style>\n",
       "<table border=\"1\" class=\"dataframe\">\n",
       "  <thead>\n",
       "    <tr style=\"text-align: right;\">\n",
       "      <th></th>\n",
       "      <th>fname</th>\n",
       "      <th>text</th>\n",
       "    </tr>\n",
       "  </thead>\n",
       "  <tbody>\n",
       "    <tr>\n",
       "      <th>82341</th>\n",
       "      <td>Vấn đề môi trường ở Indonesia</td>\n",
       "      <td>Vấn đề môi trường ở Indonesia\\n\\nthumb|360px|Các nhân viên cứu hỏa Indonesia đang cố gắng để ngăn chặn lửa rừng ở Nam Kalimantan (2015).\\n\\nCác vấn đề môi trường ở Indonesia liên quan đến mật độ dân số cao và công nghiệp hóa nhanh, và chúng thường được ưu tiên thấp hơn do mức nghèo đói cao và quản lý nguồn lực có hạn chế.\\n\\nCác vấn đề bao gồm nạn phá rừng quy mô lớn (phần lớn là bất hợp pháp) và các vụ cháy rừng liên quan gây ra sương mù dầy đặc ở các khu vực phía Tây Indonesia, Malaysia và Singapore; khai thác quá mức các nguồn tài nguyên biển; và các vấn đề về môi trường liên quan đến q...</td>\n",
       "    </tr>\n",
       "    <tr>\n",
       "      <th>82342</th>\n",
       "      <td>Cát Vinh</td>\n",
       "      <td>Cát Vinh\\n\\nCát Vinh (, ? – 528) thủ lĩnh khởi nghĩa nông dân Hà Bắc, là lực lượng lớn mạnh nhất trong phong trào Lục Trấn khởi nghĩa phản kháng nhà Bắc Ngụy.\\n\\nBan đầu Cát Vinh là Trấn tướng của trấn Hoài Sóc. Theo phép của nhà Bắc Ngụy, Trấn tướng đều lấy quý tộc Tiên Ti đảm nhiệm, từ đó suy đoán ông cũng là người Tiên Ti.\\n\\nTháng giêng năm Hiếu Xương thứ 2 (526), nguyên Hoài Sóc trấn binh Tiên Vu Tu Lễ tại thành Tả Nhân, Định Châu lãnh đạo khởi nghĩa. Hoài Sóc trấn tướng Cát Vinh tham gia khởi nghĩa.\\n\\nTháng 8, Nguyên Hồng Nghiệp làm phản, giết Tiên Vu Tu Lễ, xin hàng triều đình. Cát...</td>\n",
       "    </tr>\n",
       "    <tr>\n",
       "      <th>82343</th>\n",
       "      <td>Pye Wacket</td>\n",
       "      <td>Pye Wacket\\n\\nPye Wacket là mật danh của một tên lửa không đối không dạng thấu kính thử nghiệm được chi nhánh Convair của tập đoàn General Dynamics phát triển vào năm 1957. Dự định là một tên lửa phòng thủ cho máy bay ném bom B-70 Valkyrie Mach 3, chương trình đã cho thấy thử nghiệm đường ống gió khí động học rộng rãi và có vẻ đầy hứa hẹn; tuy nhiên việc hủy bỏ B-70 đã loại bỏ yêu cầu đối với tên lửa, và dự án này cũng bị hủy bỏ luôn.\\n\\nDự án \"Pye Wacket\", được chính thức gọi là Chương trình Lenticular Defense Missile (LDM) và theo số dự án WS-740A, được thành lập vào năm 1958 để đáp ứng ...</td>\n",
       "    </tr>\n",
       "    <tr>\n",
       "      <th>82344</th>\n",
       "      <td>Giải cờ vua M-Tel</td>\n",
       "      <td>Giải cờ vua M-Tel\\n\\nGiải cờ vua M-Tel, tên chính thức tiếng Bulgaria: М-Тел Мастърс, tiếng Anh M-Tel Masters là một giải cờ vua thường niên được tổ chức từ năm 2005 đến 2009 tại Sofia, thủ đô của Bulgaria. Giải đấu lấy tên theo nhà tài trợ và cũng là nhà tổ chức, công ty mạng di động hàng đầu của Bulgaria M-Tel. Mỗi năm giải mời 6 đại kiện tướng hàng đầu (thường có hệ số điểm Elo trên 2700) tham dự, thi đấu theo thể thức vòng tròn 2 lượt. Địa điểm thi đấu tại khách sạn 5 sao Grand Hotel Sofia. Do những khó khăn về kinh tế, cũng như một số lý do khách quan nên giải đấu không còn được tổ ch...</td>\n",
       "    </tr>\n",
       "    <tr>\n",
       "      <th>82345</th>\n",
       "      <td>Salzburg</td>\n",
       "      <td>Salzburg\\n\\nSalzburg ( ; ; nghĩa đen là \"Salt Fortress\" hay \"Pháo đài muối\"; tiếng Bayern: \"Soizbuag\") là thủ phủ của tiểu bang cùng tên thuộc Cộng hòa Áo. Với 150.269 dân cư, Salzburg là thành phố lớn thứ tư của Áo sau Viên, Graz và Linz.\\n\\nThị trấn nằm trên địa điểm của khu định cư La Mã trước đây của \"Iuvavum\". Salzburg được thành lập như một tòa giám mục vào năm 696 và trở thành trụ sở của tổng giám mục vào năm 798. Nguồn thu nhập chính của nó là khai thác và buôn bán muối và đôi khi là khai thác vàng. Pháo đài Hohensalzburg, một trong những pháo đài thời trung cổ lớn nhất ở châu Âu, ...</td>\n",
       "    </tr>\n",
       "  </tbody>\n",
       "</table>\n",
       "</div>"
      ],
      "text/plain": [
       "                               fname  \\\n",
       "82341  Vấn đề môi trường ở Indonesia   \n",
       "82342                       Cát Vinh   \n",
       "82343                     Pye Wacket   \n",
       "82344              Giải cờ vua M-Tel   \n",
       "82345                       Salzburg   \n",
       "\n",
       "                                                                                                                                                                                                                                                                                                                                                                                                                                                                                                                                                                                                                          text  \n",
       "82341  Vấn đề môi trường ở Indonesia\\n\\nthumb|360px|Các nhân viên cứu hỏa Indonesia đang cố gắng để ngăn chặn lửa rừng ở Nam Kalimantan (2015).\\n\\nCác vấn đề môi trường ở Indonesia liên quan đến mật độ dân số cao và công nghiệp hóa nhanh, và chúng thường được ưu tiên thấp hơn do mức nghèo đói cao và quản lý nguồn lực có hạn chế.\\n\\nCác vấn đề bao gồm nạn phá rừng quy mô lớn (phần lớn là bất hợp pháp) và các vụ cháy rừng liên quan gây ra sương mù dầy đặc ở các khu vực phía Tây Indonesia, Malaysia và Singapore; khai thác quá mức các nguồn tài nguyên biển; và các vấn đề về môi trường liên quan đến q...  \n",
       "82342  Cát Vinh\\n\\nCát Vinh (, ? – 528) thủ lĩnh khởi nghĩa nông dân Hà Bắc, là lực lượng lớn mạnh nhất trong phong trào Lục Trấn khởi nghĩa phản kháng nhà Bắc Ngụy.\\n\\nBan đầu Cát Vinh là Trấn tướng của trấn Hoài Sóc. Theo phép của nhà Bắc Ngụy, Trấn tướng đều lấy quý tộc Tiên Ti đảm nhiệm, từ đó suy đoán ông cũng là người Tiên Ti.\\n\\nTháng giêng năm Hiếu Xương thứ 2 (526), nguyên Hoài Sóc trấn binh Tiên Vu Tu Lễ tại thành Tả Nhân, Định Châu lãnh đạo khởi nghĩa. Hoài Sóc trấn tướng Cát Vinh tham gia khởi nghĩa.\\n\\nTháng 8, Nguyên Hồng Nghiệp làm phản, giết Tiên Vu Tu Lễ, xin hàng triều đình. Cát...  \n",
       "82343  Pye Wacket\\n\\nPye Wacket là mật danh của một tên lửa không đối không dạng thấu kính thử nghiệm được chi nhánh Convair của tập đoàn General Dynamics phát triển vào năm 1957. Dự định là một tên lửa phòng thủ cho máy bay ném bom B-70 Valkyrie Mach 3, chương trình đã cho thấy thử nghiệm đường ống gió khí động học rộng rãi và có vẻ đầy hứa hẹn; tuy nhiên việc hủy bỏ B-70 đã loại bỏ yêu cầu đối với tên lửa, và dự án này cũng bị hủy bỏ luôn.\\n\\nDự án \"Pye Wacket\", được chính thức gọi là Chương trình Lenticular Defense Missile (LDM) và theo số dự án WS-740A, được thành lập vào năm 1958 để đáp ứng ...  \n",
       "82344  Giải cờ vua M-Tel\\n\\nGiải cờ vua M-Tel, tên chính thức tiếng Bulgaria: М-Тел Мастърс, tiếng Anh M-Tel Masters là một giải cờ vua thường niên được tổ chức từ năm 2005 đến 2009 tại Sofia, thủ đô của Bulgaria. Giải đấu lấy tên theo nhà tài trợ và cũng là nhà tổ chức, công ty mạng di động hàng đầu của Bulgaria M-Tel. Mỗi năm giải mời 6 đại kiện tướng hàng đầu (thường có hệ số điểm Elo trên 2700) tham dự, thi đấu theo thể thức vòng tròn 2 lượt. Địa điểm thi đấu tại khách sạn 5 sao Grand Hotel Sofia. Do những khó khăn về kinh tế, cũng như một số lý do khách quan nên giải đấu không còn được tổ ch...  \n",
       "82345  Salzburg\\n\\nSalzburg ( ; ; nghĩa đen là \"Salt Fortress\" hay \"Pháo đài muối\"; tiếng Bayern: \"Soizbuag\") là thủ phủ của tiểu bang cùng tên thuộc Cộng hòa Áo. Với 150.269 dân cư, Salzburg là thành phố lớn thứ tư của Áo sau Viên, Graz và Linz.\\n\\nThị trấn nằm trên địa điểm của khu định cư La Mã trước đây của \"Iuvavum\". Salzburg được thành lập như một tòa giám mục vào năm 696 và trở thành trụ sở của tổng giám mục vào năm 798. Nguồn thu nhập chính của nó là khai thác và buôn bán muối và đôi khi là khai thác vàng. Pháo đài Hohensalzburg, một trong những pháo đài thời trung cổ lớn nhất ở châu Âu, ...  "
      ]
     },
     "execution_count": 25,
     "metadata": {},
     "output_type": "execute_result"
    }
   ],
   "source": [
    "# result_df.tail()"
   ]
  },
  {
   "cell_type": "code",
   "execution_count": 27,
   "metadata": {},
   "outputs": [],
   "source": [
    "# result_df.to_csv(path/'alltext.csv',index=False)"
   ]
  },
  {
   "cell_type": "markdown",
   "metadata": {},
   "source": [
    "# Build LM wiki"
   ]
  },
  {
   "cell_type": "code",
   "execution_count": 11,
   "metadata": {},
   "outputs": [],
   "source": [
    "# result_df = pd.read_csv(path/'alltext.csv',encoding='utf-8')\n",
    "result_df = pd.read_csv(path/'alltext.csv',encoding='utf-8')"
   ]
  },
  {
   "cell_type": "code",
   "execution_count": 12,
   "metadata": {},
   "outputs": [
    {
     "data": {
      "text/plain": [
       "(82346, 2)"
      ]
     },
     "execution_count": 12,
     "metadata": {},
     "output_type": "execute_result"
    }
   ],
   "source": [
    "result_df.shape"
   ]
  },
  {
   "cell_type": "code",
   "execution_count": 13,
   "metadata": {},
   "outputs": [],
   "source": [
    "vnmese_lm = DataBlock(blocks=TextBlock.from_df('text', is_lm=True),\n",
    "                    get_x=ColReader('text'),\n",
    "                    splitter=RandomSplitter())"
   ]
  },
  {
   "cell_type": "code",
   "execution_count": 14,
   "metadata": {},
   "outputs": [],
   "source": [
    "# bs=64\n",
    "# bs=24\n",
    "# bs=128\n",
    "bs=256"
   ]
  },
  {
   "cell_type": "code",
   "execution_count": 15,
   "metadata": {},
   "outputs": [
    {
     "data": {
      "text/html": [],
      "text/plain": [
       "<IPython.core.display.HTML object>"
      ]
     },
     "metadata": {},
     "output_type": "display_data"
    },
    {
     "name": "stderr",
     "output_type": "stream",
     "text": [
      "/home/quan/anaconda3/envs/fastai_v2/lib/python3.8/site-packages/numpy/core/_asarray.py:83: VisibleDeprecationWarning: Creating an ndarray from ragged nested sequences (which is a list-or-tuple of lists-or-tuples-or ndarrays with different lengths or shapes) is deprecated. If you meant to do this, you must specify 'dtype=object' when creating the ndarray\n",
      "  return array(a, dtype, copy=False, order=order)\n"
     ]
    }
   ],
   "source": [
    "dls = vnmese_lm.dataloaders(result_df, bs=bs, seq_len=72)\n"
   ]
  },
  {
   "cell_type": "markdown",
   "metadata": {},
   "source": [
    "## LM learner"
   ]
  },
  {
   "cell_type": "markdown",
   "metadata": {},
   "source": [
    "### define learner"
   ]
  },
  {
   "cell_type": "code",
   "execution_count": 18,
   "metadata": {},
   "outputs": [],
   "source": [
    "learn = language_model_learner(dls, \n",
    "                               AWD_LSTM, \n",
    "                               metrics=[accuracy, Perplexity()],\n",
    "                               drop_mult=1.0,\n",
    "                               pretrained=False,\n",
    "                               path=path).to_fp16()"
   ]
  },
  {
   "cell_type": "code",
   "execution_count": 19,
   "metadata": {},
   "outputs": [
    {
     "data": {
      "text/plain": [
       "0.05333333333333333"
      ]
     },
     "execution_count": 19,
     "metadata": {},
     "output_type": "execute_result"
    }
   ],
   "source": [
    "lr = 1e-2\n",
    "lr *= bs/48\n",
    "lr"
   ]
  },
  {
   "cell_type": "code",
   "execution_count": 20,
   "metadata": {},
   "outputs": [
    {
     "data": {
      "text/plain": [
       "(fastai.text.learner.LMLearner, fastai.text.models.core.SequentialRNN)"
      ]
     },
     "execution_count": 20,
     "metadata": {},
     "output_type": "execute_result"
    }
   ],
   "source": [
    "type(learn),type(learn.model)"
   ]
  },
  {
   "cell_type": "code",
   "execution_count": 21,
   "metadata": {},
   "outputs": [
    {
     "data": {
      "text/plain": [
       "2"
      ]
     },
     "execution_count": 21,
     "metadata": {},
     "output_type": "execute_result"
    }
   ],
   "source": [
    "len(learn.model)"
   ]
  },
  {
   "cell_type": "code",
   "execution_count": 22,
   "metadata": {},
   "outputs": [],
   "source": [
    "# learn.model[0],learn.model[1]"
   ]
  },
  {
   "cell_type": "code",
   "execution_count": 23,
   "metadata": {},
   "outputs": [],
   "source": [
    "learn.unfreeze() # == learn.opt.freeze_to(0)"
   ]
  },
  {
   "cell_type": "markdown",
   "metadata": {},
   "source": [
    "### Start training"
   ]
  },
  {
   "cell_type": "code",
   "execution_count": 24,
   "metadata": {},
   "outputs": [
    {
     "data": {
      "text/html": [
       "<table border=\"1\" class=\"dataframe\">\n",
       "  <thead>\n",
       "    <tr style=\"text-align: left;\">\n",
       "      <th>epoch</th>\n",
       "      <th>train_loss</th>\n",
       "      <th>valid_loss</th>\n",
       "      <th>accuracy</th>\n",
       "      <th>perplexity</th>\n",
       "      <th>time</th>\n",
       "    </tr>\n",
       "  </thead>\n",
       "  <tbody>\n",
       "    <tr>\n",
       "      <td>0</td>\n",
       "      <td>3.739719</td>\n",
       "      <td>3.662289</td>\n",
       "      <td>0.338946</td>\n",
       "      <td>38.950413</td>\n",
       "      <td>56:04</td>\n",
       "    </tr>\n",
       "    <tr>\n",
       "      <td>1</td>\n",
       "      <td>3.800560</td>\n",
       "      <td>3.711613</td>\n",
       "      <td>0.335228</td>\n",
       "      <td>40.919773</td>\n",
       "      <td>56:04</td>\n",
       "    </tr>\n",
       "    <tr>\n",
       "      <td>2</td>\n",
       "      <td>3.706933</td>\n",
       "      <td>3.631249</td>\n",
       "      <td>0.342857</td>\n",
       "      <td>37.759949</td>\n",
       "      <td>55:37</td>\n",
       "    </tr>\n",
       "    <tr>\n",
       "      <td>3</td>\n",
       "      <td>3.613249</td>\n",
       "      <td>3.568112</td>\n",
       "      <td>0.350157</td>\n",
       "      <td>35.449596</td>\n",
       "      <td>55:10</td>\n",
       "    </tr>\n",
       "    <tr>\n",
       "      <td>4</td>\n",
       "      <td>3.548833</td>\n",
       "      <td>3.499429</td>\n",
       "      <td>0.356900</td>\n",
       "      <td>33.096539</td>\n",
       "      <td>55:14</td>\n",
       "    </tr>\n",
       "    <tr>\n",
       "      <td>5</td>\n",
       "      <td>3.498598</td>\n",
       "      <td>3.421560</td>\n",
       "      <td>0.364736</td>\n",
       "      <td>30.617142</td>\n",
       "      <td>55:24</td>\n",
       "    </tr>\n",
       "    <tr>\n",
       "      <td>6</td>\n",
       "      <td>3.448882</td>\n",
       "      <td>3.324600</td>\n",
       "      <td>0.375716</td>\n",
       "      <td>27.787888</td>\n",
       "      <td>55:16</td>\n",
       "    </tr>\n",
       "    <tr>\n",
       "      <td>7</td>\n",
       "      <td>3.312769</td>\n",
       "      <td>3.221702</td>\n",
       "      <td>0.386235</td>\n",
       "      <td>25.070751</td>\n",
       "      <td>55:11</td>\n",
       "    </tr>\n",
       "    <tr>\n",
       "      <td>8</td>\n",
       "      <td>3.238319</td>\n",
       "      <td>3.113604</td>\n",
       "      <td>0.398766</td>\n",
       "      <td>22.501991</td>\n",
       "      <td>55:03</td>\n",
       "    </tr>\n",
       "    <tr>\n",
       "      <td>9</td>\n",
       "      <td>3.178566</td>\n",
       "      <td>3.021445</td>\n",
       "      <td>0.409993</td>\n",
       "      <td>20.520914</td>\n",
       "      <td>55:10</td>\n",
       "    </tr>\n",
       "    <tr>\n",
       "      <td>10</td>\n",
       "      <td>3.115807</td>\n",
       "      <td>2.986831</td>\n",
       "      <td>0.414585</td>\n",
       "      <td>19.822763</td>\n",
       "      <td>55:21</td>\n",
       "    </tr>\n",
       "  </tbody>\n",
       "</table>"
      ],
      "text/plain": [
       "<IPython.core.display.HTML object>"
      ]
     },
     "metadata": {},
     "output_type": "display_data"
    }
   ],
   "source": [
    "\n",
    "learn.fit_one_cycle(11, lr, moms=(0.8,0.7,0.8))"
   ]
  },
  {
   "cell_type": "code",
   "execution_count": 96,
   "metadata": {},
   "outputs": [
    {
     "data": {
      "text/html": [
       "<table border=\"1\" class=\"dataframe\">\n",
       "  <thead>\n",
       "    <tr style=\"text-align: left;\">\n",
       "      <th>epoch</th>\n",
       "      <th>train_loss</th>\n",
       "      <th>valid_loss</th>\n",
       "      <th>accuracy</th>\n",
       "      <th>perplexity</th>\n",
       "      <th>time</th>\n",
       "    </tr>\n",
       "  </thead>\n",
       "  <tbody>\n",
       "    <tr>\n",
       "      <td>0</td>\n",
       "      <td>6.169965</td>\n",
       "      <td>6.045080</td>\n",
       "      <td>0.118188</td>\n",
       "      <td>422.031403</td>\n",
       "      <td>02:56</td>\n",
       "    </tr>\n",
       "  </tbody>\n",
       "</table>"
      ],
      "text/plain": [
       "<IPython.core.display.HTML object>"
      ]
     },
     "metadata": {},
     "output_type": "display_data"
    }
   ],
   "source": [
    "\n",
    "# learn.fit_one_cycle(1, lr, moms=(0.8,0.7,0.8))"
   ]
  },
  {
   "cell_type": "code",
   "execution_count": 31,
   "metadata": {},
   "outputs": [
    {
     "data": {
      "text/html": [
       "<table border=\"1\" class=\"dataframe\">\n",
       "  <thead>\n",
       "    <tr style=\"text-align: left;\">\n",
       "      <th>epoch</th>\n",
       "      <th>train_loss</th>\n",
       "      <th>valid_loss</th>\n",
       "      <th>accuracy</th>\n",
       "      <th>perplexity</th>\n",
       "      <th>time</th>\n",
       "    </tr>\n",
       "  </thead>\n",
       "  <tbody>\n",
       "    <tr>\n",
       "      <td>0</td>\n",
       "      <td>3.582673</td>\n",
       "      <td>3.351336</td>\n",
       "      <td>0.375087</td>\n",
       "      <td>28.540852</td>\n",
       "      <td>53:39</td>\n",
       "    </tr>\n",
       "  </tbody>\n",
       "</table>"
      ],
      "text/plain": [
       "<IPython.core.display.HTML object>"
      ]
     },
     "metadata": {},
     "output_type": "display_data"
    }
   ],
   "source": [
    "\n",
    "# learn.fit_one_cycle(1, lr, moms=(0.8,0.7,0.8))"
   ]
  },
  {
   "cell_type": "code",
   "execution_count": 89,
   "metadata": {},
   "outputs": [
    {
     "data": {
      "text/html": [
       "<table border=\"1\" class=\"dataframe\">\n",
       "  <thead>\n",
       "    <tr style=\"text-align: left;\">\n",
       "      <th>epoch</th>\n",
       "      <th>train_loss</th>\n",
       "      <th>valid_loss</th>\n",
       "      <th>accuracy</th>\n",
       "      <th>perplexity</th>\n",
       "      <th>time</th>\n",
       "    </tr>\n",
       "  </thead>\n",
       "  <tbody>\n",
       "    <tr>\n",
       "      <td>0</td>\n",
       "      <td>6.727336</td>\n",
       "      <td>6.712237</td>\n",
       "      <td>0.097212</td>\n",
       "      <td>822.408630</td>\n",
       "      <td>01:02</td>\n",
       "    </tr>\n",
       "    <tr>\n",
       "      <td>1</td>\n",
       "      <td>6.591891</td>\n",
       "      <td>6.539766</td>\n",
       "      <td>0.097202</td>\n",
       "      <td>692.124817</td>\n",
       "      <td>01:01</td>\n",
       "    </tr>\n",
       "    <tr>\n",
       "      <td>2</td>\n",
       "      <td>6.492364</td>\n",
       "      <td>6.423313</td>\n",
       "      <td>0.097212</td>\n",
       "      <td>616.040466</td>\n",
       "      <td>01:02</td>\n",
       "    </tr>\n",
       "  </tbody>\n",
       "</table>"
      ],
      "text/plain": [
       "<IPython.core.display.HTML object>"
      ]
     },
     "metadata": {},
     "output_type": "display_data"
    }
   ],
   "source": [
    "\n",
    "# learn.fit_one_cycle(3, lr, moms=(0.8,0.7,0.8))"
   ]
  },
  {
   "cell_type": "code",
   "execution_count": 11,
   "metadata": {},
   "outputs": [
    {
     "data": {
      "text/html": [
       "<table border=\"1\" class=\"dataframe\">\n",
       "  <thead>\n",
       "    <tr style=\"text-align: left;\">\n",
       "      <th>epoch</th>\n",
       "      <th>train_loss</th>\n",
       "      <th>valid_loss</th>\n",
       "      <th>accuracy</th>\n",
       "      <th>perplexity</th>\n",
       "      <th>time</th>\n",
       "    </tr>\n",
       "  </thead>\n",
       "  <tbody>\n",
       "    <tr>\n",
       "      <td>0</td>\n",
       "      <td>6.153887</td>\n",
       "      <td>5.969858</td>\n",
       "      <td>0.119671</td>\n",
       "      <td>391.450165</td>\n",
       "      <td>02:54</td>\n",
       "    </tr>\n",
       "    <tr>\n",
       "      <td>1</td>\n",
       "      <td>4.682713</td>\n",
       "      <td>4.455638</td>\n",
       "      <td>0.261569</td>\n",
       "      <td>86.111069</td>\n",
       "      <td>02:50</td>\n",
       "    </tr>\n",
       "    <tr>\n",
       "      <td>2</td>\n",
       "      <td>4.234314</td>\n",
       "      <td>4.185904</td>\n",
       "      <td>0.289397</td>\n",
       "      <td>65.752914</td>\n",
       "      <td>02:49</td>\n",
       "    </tr>\n",
       "  </tbody>\n",
       "</table>"
      ],
      "text/plain": [
       "<IPython.core.display.HTML object>"
      ]
     },
     "metadata": {},
     "output_type": "display_data"
    }
   ],
   "source": [
    "\n",
    "# learn.fit_one_cycle(3, lr, moms=(0.8,0.7,0.8))"
   ]
  },
  {
   "cell_type": "markdown",
   "metadata": {},
   "source": [
    "### Save model"
   ]
  },
  {
   "cell_type": "code",
   "execution_count": 33,
   "metadata": {},
   "outputs": [
    {
     "name": "stdout",
     "output_type": "stream",
     "text": [
      "/home/quan/.fastai/data/viwiki/models_2\n"
     ]
    }
   ],
   "source": [
    "mdl_path = path/'models_2'\n",
    "print(mdl_path)\n",
    "mdl_path.mkdir(exist_ok=True)"
   ]
  },
  {
   "cell_type": "code",
   "execution_count": 34,
   "metadata": {},
   "outputs": [
    {
     "data": {
      "text/plain": [
       "Path('/home/quan/.fastai/data/viwiki/models_2')"
      ]
     },
     "execution_count": 34,
     "metadata": {},
     "output_type": "execute_result"
    }
   ],
   "source": [
    "mdl_path"
   ]
  },
  {
   "cell_type": "code",
   "execution_count": 32,
   "metadata": {},
   "outputs": [
    {
     "data": {
      "text/plain": [
       "['vi_wt', 'vi_wt_vocab']"
      ]
     },
     "execution_count": 32,
     "metadata": {},
     "output_type": "execute_result"
    }
   ],
   "source": [
    "lm_fns"
   ]
  },
  {
   "cell_type": "code",
   "execution_count": 28,
   "metadata": {},
   "outputs": [
    {
     "data": {
      "text/plain": [
       "Path('/home/quan/.fastai/data/viwiki/models_2/vi_wt.pth')"
      ]
     },
     "execution_count": 28,
     "metadata": {},
     "output_type": "execute_result"
    }
   ],
   "source": [
    "learn.to_fp32().save(mdl_path/lm_fns[0], with_opt=False) \n",
    "# save the state_dict (all possible learnable parameters)"
   ]
  },
  {
   "cell_type": "code",
   "execution_count": 29,
   "metadata": {},
   "outputs": [],
   "source": [
    "if os.path.isfile(mdl_path/(lm_fns[1] + '.pkl')):\n",
    "    os.remove(mdl_path/(lm_fns[1] + '.pkl'))\n",
    "    print(True)"
   ]
  },
  {
   "cell_type": "code",
   "execution_count": 35,
   "metadata": {},
   "outputs": [
    {
     "data": {
      "text/plain": [
       "60008"
      ]
     },
     "execution_count": 35,
     "metadata": {},
     "output_type": "execute_result"
    }
   ],
   "source": [
    "len(learn.dls.vocab)"
   ]
  },
  {
   "cell_type": "code",
   "execution_count": 31,
   "metadata": {},
   "outputs": [],
   "source": [
    "with open(mdl_path/(lm_fns[1] + '.pkl'), 'wb') as f:\n",
    "    pickle.dump(learn.dls.vocab, f) # save list of strings, which are vocabs"
   ]
  },
  {
   "cell_type": "code",
   "execution_count": null,
   "metadata": {},
   "outputs": [],
   "source": []
  },
  {
   "cell_type": "markdown",
   "metadata": {},
   "source": [
    "# Finetuning LM with sentiment analysis data"
   ]
  },
  {
   "cell_type": "markdown",
   "metadata": {},
   "source": [
    "## prepare datablock and dataloaders"
   ]
  },
  {
   "cell_type": "code",
   "execution_count": 38,
   "metadata": {},
   "outputs": [],
   "source": [
    "train_df = pd.read_csv('train.csv')\n",
    "train_df.loc[pd.isna(train_df.comment),'comment']='NA'"
   ]
  },
  {
   "cell_type": "code",
   "execution_count": 39,
   "metadata": {},
   "outputs": [],
   "source": [
    "test_df = pd.read_csv('test.csv')\n",
    "test_df.loc[pd.isna(test_df.comment),'comment']='NA'"
   ]
  },
  {
   "cell_type": "code",
   "execution_count": 40,
   "metadata": {},
   "outputs": [
    {
     "data": {
      "text/html": [
       "<div>\n",
       "<style scoped>\n",
       "    .dataframe tbody tr th:only-of-type {\n",
       "        vertical-align: middle;\n",
       "    }\n",
       "\n",
       "    .dataframe tbody tr th {\n",
       "        vertical-align: top;\n",
       "    }\n",
       "\n",
       "    .dataframe thead th {\n",
       "        text-align: right;\n",
       "    }\n",
       "</style>\n",
       "<table border=\"1\" class=\"dataframe\">\n",
       "  <thead>\n",
       "    <tr style=\"text-align: right;\">\n",
       "      <th></th>\n",
       "      <th>id</th>\n",
       "      <th>comment</th>\n",
       "      <th>label</th>\n",
       "    </tr>\n",
       "  </thead>\n",
       "  <tbody>\n",
       "    <tr>\n",
       "      <th>0</th>\n",
       "      <td>train_000000</td>\n",
       "      <td>Dung dc sp tot cam on \\nshop Đóng gói sản phẩm rất đẹp và chắc chắn Chất lượng sản phẩm tuyệt vời</td>\n",
       "      <td>0.0</td>\n",
       "    </tr>\n",
       "    <tr>\n",
       "      <th>1</th>\n",
       "      <td>train_000001</td>\n",
       "      <td>Chất lượng sản phẩm tuyệt vời . Son mịn nhưng khi đánh lên không như màu trên ảnh</td>\n",
       "      <td>0.0</td>\n",
       "    </tr>\n",
       "    <tr>\n",
       "      <th>2</th>\n",
       "      <td>train_000002</td>\n",
       "      <td>Chất lượng sản phẩm tuyệt vời nhưng k có hộp k có dây giày đen k có tất</td>\n",
       "      <td>0.0</td>\n",
       "    </tr>\n",
       "    <tr>\n",
       "      <th>3</th>\n",
       "      <td>train_000003</td>\n",
       "      <td>:(( Mình hơi thất vọng 1 chút vì mình đã kỳ vọng cuốn sách khá nhiều hi vọng nó sẽ nói về việc học tập của cách sinh viên trường Harvard ra sao những nỗ lực của họ như thế nào 4h sáng? tại sao họ lại phải thức dậy vào thời khắc đấy? sau đó là cả một câu chuyện ra sao. Cái mình thực sự cần ở đây là câu chuyện ẩn dấu trong đó để tự bản thân mỗi người cảm nhận và đi sâu vào lòng người hơn. Còn cuốn sách này chỉ đơn thuần là cuốn sách dạy kĩ năng mà hầu như sách nào cũng đã có. BUồn...</td>\n",
       "      <td>1.0</td>\n",
       "    </tr>\n",
       "    <tr>\n",
       "      <th>4</th>\n",
       "      <td>train_000004</td>\n",
       "      <td>Lần trước mình mua áo gió màu hồng rất ok mà đợt này lại giao 2 cái áo gió chất khác như vải mưa ý :((</td>\n",
       "      <td>1.0</td>\n",
       "    </tr>\n",
       "  </tbody>\n",
       "</table>\n",
       "</div>"
      ],
      "text/plain": [
       "             id  \\\n",
       "0  train_000000   \n",
       "1  train_000001   \n",
       "2  train_000002   \n",
       "3  train_000003   \n",
       "4  train_000004   \n",
       "\n",
       "                                                                                                                                                                                                                                                                                                                                                                                                                                                                                                  comment  \\\n",
       "0                                                                                                                                                                                                                                                                                                                                                                                                       Dung dc sp tot cam on \\nshop Đóng gói sản phẩm rất đẹp và chắc chắn Chất lượng sản phẩm tuyệt vời   \n",
       "1                                                                                                                                                                                                                                                                                                                                                                                                                       Chất lượng sản phẩm tuyệt vời . Son mịn nhưng khi đánh lên không như màu trên ảnh   \n",
       "2                                                                                                                                                                                                                                                                                                                                                                                                                                 Chất lượng sản phẩm tuyệt vời nhưng k có hộp k có dây giày đen k có tất   \n",
       "3  :(( Mình hơi thất vọng 1 chút vì mình đã kỳ vọng cuốn sách khá nhiều hi vọng nó sẽ nói về việc học tập của cách sinh viên trường Harvard ra sao những nỗ lực của họ như thế nào 4h sáng? tại sao họ lại phải thức dậy vào thời khắc đấy? sau đó là cả một câu chuyện ra sao. Cái mình thực sự cần ở đây là câu chuyện ẩn dấu trong đó để tự bản thân mỗi người cảm nhận và đi sâu vào lòng người hơn. Còn cuốn sách này chỉ đơn thuần là cuốn sách dạy kĩ năng mà hầu như sách nào cũng đã có. BUồn...   \n",
       "4                                                                                                                                                                                                                                                                                                                                                                                                  Lần trước mình mua áo gió màu hồng rất ok mà đợt này lại giao 2 cái áo gió chất khác như vải mưa ý :((   \n",
       "\n",
       "   label  \n",
       "0    0.0  \n",
       "1    0.0  \n",
       "2    0.0  \n",
       "3    1.0  \n",
       "4    1.0  "
      ]
     },
     "execution_count": 40,
     "metadata": {},
     "output_type": "execute_result"
    }
   ],
   "source": [
    "df = pd.concat([train_df,test_df], sort=False)\n",
    "df.head()"
   ]
  },
  {
   "cell_type": "code",
   "execution_count": 41,
   "metadata": {},
   "outputs": [
    {
     "data": {
      "text/html": [],
      "text/plain": [
       "<IPython.core.display.HTML object>"
      ]
     },
     "metadata": {},
     "output_type": "display_data"
    },
    {
     "name": "stderr",
     "output_type": "stream",
     "text": [
      "/home/quan/anaconda3/envs/fastai_v2/lib/python3.8/site-packages/numpy/core/_asarray.py:83: VisibleDeprecationWarning: Creating an ndarray from ragged nested sequences (which is a list-or-tuple of lists-or-tuples-or ndarrays with different lengths or shapes) is deprecated. If you meant to do this, you must specify 'dtype=object' when creating the ndarray\n",
      "  return array(a, dtype, copy=False, order=order)\n"
     ]
    }
   ],
   "source": [
    "dls_sen = TextDataLoaders.from_df(df, path=path, text_col='comment', \n",
    "                                  is_lm=True, \n",
    "                                  valid_pct=0.1,\n",
    "                                  seed=42)"
   ]
  },
  {
   "cell_type": "markdown",
   "metadata": {},
   "source": [
    "## Load params and vocab"
   ]
  },
  {
   "cell_type": "code",
   "execution_count": 42,
   "metadata": {},
   "outputs": [
    {
     "data": {
      "text/plain": [
       "['vi_wt', 'vi_wt_vocab']"
      ]
     },
     "execution_count": 42,
     "metadata": {},
     "output_type": "execute_result"
    }
   ],
   "source": [
    "lm_fns"
   ]
  },
  {
   "cell_type": "code",
   "execution_count": 43,
   "metadata": {},
   "outputs": [
    {
     "data": {
      "text/plain": [
       "[Path('/home/quan/.fastai/data/viwiki/models/vi_wt.pth'),\n",
       " Path('/home/quan/.fastai/data/viwiki/models/vi_wt_vocab.pkl')]"
      ]
     },
     "execution_count": 43,
     "metadata": {},
     "output_type": "execute_result"
    }
   ],
   "source": [
    "[mdl_path/(lm_fns[0]+'.pth'),mdl_path/(lm_fns[1] + '.pkl')]\n"
   ]
  },
  {
   "cell_type": "markdown",
   "metadata": {},
   "source": [
    "Recreating def load_pretrained"
   ]
  },
  {
   "cell_type": "code",
   "execution_count": 44,
   "metadata": {},
   "outputs": [],
   "source": [
    "wgts = torch.load(mdl_path/(lm_fns[0]+'.pth'), map_location = lambda storage,loc: storage)"
   ]
  },
  {
   "cell_type": "code",
   "execution_count": 45,
   "metadata": {},
   "outputs": [
    {
     "data": {
      "text/plain": [
       "(torch.Size([60008, 400]), torch.Size([4608, 1152]))"
      ]
     },
     "execution_count": 45,
     "metadata": {},
     "output_type": "execute_result"
    }
   ],
   "source": [
    "wgts['0.encoder.weight'].shape,wgts['0.rnns.0.weight_hh_l0_raw'].shape"
   ]
  },
  {
   "cell_type": "code",
   "execution_count": 46,
   "metadata": {},
   "outputs": [],
   "source": [
    "learn_sen = language_model_learner(dls_sen, \n",
    "                               AWD_LSTM, \n",
    "                               metrics=[accuracy, Perplexity()],\n",
    "                               drop_mult=1.0,\n",
    "                               pretrained_fnames=lm_fns,\n",
    "                               path=path).to_fp16()"
   ]
  },
  {
   "cell_type": "code",
   "execution_count": 47,
   "metadata": {},
   "outputs": [],
   "source": [
    "# bs=64\n",
    "# bs=24\n",
    "bs=256"
   ]
  },
  {
   "cell_type": "code",
   "execution_count": 48,
   "metadata": {},
   "outputs": [],
   "source": [
    "lr = 1e-3\n",
    "lr *= bs/48."
   ]
  },
  {
   "cell_type": "code",
   "execution_count": 49,
   "metadata": {
    "scrolled": true
   },
   "outputs": [
    {
     "data": {
      "text/plain": [
       "5128"
      ]
     },
     "execution_count": 49,
     "metadata": {},
     "output_type": "execute_result"
    }
   ],
   "source": [
    "len(dls_sen.vocab)"
   ]
  },
  {
   "cell_type": "code",
   "execution_count": 50,
   "metadata": {},
   "outputs": [
    {
     "data": {
      "text/plain": [
       "SequentialRNN(\n",
       "  (0): AWD_LSTM(\n",
       "    (encoder): Embedding(5128, 400, padding_idx=1)\n",
       "    (encoder_dp): EmbeddingDropout(\n",
       "      (emb): Embedding(5128, 400, padding_idx=1)\n",
       "    )\n",
       "    (rnns): ModuleList(\n",
       "      (0): WeightDropout(\n",
       "        (module): LSTM(400, 1152, batch_first=True)\n",
       "      )\n",
       "      (1): WeightDropout(\n",
       "        (module): LSTM(1152, 1152, batch_first=True)\n",
       "      )\n",
       "      (2): WeightDropout(\n",
       "        (module): LSTM(1152, 400, batch_first=True)\n",
       "      )\n",
       "    )\n",
       "    (input_dp): RNNDropout()\n",
       "    (hidden_dps): ModuleList(\n",
       "      (0): RNNDropout()\n",
       "      (1): RNNDropout()\n",
       "      (2): RNNDropout()\n",
       "    )\n",
       "  )\n",
       "  (1): LinearDecoder(\n",
       "    (decoder): Linear(in_features=400, out_features=5128, bias=True)\n",
       "    (output_dp): RNNDropout()\n",
       "  )\n",
       ")"
      ]
     },
     "execution_count": 50,
     "metadata": {},
     "output_type": "execute_result"
    }
   ],
   "source": [
    "learn_sen.model"
   ]
  },
  {
   "cell_type": "code",
   "execution_count": 51,
   "metadata": {},
   "outputs": [
    {
     "data": {
      "text/plain": [
       "['torch.Size([4608, 1152]): False',\n",
       " 'torch.Size([4608, 400]): False',\n",
       " 'torch.Size([4608]): False',\n",
       " 'torch.Size([4608]): False',\n",
       " 'torch.Size([4608, 1152]): False',\n",
       " 'torch.Size([4608, 1152]): False',\n",
       " 'torch.Size([4608]): False',\n",
       " 'torch.Size([4608]): False',\n",
       " 'torch.Size([1600, 400]): False',\n",
       " 'torch.Size([1600, 1152]): False',\n",
       " 'torch.Size([1600]): False',\n",
       " 'torch.Size([1600]): False',\n",
       " 'torch.Size([5128, 400]): True',\n",
       " 'torch.Size([5128]): True']"
      ]
     },
     "execution_count": 51,
     "metadata": {},
     "output_type": "execute_result"
    }
   ],
   "source": [
    "[f\"{getattr(i,'shape')}: {i.requires_grad}\" for l in learn_sen.opt.param_lists for i in l]\n",
    "# only the head (last linear layer) is True, since we only finetune the head"
   ]
  },
  {
   "cell_type": "markdown",
   "metadata": {},
   "source": [
    "## training"
   ]
  },
  {
   "cell_type": "code",
   "execution_count": 52,
   "metadata": {},
   "outputs": [
    {
     "data": {
      "text/html": [
       "<table border=\"1\" class=\"dataframe\">\n",
       "  <thead>\n",
       "    <tr style=\"text-align: left;\">\n",
       "      <th>epoch</th>\n",
       "      <th>train_loss</th>\n",
       "      <th>valid_loss</th>\n",
       "      <th>accuracy</th>\n",
       "      <th>perplexity</th>\n",
       "      <th>time</th>\n",
       "    </tr>\n",
       "  </thead>\n",
       "  <tbody>\n",
       "    <tr>\n",
       "      <td>0</td>\n",
       "      <td>4.561561</td>\n",
       "      <td>4.085917</td>\n",
       "      <td>0.320092</td>\n",
       "      <td>59.496471</td>\n",
       "      <td>00:15</td>\n",
       "    </tr>\n",
       "    <tr>\n",
       "      <td>1</td>\n",
       "      <td>4.162527</td>\n",
       "      <td>3.937553</td>\n",
       "      <td>0.332838</td>\n",
       "      <td>51.292919</td>\n",
       "      <td>00:16</td>\n",
       "    </tr>\n",
       "    <tr>\n",
       "      <td>2</td>\n",
       "      <td>4.023841</td>\n",
       "      <td>3.903518</td>\n",
       "      <td>0.335077</td>\n",
       "      <td>49.576576</td>\n",
       "      <td>00:15</td>\n",
       "    </tr>\n",
       "  </tbody>\n",
       "</table>"
      ],
      "text/plain": [
       "<IPython.core.display.HTML object>"
      ]
     },
     "metadata": {},
     "output_type": "display_data"
    }
   ],
   "source": [
    "learn_sen.fit_one_cycle(3, lr*10, moms=(0.8,0.7,0.8))"
   ]
  },
  {
   "cell_type": "code",
   "execution_count": 53,
   "metadata": {},
   "outputs": [
    {
     "data": {
      "text/html": [
       "<table border=\"1\" class=\"dataframe\">\n",
       "  <thead>\n",
       "    <tr style=\"text-align: left;\">\n",
       "      <th>epoch</th>\n",
       "      <th>train_loss</th>\n",
       "      <th>valid_loss</th>\n",
       "      <th>accuracy</th>\n",
       "      <th>perplexity</th>\n",
       "      <th>time</th>\n",
       "    </tr>\n",
       "  </thead>\n",
       "  <tbody>\n",
       "    <tr>\n",
       "      <td>0</td>\n",
       "      <td>3.917189</td>\n",
       "      <td>3.817052</td>\n",
       "      <td>0.343262</td>\n",
       "      <td>45.469982</td>\n",
       "      <td>00:16</td>\n",
       "    </tr>\n",
       "    <tr>\n",
       "      <td>1</td>\n",
       "      <td>3.801542</td>\n",
       "      <td>3.710258</td>\n",
       "      <td>0.354930</td>\n",
       "      <td>40.864330</td>\n",
       "      <td>00:16</td>\n",
       "    </tr>\n",
       "    <tr>\n",
       "      <td>2</td>\n",
       "      <td>3.702930</td>\n",
       "      <td>3.646227</td>\n",
       "      <td>0.361281</td>\n",
       "      <td>38.329762</td>\n",
       "      <td>00:16</td>\n",
       "    </tr>\n",
       "    <tr>\n",
       "      <td>3</td>\n",
       "      <td>3.595436</td>\n",
       "      <td>3.604486</td>\n",
       "      <td>0.366920</td>\n",
       "      <td>36.762775</td>\n",
       "      <td>00:16</td>\n",
       "    </tr>\n",
       "    <tr>\n",
       "      <td>4</td>\n",
       "      <td>3.552714</td>\n",
       "      <td>3.580808</td>\n",
       "      <td>0.370587</td>\n",
       "      <td>35.902554</td>\n",
       "      <td>00:16</td>\n",
       "    </tr>\n",
       "    <tr>\n",
       "      <td>5</td>\n",
       "      <td>3.488484</td>\n",
       "      <td>3.566941</td>\n",
       "      <td>0.371994</td>\n",
       "      <td>35.408108</td>\n",
       "      <td>00:16</td>\n",
       "    </tr>\n",
       "    <tr>\n",
       "      <td>6</td>\n",
       "      <td>3.455432</td>\n",
       "      <td>3.563009</td>\n",
       "      <td>0.373032</td>\n",
       "      <td>35.269146</td>\n",
       "      <td>00:16</td>\n",
       "    </tr>\n",
       "    <tr>\n",
       "      <td>7</td>\n",
       "      <td>3.429385</td>\n",
       "      <td>3.562340</td>\n",
       "      <td>0.373032</td>\n",
       "      <td>35.245586</td>\n",
       "      <td>00:16</td>\n",
       "    </tr>\n",
       "  </tbody>\n",
       "</table>"
      ],
      "text/plain": [
       "<IPython.core.display.HTML object>"
      ]
     },
     "metadata": {},
     "output_type": "display_data"
    }
   ],
   "source": [
    "learn_sen.unfreeze()\n",
    "learn_sen.fit_one_cycle(8, lr)"
   ]
  },
  {
   "cell_type": "code",
   "execution_count": null,
   "metadata": {},
   "outputs": [],
   "source": []
  },
  {
   "cell_type": "code",
   "execution_count": 22,
   "metadata": {},
   "outputs": [
    {
     "data": {
      "text/html": [
       "<table border=\"1\" class=\"dataframe\">\n",
       "  <thead>\n",
       "    <tr style=\"text-align: left;\">\n",
       "      <th>epoch</th>\n",
       "      <th>train_loss</th>\n",
       "      <th>valid_loss</th>\n",
       "      <th>accuracy</th>\n",
       "      <th>perplexity</th>\n",
       "      <th>time</th>\n",
       "    </tr>\n",
       "  </thead>\n",
       "  <tbody>\n",
       "    <tr>\n",
       "      <td>0</td>\n",
       "      <td>4.629779</td>\n",
       "      <td>4.114153</td>\n",
       "      <td>0.319868</td>\n",
       "      <td>61.200378</td>\n",
       "      <td>00:33</td>\n",
       "    </tr>\n",
       "    <tr>\n",
       "      <td>1</td>\n",
       "      <td>4.226692</td>\n",
       "      <td>3.956623</td>\n",
       "      <td>0.331434</td>\n",
       "      <td>52.280468</td>\n",
       "      <td>00:32</td>\n",
       "    </tr>\n",
       "    <tr>\n",
       "      <td>2</td>\n",
       "      <td>4.043056</td>\n",
       "      <td>3.915927</td>\n",
       "      <td>0.335153</td>\n",
       "      <td>50.195576</td>\n",
       "      <td>00:32</td>\n",
       "    </tr>\n",
       "  </tbody>\n",
       "</table>"
      ],
      "text/plain": [
       "<IPython.core.display.HTML object>"
      ]
     },
     "metadata": {},
     "output_type": "display_data"
    }
   ],
   "source": [
    "# learn_sen.fit_one_cycle(3, lr*10, moms=(0.8,0.7,0.8))"
   ]
  },
  {
   "cell_type": "code",
   "execution_count": 23,
   "metadata": {},
   "outputs": [
    {
     "data": {
      "text/html": [
       "<table border=\"1\" class=\"dataframe\">\n",
       "  <thead>\n",
       "    <tr style=\"text-align: left;\">\n",
       "      <th>epoch</th>\n",
       "      <th>train_loss</th>\n",
       "      <th>valid_loss</th>\n",
       "      <th>accuracy</th>\n",
       "      <th>perplexity</th>\n",
       "      <th>time</th>\n",
       "    </tr>\n",
       "  </thead>\n",
       "  <tbody>\n",
       "    <tr>\n",
       "      <td>0</td>\n",
       "      <td>3.970504</td>\n",
       "      <td>3.848961</td>\n",
       "      <td>0.341873</td>\n",
       "      <td>46.944244</td>\n",
       "      <td>00:36</td>\n",
       "    </tr>\n",
       "    <tr>\n",
       "      <td>1</td>\n",
       "      <td>3.876658</td>\n",
       "      <td>3.764037</td>\n",
       "      <td>0.350300</td>\n",
       "      <td>43.122166</td>\n",
       "      <td>00:36</td>\n",
       "    </tr>\n",
       "    <tr>\n",
       "      <td>2</td>\n",
       "      <td>3.775550</td>\n",
       "      <td>3.710275</td>\n",
       "      <td>0.355639</td>\n",
       "      <td>40.865040</td>\n",
       "      <td>00:37</td>\n",
       "    </tr>\n",
       "    <tr>\n",
       "      <td>3</td>\n",
       "      <td>3.702173</td>\n",
       "      <td>3.653225</td>\n",
       "      <td>0.362710</td>\n",
       "      <td>38.598965</td>\n",
       "      <td>00:36</td>\n",
       "    </tr>\n",
       "    <tr>\n",
       "      <td>4</td>\n",
       "      <td>3.634814</td>\n",
       "      <td>3.627688</td>\n",
       "      <td>0.365209</td>\n",
       "      <td>37.625713</td>\n",
       "      <td>00:36</td>\n",
       "    </tr>\n",
       "    <tr>\n",
       "      <td>5</td>\n",
       "      <td>3.563126</td>\n",
       "      <td>3.611554</td>\n",
       "      <td>0.367025</td>\n",
       "      <td>37.023540</td>\n",
       "      <td>00:36</td>\n",
       "    </tr>\n",
       "    <tr>\n",
       "      <td>6</td>\n",
       "      <td>3.509881</td>\n",
       "      <td>3.606653</td>\n",
       "      <td>0.367896</td>\n",
       "      <td>36.842525</td>\n",
       "      <td>00:36</td>\n",
       "    </tr>\n",
       "    <tr>\n",
       "      <td>7</td>\n",
       "      <td>3.499975</td>\n",
       "      <td>3.606580</td>\n",
       "      <td>0.367998</td>\n",
       "      <td>36.839863</td>\n",
       "      <td>00:36</td>\n",
       "    </tr>\n",
       "  </tbody>\n",
       "</table>"
      ],
      "text/plain": [
       "<IPython.core.display.HTML object>"
      ]
     },
     "metadata": {},
     "output_type": "display_data"
    }
   ],
   "source": [
    "# learn_sen.unfreeze()\n",
    "# learn_sen.fit_one_cycle(8, lr)"
   ]
  },
  {
   "cell_type": "code",
   "execution_count": 54,
   "metadata": {},
   "outputs": [],
   "source": [
    "learn_sen.save_encoder('finetuned_sen')"
   ]
  },
  {
   "cell_type": "markdown",
   "metadata": {},
   "source": [
    "# Sentiment classification"
   ]
  },
  {
   "cell_type": "markdown",
   "metadata": {},
   "source": [
    "TODO: Check how word embedding and hidden state are loaded to sentiment model"
   ]
  },
  {
   "cell_type": "code",
   "execution_count": null,
   "metadata": {},
   "outputs": [],
   "source": [
    "# or this https://medium.com/@hiromi_suenaga/deep-learning-2-part-2-lesson-10-422d87c3340c\n",
    "# https://nlp.fast.ai/\n",
    "# watch https://www.youtube.com/watch?v=vnOpEwmtFJ8"
   ]
  },
  {
   "cell_type": "markdown",
   "metadata": {},
   "source": [
    "## prepare text clas datablock and dataloaders"
   ]
  },
  {
   "cell_type": "code",
   "execution_count": 55,
   "metadata": {},
   "outputs": [],
   "source": [
    "# bs=64\n",
    "# bs=24\n",
    "bs=256"
   ]
  },
  {
   "cell_type": "code",
   "execution_count": 56,
   "metadata": {},
   "outputs": [],
   "source": [
    "train_df = pd.read_csv('train.csv')"
   ]
  },
  {
   "cell_type": "code",
   "execution_count": 57,
   "metadata": {},
   "outputs": [],
   "source": [
    "train_df.loc[pd.isna(train_df.comment),'comment']='NA'"
   ]
  },
  {
   "cell_type": "code",
   "execution_count": 58,
   "metadata": {},
   "outputs": [
    {
     "data": {
      "text/html": [
       "<div>\n",
       "<style scoped>\n",
       "    .dataframe tbody tr th:only-of-type {\n",
       "        vertical-align: middle;\n",
       "    }\n",
       "\n",
       "    .dataframe tbody tr th {\n",
       "        vertical-align: top;\n",
       "    }\n",
       "\n",
       "    .dataframe thead th {\n",
       "        text-align: right;\n",
       "    }\n",
       "</style>\n",
       "<table border=\"1\" class=\"dataframe\">\n",
       "  <thead>\n",
       "    <tr style=\"text-align: right;\">\n",
       "      <th></th>\n",
       "      <th>id</th>\n",
       "      <th>comment</th>\n",
       "      <th>label</th>\n",
       "    </tr>\n",
       "  </thead>\n",
       "  <tbody>\n",
       "    <tr>\n",
       "      <th>0</th>\n",
       "      <td>train_000000</td>\n",
       "      <td>Dung dc sp tot cam on \\nshop Đóng gói sản phẩm rất đẹp và chắc chắn Chất lượng sản phẩm tuyệt vời</td>\n",
       "      <td>0</td>\n",
       "    </tr>\n",
       "    <tr>\n",
       "      <th>1</th>\n",
       "      <td>train_000001</td>\n",
       "      <td>Chất lượng sản phẩm tuyệt vời . Son mịn nhưng khi đánh lên không như màu trên ảnh</td>\n",
       "      <td>0</td>\n",
       "    </tr>\n",
       "    <tr>\n",
       "      <th>2</th>\n",
       "      <td>train_000002</td>\n",
       "      <td>Chất lượng sản phẩm tuyệt vời nhưng k có hộp k có dây giày đen k có tất</td>\n",
       "      <td>0</td>\n",
       "    </tr>\n",
       "    <tr>\n",
       "      <th>3</th>\n",
       "      <td>train_000003</td>\n",
       "      <td>:(( Mình hơi thất vọng 1 chút vì mình đã kỳ vọng cuốn sách khá nhiều hi vọng nó sẽ nói về việc học tập của cách sinh viên trường Harvard ra sao những nỗ lực của họ như thế nào 4h sáng? tại sao họ lại phải thức dậy vào thời khắc đấy? sau đó là cả một câu chuyện ra sao. Cái mình thực sự cần ở đây là câu chuyện ẩn dấu trong đó để tự bản thân mỗi người cảm nhận và đi sâu vào lòng người hơn. Còn cuốn sách này chỉ đơn thuần là cuốn sách dạy kĩ năng mà hầu như sách nào cũng đã có. BUồn...</td>\n",
       "      <td>1</td>\n",
       "    </tr>\n",
       "    <tr>\n",
       "      <th>4</th>\n",
       "      <td>train_000004</td>\n",
       "      <td>Lần trước mình mua áo gió màu hồng rất ok mà đợt này lại giao 2 cái áo gió chất khác như vải mưa ý :((</td>\n",
       "      <td>1</td>\n",
       "    </tr>\n",
       "  </tbody>\n",
       "</table>\n",
       "</div>"
      ],
      "text/plain": [
       "             id  \\\n",
       "0  train_000000   \n",
       "1  train_000001   \n",
       "2  train_000002   \n",
       "3  train_000003   \n",
       "4  train_000004   \n",
       "\n",
       "                                                                                                                                                                                                                                                                                                                                                                                                                                                                                                  comment  \\\n",
       "0                                                                                                                                                                                                                                                                                                                                                                                                       Dung dc sp tot cam on \\nshop Đóng gói sản phẩm rất đẹp và chắc chắn Chất lượng sản phẩm tuyệt vời   \n",
       "1                                                                                                                                                                                                                                                                                                                                                                                                                       Chất lượng sản phẩm tuyệt vời . Son mịn nhưng khi đánh lên không như màu trên ảnh   \n",
       "2                                                                                                                                                                                                                                                                                                                                                                                                                                 Chất lượng sản phẩm tuyệt vời nhưng k có hộp k có dây giày đen k có tất   \n",
       "3  :(( Mình hơi thất vọng 1 chút vì mình đã kỳ vọng cuốn sách khá nhiều hi vọng nó sẽ nói về việc học tập của cách sinh viên trường Harvard ra sao những nỗ lực của họ như thế nào 4h sáng? tại sao họ lại phải thức dậy vào thời khắc đấy? sau đó là cả một câu chuyện ra sao. Cái mình thực sự cần ở đây là câu chuyện ẩn dấu trong đó để tự bản thân mỗi người cảm nhận và đi sâu vào lòng người hơn. Còn cuốn sách này chỉ đơn thuần là cuốn sách dạy kĩ năng mà hầu như sách nào cũng đã có. BUồn...   \n",
       "4                                                                                                                                                                                                                                                                                                                                                                                                  Lần trước mình mua áo gió màu hồng rất ok mà đợt này lại giao 2 cái áo gió chất khác như vải mưa ý :((   \n",
       "\n",
       "   label  \n",
       "0      0  \n",
       "1      0  \n",
       "2      0  \n",
       "3      1  \n",
       "4      1  "
      ]
     },
     "execution_count": 58,
     "metadata": {},
     "output_type": "execute_result"
    }
   ],
   "source": [
    "train_df.head()"
   ]
  },
  {
   "cell_type": "code",
   "execution_count": 59,
   "metadata": {},
   "outputs": [
    {
     "data": {
      "text/plain": [
       "0    0.576863\n",
       "1    0.423137\n",
       "Name: label, dtype: float64"
      ]
     },
     "execution_count": 59,
     "metadata": {},
     "output_type": "execute_result"
    }
   ],
   "source": [
    "train_df.label.value_counts(True)"
   ]
  },
  {
   "cell_type": "code",
   "execution_count": 60,
   "metadata": {},
   "outputs": [],
   "source": [
    "sen_db = DataBlock(blocks=(TextBlock.from_df('comment', seq_len=72, vocab=dls_sen.vocab), CategoryBlock),\n",
    "                      get_x=ColReader('text'), # fixed value\n",
    "                      get_y=ColReader('label'),\n",
    "                      splitter=RandomSplitter(valid_pct=0.1))"
   ]
  },
  {
   "cell_type": "code",
   "execution_count": 61,
   "metadata": {},
   "outputs": [
    {
     "data": {
      "text/html": [],
      "text/plain": [
       "<IPython.core.display.HTML object>"
      ]
     },
     "metadata": {},
     "output_type": "display_data"
    },
    {
     "name": "stderr",
     "output_type": "stream",
     "text": [
      "/home/quan/anaconda3/envs/fastai_v2/lib/python3.8/site-packages/numpy/core/_asarray.py:83: VisibleDeprecationWarning: Creating an ndarray from ragged nested sequences (which is a list-or-tuple of lists-or-tuples-or ndarrays with different lengths or shapes) is deprecated. If you meant to do this, you must specify 'dtype=object' when creating the ndarray\n",
      "  return array(a, dtype, copy=False, order=order)\n"
     ]
    }
   ],
   "source": [
    "dls_clas = sen_db.dataloaders(train_df, bs=bs)"
   ]
  },
  {
   "cell_type": "code",
   "execution_count": 62,
   "metadata": {},
   "outputs": [
    {
     "data": {
      "text/plain": [
       "Pipeline: Pad_Chunk -- {'pad_idx': 1, 'pad_first': True, 'seq_len': 72}"
      ]
     },
     "execution_count": 62,
     "metadata": {},
     "output_type": "execute_result"
    }
   ],
   "source": [
    "dls_clas.before_batch # maybe in text dataloader definition"
   ]
  },
  {
   "cell_type": "code",
   "execution_count": 72,
   "metadata": {},
   "outputs": [
    {
     "data": {
      "text/html": [],
      "text/plain": [
       "<IPython.core.display.HTML object>"
      ]
     },
     "metadata": {},
     "output_type": "display_data"
    }
   ],
   "source": [
    "# dls_clas = TextDataLoaders.from_df(train_df, path=path, text_col='comment', \n",
    "#                                    text_vocab = dls_sen.vocab,\n",
    "#                                    label_col='label',\n",
    "#                                   valid_pct=0.1,\n",
    "#                                   seed=42)"
   ]
  },
  {
   "cell_type": "code",
   "execution_count": 130,
   "metadata": {},
   "outputs": [
    {
     "data": {
      "text/html": [
       "<table border=\"1\" class=\"dataframe\">\n",
       "  <thead>\n",
       "    <tr style=\"text-align: right;\">\n",
       "      <th></th>\n",
       "      <th>text</th>\n",
       "      <th>category</th>\n",
       "    </tr>\n",
       "  </thead>\n",
       "  <tbody>\n",
       "    <tr>\n",
       "      <th>0</th>\n",
       "      <td>xxbos xxmaj cuốn này mỏng . đọc một buổi sáng là hết . xxmaj thú thật nó làm tôi hơi thất vọng có thể vì tôi đã kì vọng hơi cao vào tác phẩm xxmaj hàn xxmaj quốc đầu tiên trong đời . xxmaj nhưng thôi tôi sẽ cố gắng nhận xét khách quan nhất có thể . \\n xxmaj tuy đặt vào tình huống đau buồn - sau sự ra đi của một cậu học sinh mới mười sáu tuổi - nhưng xxmaj tôi đã chết vào một ngày nào đó không quá u ám nặng nề . xxmaj thay vì khai thác tột cùng nỗi đau và mất mát , tác giả cố gắng xxunk dịu nó , hàn gắn nó bằng những kí ức tươi đẹp , những suy tư giản dị , gần gũi và những tình cảm chân thành . xxmaj truyện kể theo lời</td>\n",
       "      <td>1</td>\n",
       "    </tr>\n",
       "    <tr>\n",
       "      <th>1</th>\n",
       "      <td>xxbos xxmaj cuốn sách này của xxup tờ xxmaj pi mình không mua mà đọc được nó khi một người bạn giới thiệu và cho mượn .khi đọc xong cuốn sách này thì mình cảm thấy một điều là chưa đủ . \\n xxmaj tác giả chưa đủ trải , câu chuyện chưa đủ ngấm . xxmaj các bạn trẻ khi đọc vào có thể cảm thấy , ừ tác phẩm này rất đời , rất thực ấy chứ . xxmaj nhưng với mình như thế vẫn là chưa đủ cho một tác phẩm mang tính phản ánh xã hội . xxmaj khi mà tác giả mượn những câu chuyện thường ngày , mượn những điều gần gũi , chân thực với mỗi chúng ta để xxunk lộ , cắt lát nhiều khía cạnh cuộc sống thì mình thấy tác giả phải đủ trải hay ít nhất là đủ hiểu</td>\n",
       "      <td>1</td>\n",
       "    </tr>\n",
       "    <tr>\n",
       "      <th>2</th>\n",
       "      <td>xxbos xxmaj mình đặt mua xxmaj tạm biệt em ổn hộ một người bạn . xxup nó siêu thích chị xxup tờ xxmaj pi vì có theo dõi facebook chị ý nó bảo chị ý cá tính status nhiều câu hay và đúng xxunk về , mình có tò mò đọc thử , trước đó mình chưa từng đọc gì liên quan đến chị xxup tờ xxmaj pi cả . \\n xxmaj với quan điểm cá nhân của mình , thì mình không ưng cuốn sách ở lối viết . xxup vì mình hoài cổ lắm , mình thích văn học nhẹ nhàng , bay bổng , mà chị xxup tờ xxmaj pi viết thì trần trụi quá , đúng kiểu văn thô mới là văn thật . \\n xxmaj trong xxmaj tạm biệt , em ổn là những câu chuyện rất thật , rất đời . xxmaj tuy không</td>\n",
       "      <td>1</td>\n",
       "    </tr>\n",
       "  </tbody>\n",
       "</table>"
      ],
      "text/plain": [
       "<IPython.core.display.HTML object>"
      ]
     },
     "metadata": {},
     "output_type": "display_data"
    }
   ],
   "source": [
    "# dls_clas.show_batch(max_n=3)"
   ]
  },
  {
   "cell_type": "markdown",
   "metadata": {},
   "source": [
    "## Training"
   ]
  },
  {
   "cell_type": "markdown",
   "metadata": {},
   "source": [
    "### define sentiment clas learner"
   ]
  },
  {
   "cell_type": "code",
   "execution_count": 63,
   "metadata": {},
   "outputs": [],
   "source": [
    "learn_clas = text_classifier_learner(dls_clas, AWD_LSTM, drop_mult=0.5, \n",
    "                                     metrics=[accuracy,F1Score()],\n",
    "                                    seq_len=72,\n",
    "                                    path=path)"
   ]
  },
  {
   "cell_type": "code",
   "execution_count": 64,
   "metadata": {},
   "outputs": [
    {
     "data": {
      "text/plain": [
       "Path('/home/quan/.fastai/data/viwiki')"
      ]
     },
     "execution_count": 64,
     "metadata": {},
     "output_type": "execute_result"
    }
   ],
   "source": [
    "learn_clas.path"
   ]
  },
  {
   "cell_type": "code",
   "execution_count": 65,
   "metadata": {},
   "outputs": [],
   "source": [
    "learn_clas = learn_clas.load_encoder('finetuned_sen')"
   ]
  },
  {
   "cell_type": "code",
   "execution_count": 66,
   "metadata": {},
   "outputs": [
    {
     "data": {
      "text/plain": [
       "0.10666666666666666"
      ]
     },
     "execution_count": 66,
     "metadata": {},
     "output_type": "execute_result"
    }
   ],
   "source": [
    "lr=2e-2\n",
    "lr *= bs/48\n",
    "lr"
   ]
  },
  {
   "cell_type": "code",
   "execution_count": 67,
   "metadata": {},
   "outputs": [
    {
     "data": {
      "text/plain": [
       "(fastai.text.learner.TextLearner, fastai.text.models.core.SequentialRNN, 2)"
      ]
     },
     "execution_count": 67,
     "metadata": {},
     "output_type": "execute_result"
    }
   ],
   "source": [
    "type(learn_clas),type(learn_clas.model),len(learn_clas.model) # no more LMLearner"
   ]
  },
  {
   "cell_type": "code",
   "execution_count": 196,
   "metadata": {},
   "outputs": [
    {
     "data": {
      "text/plain": [
       "SentenceEncoder(\n",
       "  (module): AWD_LSTM(\n",
       "    (encoder): Embedding(5128, 400, padding_idx=1)\n",
       "    (encoder_dp): EmbeddingDropout(\n",
       "      (emb): Embedding(5128, 400, padding_idx=1)\n",
       "    )\n",
       "    (rnns): ModuleList(\n",
       "      (0): WeightDropout(\n",
       "        (module): LSTM(400, 1152, batch_first=True)\n",
       "      )\n",
       "      (1): WeightDropout(\n",
       "        (module): LSTM(1152, 1152, batch_first=True)\n",
       "      )\n",
       "      (2): WeightDropout(\n",
       "        (module): LSTM(1152, 400, batch_first=True)\n",
       "      )\n",
       "    )\n",
       "    (input_dp): RNNDropout()\n",
       "    (hidden_dps): ModuleList(\n",
       "      (0): RNNDropout()\n",
       "      (1): RNNDropout()\n",
       "      (2): RNNDropout()\n",
       "    )\n",
       "  )\n",
       ")"
      ]
     },
     "execution_count": 196,
     "metadata": {},
     "output_type": "execute_result"
    }
   ],
   "source": [
    "learn_clas.model[0] # same as LMLearner finetuning\n",
    "\n",
    "# The model uses a SentenceEncoder, \n",
    "# which means the texts are passed seq_len tokens at a time, \n",
    "# and WILL ONLY COMPUTE THE GRADIENTS on the last max_len steps (default to 1440)\n",
    "\n",
    "# This will take care of the question: some reviews are long, how to know we have \n",
    "# fetched an entire review before gradient can be computed?"
   ]
  },
  {
   "cell_type": "code",
   "execution_count": 198,
   "metadata": {},
   "outputs": [
    {
     "data": {
      "text/plain": [
       "PoolingLinearClassifier(\n",
       "  (layers): Sequential(\n",
       "    (0): LinBnDrop(\n",
       "      (0): BatchNorm1d(1200, eps=1e-05, momentum=0.1, affine=True, track_running_stats=True)\n",
       "      (1): Dropout(p=0.2, inplace=False)\n",
       "      (2): Linear(in_features=1200, out_features=50, bias=False)\n",
       "      (3): ReLU(inplace=True)\n",
       "    )\n",
       "    (1): LinBnDrop(\n",
       "      (0): BatchNorm1d(50, eps=1e-05, momentum=0.1, affine=True, track_running_stats=True)\n",
       "      (1): Dropout(p=0.1, inplace=False)\n",
       "      (2): Linear(in_features=50, out_features=2, bias=False)\n",
       "    )\n",
       "  )\n",
       ")"
      ]
     },
     "execution_count": 198,
     "metadata": {},
     "output_type": "execute_result"
    }
   ],
   "source": [
    "learn_clas.model[1] # not linear decoder\n",
    "# 1200 is 400*3, or (the size of hidden state activation of last LSTM) * 3\n",
    "# which includes: [last_hidden, max_pool, avg_pool]\n",
    "# learn how that is calculated: https://docs.fast.ai/text.models.core#masked_concat_pool"
   ]
  },
  {
   "cell_type": "markdown",
   "metadata": {},
   "source": [
    "### training"
   ]
  },
  {
   "cell_type": "code",
   "execution_count": 68,
   "metadata": {},
   "outputs": [
    {
     "data": {
      "text/html": [
       "<table border=\"1\" class=\"dataframe\">\n",
       "  <thead>\n",
       "    <tr style=\"text-align: left;\">\n",
       "      <th>epoch</th>\n",
       "      <th>train_loss</th>\n",
       "      <th>valid_loss</th>\n",
       "      <th>accuracy</th>\n",
       "      <th>f1_score</th>\n",
       "      <th>time</th>\n",
       "    </tr>\n",
       "  </thead>\n",
       "  <tbody>\n",
       "    <tr>\n",
       "      <td>0</td>\n",
       "      <td>0.391315</td>\n",
       "      <td>0.309082</td>\n",
       "      <td>0.863806</td>\n",
       "      <td>0.855826</td>\n",
       "      <td>00:05</td>\n",
       "    </tr>\n",
       "    <tr>\n",
       "      <td>1</td>\n",
       "      <td>0.394070</td>\n",
       "      <td>0.264454</td>\n",
       "      <td>0.887438</td>\n",
       "      <td>0.870251</td>\n",
       "      <td>00:05</td>\n",
       "    </tr>\n",
       "    <tr>\n",
       "      <td>2</td>\n",
       "      <td>0.359406</td>\n",
       "      <td>0.260870</td>\n",
       "      <td>0.889304</td>\n",
       "      <td>0.871014</td>\n",
       "      <td>00:05</td>\n",
       "    </tr>\n",
       "  </tbody>\n",
       "</table>"
      ],
      "text/plain": [
       "<IPython.core.display.HTML object>"
      ]
     },
     "metadata": {},
     "output_type": "display_data"
    }
   ],
   "source": [
    "learn_clas.fit_one_cycle(3, lr)"
   ]
  },
  {
   "cell_type": "code",
   "execution_count": 69,
   "metadata": {},
   "outputs": [
    {
     "data": {
      "text/plain": [
       "Path('/home/quan/.fastai/data/viwiki/models/vi_clas.pth')"
      ]
     },
     "execution_count": 69,
     "metadata": {},
     "output_type": "execute_result"
    }
   ],
   "source": [
    "learn_clas.save(f'vi_clas')"
   ]
  },
  {
   "cell_type": "code",
   "execution_count": 70,
   "metadata": {},
   "outputs": [
    {
     "data": {
      "text/html": [
       "<table border=\"1\" class=\"dataframe\">\n",
       "  <thead>\n",
       "    <tr style=\"text-align: left;\">\n",
       "      <th>epoch</th>\n",
       "      <th>train_loss</th>\n",
       "      <th>valid_loss</th>\n",
       "      <th>accuracy</th>\n",
       "      <th>f1_score</th>\n",
       "      <th>time</th>\n",
       "    </tr>\n",
       "  </thead>\n",
       "  <tbody>\n",
       "    <tr>\n",
       "      <td>0</td>\n",
       "      <td>0.333976</td>\n",
       "      <td>0.313808</td>\n",
       "      <td>0.881841</td>\n",
       "      <td>0.872140</td>\n",
       "      <td>00:05</td>\n",
       "    </tr>\n",
       "    <tr>\n",
       "      <td>1</td>\n",
       "      <td>0.276791</td>\n",
       "      <td>0.238934</td>\n",
       "      <td>0.902363</td>\n",
       "      <td>0.884813</td>\n",
       "      <td>00:05</td>\n",
       "    </tr>\n",
       "  </tbody>\n",
       "</table>"
      ],
      "text/plain": [
       "<IPython.core.display.HTML object>"
      ]
     },
     "metadata": {},
     "output_type": "display_data"
    }
   ],
   "source": [
    "learn_clas.freeze_to(-2)\n",
    "learn_clas.fit_one_cycle(2, slice(lr/(2.6**4),lr))"
   ]
  },
  {
   "cell_type": "code",
   "execution_count": 71,
   "metadata": {},
   "outputs": [
    {
     "data": {
      "text/plain": [
       "Path('/home/quan/.fastai/data/viwiki/models/vi_clas.pth')"
      ]
     },
     "execution_count": 71,
     "metadata": {},
     "output_type": "execute_result"
    }
   ],
   "source": [
    "learn_clas.save(f'vi_clas')"
   ]
  },
  {
   "cell_type": "code",
   "execution_count": 72,
   "metadata": {},
   "outputs": [
    {
     "data": {
      "text/html": [
       "<table border=\"1\" class=\"dataframe\">\n",
       "  <thead>\n",
       "    <tr style=\"text-align: left;\">\n",
       "      <th>epoch</th>\n",
       "      <th>train_loss</th>\n",
       "      <th>valid_loss</th>\n",
       "      <th>accuracy</th>\n",
       "      <th>f1_score</th>\n",
       "      <th>time</th>\n",
       "    </tr>\n",
       "  </thead>\n",
       "  <tbody>\n",
       "    <tr>\n",
       "      <td>0</td>\n",
       "      <td>0.237310</td>\n",
       "      <td>0.287528</td>\n",
       "      <td>0.900497</td>\n",
       "      <td>0.888112</td>\n",
       "      <td>00:06</td>\n",
       "    </tr>\n",
       "    <tr>\n",
       "      <td>1</td>\n",
       "      <td>0.198763</td>\n",
       "      <td>0.275911</td>\n",
       "      <td>0.904851</td>\n",
       "      <td>0.887748</td>\n",
       "      <td>00:06</td>\n",
       "    </tr>\n",
       "  </tbody>\n",
       "</table>"
      ],
      "text/plain": [
       "<IPython.core.display.HTML object>"
      ]
     },
     "metadata": {},
     "output_type": "display_data"
    }
   ],
   "source": [
    "learn_clas.freeze_to(-3)\n",
    "learn_clas.fit_one_cycle(2, slice(lr/2/(2.6**4),lr/2))"
   ]
  },
  {
   "cell_type": "code",
   "execution_count": 88,
   "metadata": {},
   "outputs": [],
   "source": [
    "learn_clas.save(f'vi_clas')"
   ]
  },
  {
   "cell_type": "code",
   "execution_count": null,
   "metadata": {},
   "outputs": [],
   "source": []
  },
  {
   "cell_type": "code",
   "execution_count": 82,
   "metadata": {},
   "outputs": [
    {
     "data": {
      "text/html": [
       "<table border=\"1\" class=\"dataframe\">\n",
       "  <thead>\n",
       "    <tr style=\"text-align: left;\">\n",
       "      <th>epoch</th>\n",
       "      <th>train_loss</th>\n",
       "      <th>valid_loss</th>\n",
       "      <th>accuracy</th>\n",
       "      <th>f1_score</th>\n",
       "      <th>time</th>\n",
       "    </tr>\n",
       "  </thead>\n",
       "  <tbody>\n",
       "    <tr>\n",
       "      <td>0</td>\n",
       "      <td>0.389166</td>\n",
       "      <td>0.272311</td>\n",
       "      <td>0.876244</td>\n",
       "      <td>0.867067</td>\n",
       "      <td>00:07</td>\n",
       "    </tr>\n",
       "    <tr>\n",
       "      <td>1</td>\n",
       "      <td>0.361879</td>\n",
       "      <td>0.259818</td>\n",
       "      <td>0.891169</td>\n",
       "      <td>0.881195</td>\n",
       "      <td>00:07</td>\n",
       "    </tr>\n",
       "    <tr>\n",
       "      <td>2</td>\n",
       "      <td>0.373139</td>\n",
       "      <td>0.248702</td>\n",
       "      <td>0.896144</td>\n",
       "      <td>0.883947</td>\n",
       "      <td>00:07</td>\n",
       "    </tr>\n",
       "  </tbody>\n",
       "</table>"
      ],
      "text/plain": [
       "<IPython.core.display.HTML object>"
      ]
     },
     "metadata": {},
     "output_type": "display_data"
    }
   ],
   "source": [
    "# learn_clas.fit_one_cycle(3, lr)"
   ]
  },
  {
   "cell_type": "code",
   "execution_count": 84,
   "metadata": {},
   "outputs": [],
   "source": [
    "# learn_clas.save(f'vi_clas')"
   ]
  },
  {
   "cell_type": "code",
   "execution_count": 85,
   "metadata": {},
   "outputs": [
    {
     "data": {
      "text/html": [
       "<table border=\"1\" class=\"dataframe\">\n",
       "  <thead>\n",
       "    <tr style=\"text-align: left;\">\n",
       "      <th>epoch</th>\n",
       "      <th>train_loss</th>\n",
       "      <th>valid_loss</th>\n",
       "      <th>accuracy</th>\n",
       "      <th>f1_score</th>\n",
       "      <th>time</th>\n",
       "    </tr>\n",
       "  </thead>\n",
       "  <tbody>\n",
       "    <tr>\n",
       "      <td>0</td>\n",
       "      <td>0.332855</td>\n",
       "      <td>0.263983</td>\n",
       "      <td>0.878731</td>\n",
       "      <td>0.852608</td>\n",
       "      <td>00:08</td>\n",
       "    </tr>\n",
       "    <tr>\n",
       "      <td>1</td>\n",
       "      <td>0.236296</td>\n",
       "      <td>0.214972</td>\n",
       "      <td>0.909826</td>\n",
       "      <td>0.896650</td>\n",
       "      <td>00:07</td>\n",
       "    </tr>\n",
       "  </tbody>\n",
       "</table>"
      ],
      "text/plain": [
       "<IPython.core.display.HTML object>"
      ]
     },
     "metadata": {},
     "output_type": "display_data"
    }
   ],
   "source": [
    "# learn_clas.freeze_to(-2)\n",
    "# learn_clas.fit_one_cycle(2, slice(lr/(2.6**4),lr))"
   ]
  },
  {
   "cell_type": "code",
   "execution_count": 86,
   "metadata": {},
   "outputs": [
    {
     "data": {
      "text/html": [
       "<table border=\"1\" class=\"dataframe\">\n",
       "  <thead>\n",
       "    <tr style=\"text-align: left;\">\n",
       "      <th>epoch</th>\n",
       "      <th>train_loss</th>\n",
       "      <th>valid_loss</th>\n",
       "      <th>accuracy</th>\n",
       "      <th>f1_score</th>\n",
       "      <th>time</th>\n",
       "    </tr>\n",
       "  </thead>\n",
       "  <tbody>\n",
       "    <tr>\n",
       "      <td>0</td>\n",
       "      <td>0.259469</td>\n",
       "      <td>0.235889</td>\n",
       "      <td>0.910448</td>\n",
       "      <td>0.900690</td>\n",
       "      <td>00:11</td>\n",
       "    </tr>\n",
       "    <tr>\n",
       "      <td>1</td>\n",
       "      <td>0.201866</td>\n",
       "      <td>0.244321</td>\n",
       "      <td>0.913557</td>\n",
       "      <td>0.903001</td>\n",
       "      <td>00:11</td>\n",
       "    </tr>\n",
       "  </tbody>\n",
       "</table>"
      ],
      "text/plain": [
       "<IPython.core.display.HTML object>"
      ]
     },
     "metadata": {},
     "output_type": "display_data"
    }
   ],
   "source": [
    "learn_clas.freeze_to(-3)\n",
    "learn_clas.fit_one_cycle(2, slice(lr/2/(2.6**4),lr/2))"
   ]
  },
  {
   "cell_type": "code",
   "execution_count": 88,
   "metadata": {},
   "outputs": [],
   "source": [
    "# learn_clas.save(f'vi_clas')"
   ]
  },
  {
   "cell_type": "code",
   "execution_count": null,
   "metadata": {},
   "outputs": [],
   "source": []
  },
  {
   "cell_type": "code",
   "execution_count": 89,
   "metadata": {},
   "outputs": [
    {
     "data": {
      "text/html": [
       "<table border=\"1\" class=\"dataframe\">\n",
       "  <thead>\n",
       "    <tr style=\"text-align: left;\">\n",
       "      <th>epoch</th>\n",
       "      <th>train_loss</th>\n",
       "      <th>valid_loss</th>\n",
       "      <th>accuracy</th>\n",
       "      <th>f1_score</th>\n",
       "      <th>time</th>\n",
       "    </tr>\n",
       "  </thead>\n",
       "  <tbody>\n",
       "    <tr>\n",
       "      <td>0</td>\n",
       "      <td>0.161196</td>\n",
       "      <td>0.448453</td>\n",
       "      <td>0.907960</td>\n",
       "      <td>0.896648</td>\n",
       "      <td>00:16</td>\n",
       "    </tr>\n",
       "  </tbody>\n",
       "</table>"
      ],
      "text/plain": [
       "<IPython.core.display.HTML object>"
      ]
     },
     "metadata": {},
     "output_type": "display_data"
    }
   ],
   "source": [
    "# learn_clas.unfreeze()\n",
    "# learn_clas.fit_one_cycle(1, slice(lr/10/(2.6**4),lr/10))"
   ]
  }
 ],
 "metadata": {
  "kernelspec": {
   "display_name": "Python 3",
   "language": "python",
   "name": "python3"
  },
  "language_info": {
   "codemirror_mode": {
    "name": "ipython",
    "version": 3
   },
   "file_extension": ".py",
   "mimetype": "text/x-python",
   "name": "python",
   "nbconvert_exporter": "python",
   "pygments_lexer": "ipython3",
   "version": "3.8.5"
  },
  "toc": {
   "base_numbering": 1,
   "nav_menu": {},
   "number_sections": true,
   "sideBar": false,
   "skip_h1_title": false,
   "title_cell": "Table of Contents",
   "title_sidebar": "Contents",
   "toc_cell": true,
   "toc_position": {},
   "toc_section_display": true,
   "toc_window_display": true
  },
  "varInspector": {
   "cols": {
    "lenName": 16,
    "lenType": 16,
    "lenVar": 40
   },
   "kernels_config": {
    "python": {
     "delete_cmd_postfix": "",
     "delete_cmd_prefix": "del ",
     "library": "var_list.py",
     "varRefreshCmd": "print(var_dic_list())"
    },
    "r": {
     "delete_cmd_postfix": ") ",
     "delete_cmd_prefix": "rm(",
     "library": "var_list.r",
     "varRefreshCmd": "cat(var_dic_list()) "
    }
   },
   "types_to_exclude": [
    "module",
    "function",
    "builtin_function_or_method",
    "instance",
    "_Feature"
   ],
   "window_display": false
  }
 },
 "nbformat": 4,
 "nbformat_minor": 4
}
