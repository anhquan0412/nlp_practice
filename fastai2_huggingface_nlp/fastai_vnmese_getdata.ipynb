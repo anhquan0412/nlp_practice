{
 "cells": [
  {
   "cell_type": "code",
   "execution_count": 1,
   "metadata": {},
   "outputs": [],
   "source": [
    "%reload_ext autoreload\n",
    "%autoreload 2\n",
    "%matplotlib inline\n",
    "\n",
    "from fastai import *\n",
    "from fastai.text import *"
   ]
  },
  {
   "cell_type": "code",
   "execution_count": 2,
   "metadata": {},
   "outputs": [],
   "source": [
    "from pathlib import Path"
   ]
  },
  {
   "cell_type": "code",
   "execution_count": 3,
   "metadata": {},
   "outputs": [],
   "source": [
    "\n",
    "# from fastai2.text.all import *"
   ]
  },
  {
   "cell_type": "code",
   "execution_count": 4,
   "metadata": {},
   "outputs": [],
   "source": [
    "bs=128\n",
    "# data_path = Config.data_path()"
   ]
  },
  {
   "cell_type": "code",
   "execution_count": 5,
   "metadata": {},
   "outputs": [
    {
     "data": {
      "text/plain": [
       "PosixPath('/home/quan/.fastai/data')"
      ]
     },
     "execution_count": 5,
     "metadata": {},
     "output_type": "execute_result"
    }
   ],
   "source": [
    "data_path = Path('/home/quan/.fastai/data')\n",
    "data_path"
   ]
  },
  {
   "cell_type": "code",
   "execution_count": 6,
   "metadata": {},
   "outputs": [],
   "source": [
    "lang = 'vi'"
   ]
  },
  {
   "cell_type": "code",
   "execution_count": 7,
   "metadata": {},
   "outputs": [],
   "source": [
    "name = f'{lang}wiki'\n",
    "path = data_path/name\n",
    "path.mkdir(exist_ok=True, parents=True)\n",
    "lm_fns = [f'{lang}_wt', f'{lang}_wt_vocab']"
   ]
  },
  {
   "cell_type": "code",
   "execution_count": 8,
   "metadata": {},
   "outputs": [
    {
     "data": {
      "text/plain": [
       "('viwiki',\n",
       " PosixPath('/home/quan/.fastai/data/viwiki'),\n",
       " ['vi_wt', 'vi_wt_vocab'])"
      ]
     },
     "execution_count": 8,
     "metadata": {},
     "output_type": "execute_result"
    }
   ],
   "source": [
    "name,path,lm_fns"
   ]
  },
  {
   "cell_type": "markdown",
   "metadata": {},
   "source": [
    "# Get data"
   ]
  },
  {
   "cell_type": "markdown",
   "metadata": {},
   "source": [
    "## wiki funcs"
   ]
  },
  {
   "cell_type": "code",
   "execution_count": 11,
   "metadata": {},
   "outputs": [],
   "source": [
    "from fastai.basics import *\n",
    "import re\n",
    "\n",
    "\n",
    "def get_wiki(path,lang):\n",
    "    name = f'{lang}wiki'\n",
    "    if (path/name).exists():\n",
    "        print(f\"{path/name} already exists; not downloading\")\n",
    "        return\n",
    "\n",
    "    xml_fn = f\"{lang}wiki-latest-pages-articles.xml\"\n",
    "    zip_fn = f\"{xml_fn}.bz2\"\n",
    "\n",
    "    if not (path/xml_fn).exists():\n",
    "        print(\"downloading...\")\n",
    "        download_url(f'https://dumps.wikimedia.org/{name}/latest/{zip_fn}', path/zip_fn)\n",
    "        print(\"unzipping...\")\n",
    "        bunzip(path/zip_fn)\n",
    "\n",
    "    with working_directory(path):\n",
    "        if not (path/'wikiextractor').exists():\n",
    "            print('Do these steps below and come back!')\n",
    "            return\n",
    "#             os.system('git clone -n https://github.com/attardi/wikiextractor.git')\n",
    "#             os.system('cd wikiextractor')\n",
    "#             os.system('git checkout -b working_branch e4abb4cbd0')\n",
    "#             os.system('cd ..')\n",
    "        print(\"extracting...\")\n",
    "        os.system(\"python wikiextractor/WikiExtractor.py --processes 4 --no_templates \" +\n",
    "            f\"--min_text_length 1800 --filter_disambig_pages --log_file log -b 100G -q {xml_fn}\")\n",
    "    shutil.move(str(path/'text/AA/wiki_00'), str(path/name))\n",
    "    shutil.rmtree(path/'text')\n",
    "\n",
    "\n",
    "def split_wiki(path,lang,encoding='utf-8'):\n",
    "    dest = path/'docs'\n",
    "    name = f'{lang}wiki'\n",
    "    if dest.exists():\n",
    "        print(f\"{dest} already exists; not splitting\")\n",
    "        return dest\n",
    "\n",
    "    dest.mkdir(exist_ok=True, parents=True)\n",
    "    title_re = re.compile(rf'<doc id=\"\\d+\" url=\"https://{lang}.wikipedia.org/wiki\\?curid=\\d+\" title=\"([^\"]+)\">')\n",
    "    lines = (path/name).open(encoding=encoding)\n",
    "    f=None\n",
    "\n",
    "    for i,l in enumerate(lines):\n",
    "        if i%100000 == 0: print(i)\n",
    "        if l.startswith('<doc id=\"'):\n",
    "            title = title_re.findall(l)[0].replace('/','_')\n",
    "            if len(title)>150: continue\n",
    "            if f: f.close()\n",
    "            f = (dest/f'{title}.txt').open('w', encoding=encoding)\n",
    "        elif l.startswith('</doc>'): continue\n",
    "        else: f.write(l)\n",
    "    f.close()\n",
    "    return dest"
   ]
  },
  {
   "cell_type": "markdown",
   "metadata": {},
   "source": [
    "## continue"
   ]
  },
  {
   "cell_type": "code",
   "execution_count": 12,
   "metadata": {},
   "outputs": [
    {
     "name": "stdout",
     "output_type": "stream",
     "text": [
      "extracting...\n"
     ]
    }
   ],
   "source": [
    "get_wiki(path,lang)"
   ]
  },
  {
   "cell_type": "code",
   "execution_count": 13,
   "metadata": {},
   "outputs": [
    {
     "name": "stdout",
     "output_type": "stream",
     "text": [
      "<doc id=\"13\" url=\"https://vi.wikipedia.org/wiki?curid=13\" title=\"Tiếng Việt\">\r\n",
      "Tiếng Việt\r\n",
      "\r\n",
      "Tiếng Việt (chữ Nôm: ), cũng được gọi là tiếng Việt Nam (chữ Nôm: 㗂越南), tiếng Kinh (chữ Nôm: 㗂京) hay Việt ngữ (chữ Nôm: 越語) là ngôn ngữ của người Việt và là ngôn ngữ chính thức tại Việt Nam. Đây là tiếng mẹ đẻ của khoảng 85% dân cư Việt Nam, cùng với hơn 4 triệu Việt kiều. Tiếng Việt còn là ngôn ngữ thứ hai của các dân tộc thiểu số tại Việt Nam, và được công nhận là một ngôn ngữ dân tộc thiểu số tại Cộng hòa Séc.\r\n"
     ]
    }
   ],
   "source": [
    "!head -n4 {path}/{name}"
   ]
  },
  {
   "cell_type": "code",
   "execution_count": 14,
   "metadata": {
    "scrolled": true
   },
   "outputs": [
    {
     "name": "stdout",
     "output_type": "stream",
     "text": [
      "0\n",
      "100000\n",
      "200000\n",
      "300000\n",
      "400000\n",
      "500000\n",
      "600000\n",
      "700000\n",
      "800000\n",
      "900000\n",
      "1000000\n",
      "1100000\n",
      "1200000\n",
      "1300000\n",
      "1400000\n",
      "1500000\n",
      "1600000\n",
      "1700000\n",
      "1800000\n",
      "1900000\n",
      "2000000\n",
      "2100000\n",
      "2200000\n",
      "2300000\n",
      "2400000\n",
      "2500000\n",
      "2600000\n",
      "2700000\n",
      "2800000\n",
      "2900000\n",
      "3000000\n"
     ]
    }
   ],
   "source": [
    "dest = split_wiki(path,lang)"
   ]
  },
  {
   "cell_type": "code",
   "execution_count": 15,
   "metadata": {},
   "outputs": [
    {
     "data": {
      "text/plain": [
       "Path('/home/quan/.fastai/data/viwiki/docs')"
      ]
     },
     "execution_count": 15,
     "metadata": {},
     "output_type": "execute_result"
    }
   ],
   "source": [
    "dest"
   ]
  },
  {
   "cell_type": "code",
   "execution_count": 16,
   "metadata": {},
   "outputs": [
    {
     "data": {
      "text/plain": [
       "(#5) [Path('/home/quan/.fastai/data/viwiki/docs/Doug Emhoff.txt'),Path('/home/quan/.fastai/data/viwiki/docs/HMS Myngs (R06).txt'),Path('/home/quan/.fastai/data/viwiki/docs/Xuân La (phường).txt'),Path('/home/quan/.fastai/data/viwiki/docs/Cung điện Goldstein.txt'),Path('/home/quan/.fastai/data/viwiki/docs/Tứ khố toàn thư.txt')]"
      ]
     },
     "execution_count": 16,
     "metadata": {},
     "output_type": "execute_result"
    }
   ],
   "source": [
    "dest.ls()[:5]"
   ]
  }
 ],
 "metadata": {
  "kernelspec": {
   "display_name": "Python 3",
   "language": "python",
   "name": "python3"
  },
  "language_info": {
   "codemirror_mode": {
    "name": "ipython",
    "version": 3
   },
   "file_extension": ".py",
   "mimetype": "text/x-python",
   "name": "python",
   "nbconvert_exporter": "python",
   "pygments_lexer": "ipython3",
   "version": "3.8.5"
  }
 },
 "nbformat": 4,
 "nbformat_minor": 4
}
